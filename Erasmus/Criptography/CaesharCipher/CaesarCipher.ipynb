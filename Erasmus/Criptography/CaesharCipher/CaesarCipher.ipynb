{
 "cells": [
  {
   "cell_type": "markdown",
   "metadata": {},
   "source": [
    "# Caesar Cipher\n",
    "This code implements the Caesar Cipher, in order to encrypt or decrypt a message."
   ]
  },
  {
   "cell_type": "code",
   "execution_count": 243,
   "metadata": {},
   "outputs": [
    {
     "name": "stdout",
     "output_type": "stream",
     "text": [
      "Requirement already satisfied: Unidecode in c:\\python311\\lib\\site-packages (1.3.8)\n",
      "Note: you may need to restart the kernel to use updated packages.\n"
     ]
    },
    {
     "name": "stderr",
     "output_type": "stream",
     "text": [
      "\n",
      "[notice] A new release of pip available: 22.3 -> 24.0\n",
      "[notice] To update, run: python.exe -m pip install --upgrade pip\n"
     ]
    }
   ],
   "source": [
    "%pip install Unidecode"
   ]
  },
  {
   "cell_type": "markdown",
   "metadata": {},
   "source": [
    "In order to remove national characters, we are going to use unidecode. \n",
    "codecs library allows to read a file that contains polish letters"
   ]
  },
  {
   "cell_type": "code",
   "execution_count": 244,
   "metadata": {},
   "outputs": [],
   "source": [
    "from unidecode import unidecode\n",
    "#unidecode('Naprawdę lubię kryptografię')\n",
    "import codecs"
   ]
  },
  {
   "cell_type": "markdown",
   "metadata": {},
   "source": [
    "This function removes any character that is not a letter or a number, such as spaces, enters, whitespace characters, etc."
   ]
  },
  {
   "cell_type": "code",
   "execution_count": 245,
   "metadata": {},
   "outputs": [],
   "source": [
    "def removeUnnecesaryChars(text):\n",
    "    return ''.join(letter for letter in text if letter.isalpha())\n",
    "#removeUnnecesaryChars('Naprawde lubie kryptografie')"
   ]
  },
  {
   "cell_type": "markdown",
   "metadata": {},
   "source": [
    "This method encrypts a text given a key.\n",
    "1. Converts the text to all uppercase letters.\n",
    "2. Use the following formula to calculate the ascii number of the new letter:\n",
    "\n",
    "- $ord('A') + (ord(character) + key - ord('A')) mod 26$\n",
    "\n",
    "- Calculate the difference between the new letter ($ord(character) + key$) and the first letter of the alphabet 'A'. If the difference is more than 25, start from 0.\n",
    "- We already know the difference between the new letter and 'A', so we can add as many positions as necessary.\n",
    "\n",
    "3. We add the new letter to the ciphertext.\n"
   ]
  },
  {
   "cell_type": "code",
   "execution_count": 246,
   "metadata": {},
   "outputs": [],
   "source": [
    "def encryptText(text, key):\n",
    "    text = text.upper()\n",
    "    print(text)\n",
    "    encrypted_text =''\n",
    "    for character in text:\n",
    "        character_to_num = ord('A') + (ord(character) + key - ord('A'))%26\n",
    "        encrypted_text += chr(character_to_num)\n",
    "    return encrypted_text\n",
    "\n",
    "#encryptText('Naprawdelubiekryptografie',10)"
   ]
  },
  {
   "cell_type": "markdown",
   "metadata": {},
   "source": [
    "To decrypt a text, we use the encryption formula but in the opposite way. That is, instead of adding the key, we subtract it. And instead of starting with the message in uppercase, we start with the message in lowercase."
   ]
  },
  {
   "cell_type": "code",
   "execution_count": 247,
   "metadata": {},
   "outputs": [],
   "source": [
    "def decryptText(text, key):\n",
    "    text = text.lower()\n",
    "    print(text)\n",
    "    decrypted_text = ''\n",
    "    for character in text:\n",
    "        character_to_num = ord('a') + (ord(character) - key - ord('a'))%26\n",
    "        decrypted_text += chr(character_to_num)\n",
    "    return decrypted_text\n",
    "\n",
    "#decryptText('XKZBKGNOVELSOUBIZDYQBKPSO',10)"
   ]
  },
  {
   "cell_type": "markdown",
   "metadata": {},
   "source": [
    "The file that contains our original message is message.txt"
   ]
  },
  {
   "cell_type": "code",
   "execution_count": 248,
   "metadata": {},
   "outputs": [
    {
     "data": {
      "text/plain": [
       "'XKZBKGNOVELSOUBIZDYQBKPSO'"
      ]
     },
     "execution_count": 248,
     "metadata": {},
     "output_type": "execute_result"
    }
   ],
   "source": [
    "file = codecs.open('message.txt','r','utf-8')\n",
    "message = file.read()\n",
    "file.close()\n",
    "message"
   ]
  },
  {
   "cell_type": "markdown",
   "metadata": {},
   "source": [
    "The file where we are writing the encrypted/decrypted message is modified_message.txt"
   ]
  },
  {
   "cell_type": "code",
   "execution_count": 249,
   "metadata": {},
   "outputs": [],
   "source": [
    "file_2 = open('modified_message.txt', 'w')"
   ]
  },
  {
   "cell_type": "markdown",
   "metadata": {},
   "source": [
    "We modify the message so that it is in a valid format. That is, removing unnecessary characters (including numbers) and substituting national characters."
   ]
  },
  {
   "cell_type": "code",
   "execution_count": 250,
   "metadata": {},
   "outputs": [
    {
     "data": {
      "text/plain": [
       "'XKZBKGNOVELSOUBIZDYQBKPSO'"
      ]
     },
     "execution_count": 250,
     "metadata": {},
     "output_type": "execute_result"
    }
   ],
   "source": [
    "message = unidecode(message)\n",
    "message = removeUnnecesaryChars(message)\n",
    "message\n"
   ]
  },
  {
   "cell_type": "markdown",
   "metadata": {},
   "source": [
    "Now we can ask if the user wants to encrypt or decrypt a message and with which key."
   ]
  },
  {
   "cell_type": "code",
   "execution_count": 251,
   "metadata": {},
   "outputs": [
    {
     "name": "stdout",
     "output_type": "stream",
     "text": [
      "xkzbkgnovelsoubizdyqbkpso\n"
     ]
    }
   ],
   "source": [
    "encrypt_option = input('Press 1 for encrypting a message and press 0 for decrypting a message')\n",
    "key = input('Write the key you want to use from 1 to 25')\n",
    "if encrypt_option == '1' and 1 <= int(key) <= 25:\n",
    "    file_2.write(encryptText(message,int(key)))\n",
    "\n",
    "elif encrypt_option == '0' and 1 <= int(key) <= 25:\n",
    "    file_2.write(decryptText(message, int(key)))\n",
    "\n",
    "else:\n",
    "    print('The values introduced are not valid')\n",
    "\n",
    "file_2.close()\n"
   ]
  }
 ],
 "metadata": {
  "kernelspec": {
   "display_name": "Python 3",
   "language": "python",
   "name": "python3"
  },
  "language_info": {
   "codemirror_mode": {
    "name": "ipython",
    "version": 3
   },
   "file_extension": ".py",
   "mimetype": "text/x-python",
   "name": "python",
   "nbconvert_exporter": "python",
   "pygments_lexer": "ipython3",
   "version": "3.11.0"
  }
 },
 "nbformat": 4,
 "nbformat_minor": 2
}
