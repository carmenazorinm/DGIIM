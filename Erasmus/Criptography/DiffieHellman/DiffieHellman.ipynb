{
 "cells": [
  {
   "cell_type": "markdown",
   "metadata": {},
   "source": [
    "# Diffie-Hellman Algorithm\n",
    "This code implements some functions for the Diffie-Hellman Algorithm."
   ]
  },
  {
   "cell_type": "code",
   "execution_count": 11,
   "metadata": {},
   "outputs": [],
   "source": [
    "import math"
   ]
  },
  {
   "cell_type": "code",
   "execution_count": 17,
   "metadata": {},
   "outputs": [
    {
     "name": "stdout",
     "output_type": "stream",
     "text": [
      "1 0 1\n",
      "1 1 0\n",
      "1 -1 1\n",
      "1 3 -1\n"
     ]
    },
    {
     "data": {
      "text/plain": [
       "(1, -4, 3)"
      ]
     },
     "execution_count": 17,
     "metadata": {},
     "output_type": "execute_result"
    }
   ],
   "source": [
    "def extended_euclid(a, b):\n",
    "    if a == 0:\n",
    "        return b, 0, 1\n",
    "    else:\n",
    "        gcd, x, y = extended_euclid(b % a, a)\n",
    "        print(gcd, x, y)\n",
    "        return gcd, y - (b // a) * x, x\n",
    "\n",
    "extended_euclid(8,11)"
   ]
  },
  {
   "cell_type": "code",
   "execution_count": 2,
   "metadata": {},
   "outputs": [],
   "source": [
    "def generator(g,p):\n",
    "    s = set(range(1,p))\n",
    "    gen = set()\n",
    "    for x in s:\n",
    "        gen.add((g**x)%p)\n",
    "    if gen == s:\n",
    "        return True\n",
    "    return False"
   ]
  },
  {
   "cell_type": "markdown",
   "metadata": {},
   "source": [
    "This function calculates the inverse of a number a modulo p."
   ]
  },
  {
   "cell_type": "code",
   "execution_count": 3,
   "metadata": {},
   "outputs": [],
   "source": [
    "def euklid(a, p):\n",
    "    gcd, x, y = extended_euclid(a, p)\n",
    "    if gcd != 1:\n",
    "        raise ValueError(\"Inverse does not exist.\")\n",
    "    return x % p"
   ]
  },
  {
   "cell_type": "code",
   "execution_count": 15,
   "metadata": {},
   "outputs": [
    {
     "name": "stdout",
     "output_type": "stream",
     "text": [
      "123\n"
     ]
    }
   ],
   "source": [
    "p = 1117\n",
    "g = 6\n",
    "h = 527\n",
    "\n",
    "if not generator(g, p):\n",
    "    print(\"g is not a generator of Z∗p.\")\n",
    "else:\n",
    "    square_root = int(math.sqrt(p))\n",
    "    baby_steps = []\n",
    "    for i in range(0,square_root):\n",
    "        baby_steps.append(pow(g,i,p))\n",
    "    i = 1\n",
    "    giant_step = (euklid(pow(g,square_root*i,p),p)*h)%p\n",
    "    while not baby_steps.__contains__(giant_step):\n",
    "        i += 1\n",
    "        giant_step = (euklid(pow(g,square_root*i,p),p)*h)%p\n",
    "    pos_baby_step = baby_steps.index(giant_step)\n",
    "    print(i*square_root+pos_baby_step)\n",
    "\n"
   ]
  }
 ],
 "metadata": {
  "kernelspec": {
   "display_name": "Python 3",
   "language": "python",
   "name": "python3"
  },
  "language_info": {
   "codemirror_mode": {
    "name": "ipython",
    "version": 3
   },
   "file_extension": ".py",
   "mimetype": "text/x-python",
   "name": "python",
   "nbconvert_exporter": "python",
   "pygments_lexer": "ipython3",
   "version": "3.8.10"
  }
 },
 "nbformat": 4,
 "nbformat_minor": 2
}
