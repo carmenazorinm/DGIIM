{
 "cells": [
  {
   "cell_type": "markdown",
   "metadata": {},
   "source": [
    "# Hill Cipher\n",
    "This code implements the Hill Cipher, in order to encrypt or decrypt a message."
   ]
  },
  {
   "cell_type": "code",
   "execution_count": 92,
   "metadata": {},
   "outputs": [
    {
     "name": "stdout",
     "output_type": "stream",
     "text": [
      "Defaulting to user installation because normal site-packages is not writeable\n",
      "Requirement already satisfied: Unidecode in /home/carmenc/.local/lib/python3.8/site-packages (1.3.8)\n",
      "\n",
      "\u001b[1m[\u001b[0m\u001b[34;49mnotice\u001b[0m\u001b[1;39;49m]\u001b[0m\u001b[39;49m A new release of pip is available: \u001b[0m\u001b[31;49m23.1.2\u001b[0m\u001b[39;49m -> \u001b[0m\u001b[32;49m24.0\u001b[0m\n",
      "\u001b[1m[\u001b[0m\u001b[34;49mnotice\u001b[0m\u001b[1;39;49m]\u001b[0m\u001b[39;49m To update, run: \u001b[0m\u001b[32;49mpip install --upgrade pip\u001b[0m\n",
      "Note: you may need to restart the kernel to use updated packages.\n"
     ]
    }
   ],
   "source": [
    "%pip install Unidecode"
   ]
  },
  {
   "cell_type": "markdown",
   "metadata": {},
   "source": [
    "In order to remove national characters, we are going to use unidecode. \n",
    "codecs library allows to read a file that contains polish letters"
   ]
  },
  {
   "cell_type": "code",
   "execution_count": 93,
   "metadata": {},
   "outputs": [],
   "source": [
    "from unidecode import unidecode\n",
    "#unidecode('Naprawdę lubię kryptografię')\n",
    "import codecs"
   ]
  },
  {
   "cell_type": "markdown",
   "metadata": {},
   "source": [
    "Since the algorithm uses matrices, we need numpy to make it work"
   ]
  },
  {
   "cell_type": "code",
   "execution_count": 94,
   "metadata": {},
   "outputs": [],
   "source": [
    "import numpy as np\n",
    "import math"
   ]
  },
  {
   "cell_type": "markdown",
   "metadata": {},
   "source": [
    "This function removes any character that is not a letter or a number, such as spaces, enters, whitespace characters, etc."
   ]
  },
  {
   "cell_type": "code",
   "execution_count": 95,
   "metadata": {},
   "outputs": [],
   "source": [
    "def removeUnnecesaryChars(text):\n",
    "    return ''.join(letter for letter in text if letter.isalpha())\n",
    "#removeUnnecesaryChars('Naprawde lubie kryptografie')"
   ]
  },
  {
   "cell_type": "markdown",
   "metadata": {},
   "source": [
    "This function calculates the inverse of a number A modulo M."
   ]
  },
  {
   "cell_type": "code",
   "execution_count": 132,
   "metadata": {},
   "outputs": [],
   "source": [
    "def modInverse(A, M):\n",
    " \n",
    "    for X in range(1, M):\n",
    "        if ((A* X) % M == 1):\n",
    "            return X\n",
    "    return -1"
   ]
  },
  {
   "cell_type": "markdown",
   "metadata": {},
   "source": [
    "This function calculates the inverse of a matrix of dimension 3x3. First, it calculates the inverse of the determinant using the function above. \n",
    "Then we calculate the matrix inverse using the formula in the book."
   ]
  },
  {
   "cell_type": "code",
   "execution_count": 97,
   "metadata": {},
   "outputs": [
    {
     "name": "stdout",
     "output_type": "stream",
     "text": [
      "25\n"
     ]
    },
    {
     "data": {
      "text/plain": [
       "array([[ 8,  5, 10],\n",
       "       [21,  8, 21],\n",
       "       [21, 12,  8]])"
      ]
     },
     "execution_count": 97,
     "metadata": {},
     "output_type": "execute_result"
    }
   ],
   "source": [
    "def inverseMatrixDim3(matrix):\n",
    "    detMatrix = int(np.linalg.det(matrix))\n",
    "    inverseDetMatrix = modInverse(detMatrix%26,26)\n",
    "\n",
    "    a = matrix[0,0]\n",
    "    b = matrix[0,1]\n",
    "    c = matrix[0,2]\n",
    "    d = matrix[1,0]\n",
    "    e = matrix[1,1]\n",
    "    f = matrix[1,2]\n",
    "    g = matrix[2,0]\n",
    "    h = matrix[2,1]\n",
    "    i = matrix[2,2]\n",
    "\n",
    "    inverse = np.array([[e*i-f*h,c*h-b*i,b*f-c*e],\n",
    "                        [f*g-d*i,a*i-c*g,c*d-a*f],\n",
    "                        [d*h-e*g,b*g-a*h,a*e-b*d]])\n",
    "    \n",
    "    for r in range(3):\n",
    "        for c in range(3):\n",
    "            inverse[r,c] = ((inverse[r,c]%26)*inverseDetMatrix)%26\n",
    "    return inverse\n",
    "\n",
    "#inverseMatrixDim3(np.array([[ 6, 24,  1],[13, 16, 10],[20, 17, 15]]))"
   ]
  },
  {
   "cell_type": "markdown",
   "metadata": {},
   "source": [
    "This function calculates the inverse of a matrix of dimension 2x2. It also uses the formula in the book."
   ]
  },
  {
   "cell_type": "code",
   "execution_count": 98,
   "metadata": {},
   "outputs": [
    {
     "data": {
      "text/plain": [
       "array([[22,  0],\n",
       "       [ 6,  7]])"
      ]
     },
     "execution_count": 98,
     "metadata": {},
     "output_type": "execute_result"
    }
   ],
   "source": [
    "def inverseMatrixDim2(matrix):\n",
    "    inverse = np.array([[0,0],[0,0]])\n",
    "    detMatrix = int(np.linalg.det(matrix))\n",
    "    inverseDetMatrix = modInverse(detMatrix,26)\n",
    "    inverse[0,0] = (matrix[1,1]*inverseDetMatrix)%26\n",
    "    inverse[0,1] = (-matrix[0,1]*inverseDetMatrix)%26\n",
    "    inverse[1,0] = (-matrix[1,0]*inverseDetMatrix)%26\n",
    "    inverse[1,1] = (matrix[0,0]*inverseDetMatrix)%26\n",
    "    return inverse\n",
    "    \n",
    "# inverseMatrixDim2(np.array([[19,  0, 13],[ 6,  4, 17],[ 8, 13,  4]])) "
   ]
  },
  {
   "cell_type": "markdown",
   "metadata": {},
   "source": [
    "This function calculates a matrix of numbers given a string of letters. \n",
    "It receives dim1 as an argument, which is the number of columns in the resulting matrix. \n",
    "The number of rows depends on the number of columns and the length of the string. If there are some positions in the last row left, we fill them with random numbers between 0 and 25.\n",
    "\n",
    "So we create a matrix text_matrix with size (dim0,dim1) and fil it with random numbers modulo 26. Then convert each character of the text to a number and we fill the matrix using those numbers."
   ]
  },
  {
   "cell_type": "code",
   "execution_count": 99,
   "metadata": {},
   "outputs": [
    {
     "data": {
      "text/plain": [
       "array([[ 6, 24,  1],\n",
       "       [13, 16, 10],\n",
       "       [20, 17, 15]])"
      ]
     },
     "execution_count": 99,
     "metadata": {},
     "output_type": "execute_result"
    }
   ],
   "source": [
    "def stringToMatrix(text,dim1):\n",
    "    text = text.lower()\n",
    "    dim0 = int(len(text)/dim1 + len(text)%dim1)\n",
    "    text_matrix = np.random.randint(0,25,(dim0, dim1))\n",
    "    row = 0\n",
    "    column = 0\n",
    "    for character in text:\n",
    "        number = (ord(character) - ord('a'))%26\n",
    "        text_matrix[row,column] = number\n",
    "        if(column == dim1-1):\n",
    "            row += 1\n",
    "        column = (column+1)%dim1\n",
    "    return text_matrix\n",
    "\n",
    "# stringToMatrix(\"GYBNQKURP\",3)\n"
   ]
  },
  {
   "cell_type": "markdown",
   "metadata": {},
   "source": [
    "the key is correct if the key can be converted to a matrix nxn. Also, we need the matrix of the key be invertible. We know that a matrix is invertible modulo 26 if and only if gcd(determinant,26)=1."
   ]
  },
  {
   "cell_type": "code",
   "execution_count": 100,
   "metadata": {},
   "outputs": [],
   "source": [
    "def isCorrectKey(key,dim):\n",
    "    if len(key) != dim*dim:\n",
    "        return False\n",
    "    key_matrix = stringToMatrix(key,dim)\n",
    "    determinant = np.linalg.det(key_matrix)\n",
    "    if(math.gcd(int(determinant),26) != 1):\n",
    "        return False\n",
    "    return True\n"
   ]
  },
  {
   "cell_type": "markdown",
   "metadata": {},
   "source": [
    "For encrypting the text with the key:\n",
    "\n",
    "1.- Separate each row of the text converted to matrix\n",
    "\n",
    "2.- Make the product of the key matrix and the row modulo 26\n",
    "\n",
    "3.- Finally convert the numbers of the product to letters"
   ]
  },
  {
   "cell_type": "code",
   "execution_count": 112,
   "metadata": {},
   "outputs": [
    {
     "data": {
      "text/plain": [
       "'poh'"
      ]
     },
     "execution_count": 112,
     "metadata": {},
     "output_type": "execute_result"
    }
   ],
   "source": [
    "def encryptText(text, key, dim):\n",
    "   encrypted_text = \"\"\n",
    "   for row in stringToMatrix(text, dim):\n",
    "      block = (np.matmul(stringToMatrix(key,dim),row))%26\n",
    "      for number in block:\n",
    "         encrypted_text += chr(ord('a') + int(number))\n",
    "   return encrypted_text\n",
    "\n",
    "# encryptText(\"act\",\"GYBNQKURP\",3)"
   ]
  },
  {
   "cell_type": "markdown",
   "metadata": {},
   "source": [
    "For decrypting the text with the key:\n",
    "\n",
    "1.- Calculate the inverse matrix of the key, depending on the dimension\n",
    "\n",
    "2.- Separate the text matrix in rows \n",
    "\n",
    "3.- Calculate the product of the inverse matrix and the row modulo 26\n",
    "\n",
    "4.- Convert the final product to letters to get the decrypted text"
   ]
  },
  {
   "cell_type": "code",
   "execution_count": 102,
   "metadata": {},
   "outputs": [
    {
     "name": "stdout",
     "output_type": "stream",
     "text": [
      "25\n",
      "[[ 8  5 10]\n",
      " [21  8 21]\n",
      " [21 12  8]]\n"
     ]
    },
    {
     "data": {
      "text/plain": [
       "'act'"
      ]
     },
     "execution_count": 102,
     "metadata": {},
     "output_type": "execute_result"
    }
   ],
   "source": [
    "def decryptText(text, key, dim):\n",
    "    decrypted_text = \"\"\n",
    "    if dim==2:\n",
    "        inverse_key_matrix = inverseMatrixDim2(stringToMatrix(key,2))\n",
    "    elif dim == 3:\n",
    "        inverse_key_matrix = inverseMatrixDim3(stringToMatrix(key,3))\n",
    "    else:\n",
    "        return \"This dimension is not available yet\"\n",
    "\n",
    "    for row in stringToMatrix(text,dim):\n",
    "        block = np.matmul(inverse_key_matrix,row)\n",
    "        for number in block:\n",
    "            decrypted_text += chr(ord('a') + int(number)%26)\n",
    "    return decrypted_text\n",
    "\n",
    "# decryptText(\"poh\",\"GYBNQKURP\",3)"
   ]
  },
  {
   "cell_type": "markdown",
   "metadata": {},
   "source": [
    "We read the text and modify it, if necessary, so that it is in a valid format. That is, removing unnecessary characters (including numbers) and substituting national characters."
   ]
  },
  {
   "cell_type": "code",
   "execution_count": 128,
   "metadata": {},
   "outputs": [],
   "source": [
    "file = codecs.open('text.txt','r','utf-8')\n",
    "text = file.read()\n",
    "file.close()\n",
    "\n",
    "text = text.lower()\n",
    "text = unidecode(text)\n",
    "text = removeUnnecesaryChars(text)"
   ]
  },
  {
   "cell_type": "markdown",
   "metadata": {},
   "source": [
    "Reading the key from key.txt and checking that the key is valid"
   ]
  },
  {
   "cell_type": "code",
   "execution_count": 129,
   "metadata": {},
   "outputs": [],
   "source": [
    "file = codecs.open('key.txt','r','utf-8')\n",
    "key = file.read()\n",
    "file.close()\n",
    "\n",
    "key = key.lower()\n",
    "correct_key = isCorrectKey(key,2)"
   ]
  },
  {
   "cell_type": "markdown",
   "metadata": {},
   "source": [
    "Now we ask if the user wants to encrypt or decrypt the message and save the result in the corresponding file."
   ]
  },
  {
   "cell_type": "code",
   "execution_count": 131,
   "metadata": {},
   "outputs": [],
   "source": [
    "encrypt_option = input('Press 1 for encrypting a message and press 0 for decrypting a message')\n",
    "if encrypt_option == '1' and correct_key:\n",
    "    file = open('text_en.txt', 'w')\n",
    "    file.write(str(encryptText(text,key,2)))\n",
    "\n",
    "elif encrypt_option == '0' and correct_key:\n",
    "    file = open('text_de.txt', 'w')\n",
    "    file.write(str(decryptText(text, key,2)))\n",
    "\n",
    "else:\n",
    "    print('The values introduced are not valid')\n",
    "\n",
    "file.close()"
   ]
  }
 ],
 "metadata": {
  "kernelspec": {
   "display_name": "Python 3",
   "language": "python",
   "name": "python3"
  },
  "language_info": {
   "codemirror_mode": {
    "name": "ipython",
    "version": 3
   },
   "file_extension": ".py",
   "mimetype": "text/x-python",
   "name": "python",
   "nbconvert_exporter": "python",
   "pygments_lexer": "ipython3",
   "version": "3.8.10"
  }
 },
 "nbformat": 4,
 "nbformat_minor": 2
}
