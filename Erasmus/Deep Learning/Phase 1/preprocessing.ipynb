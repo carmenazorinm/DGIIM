{
 "cells": [
  {
   "cell_type": "markdown",
   "metadata": {},
   "source": [
    "This code downloads and unzips a file from https://git.io/J0fjL URL and extracts the .tgz file to a specified \"Datasets/IAM_Words\" directory. Then this file is extracted into the same path, the 'words' directory. "
   ]
  },
  {
   "cell_type": "code",
   "execution_count": 20,
   "metadata": {},
   "outputs": [
    {
     "name": "stdout",
     "output_type": "stream",
     "text": [
      "File downloaded and extracted successfully!\n"
     ]
    }
   ],
   "source": [
    "import os\n",
    "import requests\n",
    "import zipfile\n",
    "\n",
    "url = \"https://git.io/J0fjL\"\n",
    "output_dir = \"Datasets/IAM_Words\"\n",
    "\n",
    "# Create the output directory if it doesn't exist\n",
    "os.makedirs(output_dir, exist_ok=True)\n",
    "\n",
    "# Download the file\n",
    "file_path = os.path.join(output_dir, \"file.zip\")\n",
    "if not os.path.exists(file_path):\n",
    "    response = requests.get(url)\n",
    "    with open(file_path, \"wb\") as file:\n",
    "        file.write(response.content)\n",
    "\n",
    "# Extract the ZIP file\n",
    "with zipfile.ZipFile(file_path, \"r\") as zip_ref:\n",
    "    zip_ref.extractall(output_dir)\n",
    "\n",
    "# Check if the 'iamdb' directory exists\n",
    "iamdb_dir = os.path.join(output_dir, \"iamdb\")\n",
    "if os.path.exists(iamdb_dir):\n",
    "    # Move the 'iamdb' directory to 'words'\n",
    "    words_dir = os.path.join(output_dir, \"words\")\n",
    "    os.rename(iamdb_dir, words_dir)\n",
    "\n",
    "# Clean up the downloaded ZIP file\n",
    "os.remove(file_path)\n",
    "\n",
    "print(\"File downloaded and extracted successfully!\")"
   ]
  },
  {
   "cell_type": "code",
   "execution_count": 31,
   "metadata": {},
   "outputs": [
    {
     "name": "stderr",
     "output_type": "stream",
     "text": [
      "  0%|          | 18/115338 [00:00<00:03, 37154.27it/s]"
     ]
    },
    {
     "name": "stderr",
     "output_type": "stream",
     "text": [
      "\n"
     ]
    },
    {
     "ename": "ValueError",
     "evalue": "Couldn't find a manager called 'FS' - found 0 managers: []",
     "output_type": "error",
     "traceback": [
      "\u001b[0;31m---------------------------------------------------------------------------\u001b[0m",
      "\u001b[0;31mValueError\u001b[0m                                Traceback (most recent call last)",
      "Cell \u001b[0;32mIn[31], line 22\u001b[0m\n\u001b[1;32m     19\u001b[0m label \u001b[39m=\u001b[39m line_split[\u001b[39m-\u001b[39m\u001b[39m1\u001b[39m]\u001b[39m.\u001b[39mrstrip(\u001b[39m'\u001b[39m\u001b[39m\\n\u001b[39;00m\u001b[39m'\u001b[39m)\n\u001b[1;32m     21\u001b[0m rel_path \u001b[39m=\u001b[39m stow\u001b[39m.\u001b[39mjoin(output_dir, \u001b[39m\"\u001b[39m\u001b[39mwords\u001b[39m\u001b[39m\"\u001b[39m, folder1, folder2, file_name)\n\u001b[0;32m---> 22\u001b[0m \u001b[39mif\u001b[39;00m \u001b[39mnot\u001b[39;00m stow\u001b[39m.\u001b[39;49mexists(rel_path):\n\u001b[1;32m     23\u001b[0m     \u001b[39mcontinue\u001b[39;00m\n\u001b[1;32m     25\u001b[0m dataset\u001b[39m.\u001b[39mappend([rel_path, label])\n",
      "File \u001b[0;32m~/.local/lib/python3.8/site-packages/stow/manager/manager.py:546\u001b[0m, in \u001b[0;36mManager.exists\u001b[0;34m(self, artefact)\u001b[0m\n\u001b[1;32m    534\u001b[0m \u001b[39mdef\u001b[39;00m \u001b[39mexists\u001b[39m(\u001b[39mself\u001b[39m, artefact: typing\u001b[39m.\u001b[39mUnion[Artefact, \u001b[39mstr\u001b[39m]) \u001b[39m-\u001b[39m\u001b[39m>\u001b[39m \u001b[39mbool\u001b[39m:\n\u001b[1;32m    535\u001b[0m \u001b[39m    \u001b[39m\u001b[39m\"\"\" Return true if the given artefact is a member of the manager, or the path is correct for the manager and it\u001b[39;00m\n\u001b[1;32m    536\u001b[0m \u001b[39m    leads to a File or Directory.\u001b[39;00m\n\u001b[1;32m    537\u001b[0m \n\u001b[0;32m   (...)\u001b[0m\n\u001b[1;32m    544\u001b[0m \u001b[39m        bool: True if artefact exists else False\u001b[39;00m\n\u001b[1;32m    545\u001b[0m \u001b[39m    \"\"\"\u001b[39;00m\n\u001b[0;32m--> 546\u001b[0m     manager, _, path \u001b[39m=\u001b[39m \u001b[39mself\u001b[39;49m\u001b[39m.\u001b[39;49m_splitManagerArtefactForm(artefact, load\u001b[39m=\u001b[39;49m\u001b[39mFalse\u001b[39;49;00m)\n\u001b[1;32m    547\u001b[0m     \u001b[39mreturn\u001b[39;00m manager\u001b[39m.\u001b[39m_exists(path)\n",
      "File \u001b[0;32m~/.local/lib/python3.8/site-packages/stow/manager/manager.py:170\u001b[0m, in \u001b[0;36mManager._splitManagerArtefactForm\u001b[0;34m(self, artefact, load, require)\u001b[0m\n\u001b[1;32m    156\u001b[0m \u001b[39m\u001b[39m\u001b[39m\"\"\" Convert the incoming object which could be either an artefact or relative path into a standardised form for\u001b[39;00m\n\u001b[1;32m    157\u001b[0m \u001b[39mboth such that functions can be easily convert and use what they require\u001b[39;00m\n\u001b[1;32m    158\u001b[0m \n\u001b[0;32m   (...)\u001b[0m\n\u001b[1;32m    165\u001b[0m \u001b[39m    str: The relative path of the object/the passed value\u001b[39;00m\n\u001b[1;32m    166\u001b[0m \u001b[39m\"\"\"\u001b[39;00m\n\u001b[1;32m    169\u001b[0m \u001b[39mif\u001b[39;00m \u001b[39mself\u001b[39m\u001b[39m.\u001b[39m\u001b[39m__class__\u001b[39m \u001b[39m==\u001b[39m Manager:\n\u001b[0;32m--> 170\u001b[0m     \u001b[39mreturn\u001b[39;00m \u001b[39mself\u001b[39;49m\u001b[39m.\u001b[39;49m_splitExternalArtefactForm(artefact, load\u001b[39m=\u001b[39;49mload, require\u001b[39m=\u001b[39;49mrequire)\n\u001b[1;32m    172\u001b[0m \u001b[39melif\u001b[39;00m \u001b[39misinstance\u001b[39m(artefact, Artefact):\n\u001b[1;32m    173\u001b[0m     \u001b[39mreturn\u001b[39;00m artefact\u001b[39m.\u001b[39mmanager, artefact, artefact\u001b[39m.\u001b[39mpath\n",
      "File \u001b[0;32m~/.local/lib/python3.8/site-packages/stow/manager/manager.py:130\u001b[0m, in \u001b[0;36mManager._splitExternalArtefactForm\u001b[0;34m(self, artefact, load, require)\u001b[0m\n\u001b[1;32m    127\u001b[0m     path \u001b[39m=\u001b[39m manager\u001b[39m.\u001b[39m_cwd()\n\u001b[1;32m    129\u001b[0m \u001b[39melif\u001b[39;00m \u001b[39misinstance\u001b[39m(artefact, \u001b[39mstr\u001b[39m):\n\u001b[0;32m--> 130\u001b[0m     manager, path \u001b[39m=\u001b[39m utils\u001b[39m.\u001b[39;49mparseURL(artefact)\n\u001b[1;32m    132\u001b[0m \u001b[39melse\u001b[39;00m:\n\u001b[1;32m    133\u001b[0m     t \u001b[39m=\u001b[39m \u001b[39mtype\u001b[39m(artefact)\n",
      "File \u001b[0;32m~/.local/lib/python3.8/site-packages/stow/_utils.py:119\u001b[0m, in \u001b[0;36mparseURL\u001b[0;34m(stowURL, default_manager)\u001b[0m\n\u001b[1;32m    116\u001b[0m     \u001b[39mreturn\u001b[39;00m ParsedURL(default_manager, stowURL)\n\u001b[1;32m    118\u001b[0m \u001b[39melse\u001b[39;00m:\n\u001b[0;32m--> 119\u001b[0m     manager \u001b[39m=\u001b[39m find(\u001b[39m\"\u001b[39;49m\u001b[39mFS\u001b[39;49m\u001b[39m\"\u001b[39;49m)\n\u001b[1;32m    120\u001b[0m     scheme \u001b[39m=\u001b[39m \u001b[39m\"\u001b[39m\u001b[39mFS\u001b[39m\u001b[39m\"\u001b[39m\n\u001b[1;32m    122\u001b[0m \u001b[39m# Get the signature for the manager from the url\u001b[39;00m\n",
      "File \u001b[0;32m~/.local/lib/python3.8/site-packages/stow/_utils.py:43\u001b[0m, in \u001b[0;36mfind\u001b[0;34m(manager)\u001b[0m\n\u001b[1;32m     40\u001b[0m             \u001b[39mbreak\u001b[39;00m\n\u001b[1;32m     42\u001b[0m     \u001b[39melse\u001b[39;00m:\n\u001b[0;32m---> 43\u001b[0m         \u001b[39mraise\u001b[39;00m \u001b[39mValueError\u001b[39;00m(\n\u001b[1;32m     44\u001b[0m             \u001b[39mf\u001b[39m\u001b[39m\"\u001b[39m\u001b[39mCouldn\u001b[39m\u001b[39m'\u001b[39m\u001b[39mt find a manager called \u001b[39m\u001b[39m'\u001b[39m\u001b[39m{\u001b[39;00mmanager\u001b[39m}\u001b[39;00m\u001b[39m'\u001b[39m\u001b[39m\"\u001b[39m\n\u001b[1;32m     45\u001b[0m             \u001b[39mf\u001b[39m\u001b[39m\"\u001b[39m\u001b[39m - found \u001b[39m\u001b[39m{\u001b[39;00m\u001b[39mlen\u001b[39m(foundManagerNames)\u001b[39m}\u001b[39;00m\u001b[39m managers: \u001b[39m\u001b[39m{\u001b[39;00mfoundManagerNames\u001b[39m}\u001b[39;00m\u001b[39m\"\u001b[39m\n\u001b[1;32m     46\u001b[0m         )\n\u001b[1;32m     48\u001b[0m \u001b[39mreturn\u001b[39;00m mClass\n",
      "\u001b[0;31mValueError\u001b[0m: Couldn't find a manager called 'FS' - found 0 managers: []"
     ]
    }
   ],
   "source": [
    "from tqdm import tqdm\n",
    "import stow\n",
    "\n",
    "dataset, vocab, max_len = [], set(), 0\n",
    "output_dir = \"Datasets/IAM_Words/IAM_Words/\"\n",
    "# Preprocess the dataset by the specific IAM_Words dataset file structure\n",
    "words = open(stow.join(output_dir, \"words.txt\"), \"r\").readlines()\n",
    "for line in tqdm(words):\n",
    "    if line.startswith(\"#\"):\n",
    "        continue\n",
    "\n",
    "    line_split = line.split(\" \")\n",
    "    if line_split[1] == \"err\":\n",
    "        continue\n",
    "\n",
    "    folder1 = line_split[0][:3]\n",
    "    folder2 = line_split[0][:8]\n",
    "    file_name = line_split[0] + \".png\"\n",
    "    label = line_split[-1].rstrip('\\n')\n",
    "\n",
    "    rel_path = stow.join(output_dir, \"words\", folder1, folder2, file_name)\n",
    "    if not stow.exists(rel_path):\n",
    "        continue\n",
    "\n",
    "    dataset.append([rel_path, label])\n",
    "    vocab.update(list(label))\n",
    "    max_len = max(max_len, len(label))"
   ]
  }
 ],
 "metadata": {
  "kernelspec": {
   "display_name": "Python 3",
   "language": "python",
   "name": "python3"
  },
  "language_info": {
   "codemirror_mode": {
    "name": "ipython",
    "version": 3
   },
   "file_extension": ".py",
   "mimetype": "text/x-python",
   "name": "python",
   "nbconvert_exporter": "python",
   "pygments_lexer": "ipython3",
   "version": "3.8.10"
  },
  "orig_nbformat": 4
 },
 "nbformat": 4,
 "nbformat_minor": 2
}
