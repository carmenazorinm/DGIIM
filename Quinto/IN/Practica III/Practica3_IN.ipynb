{
  "cells": [
    {
      "cell_type": "markdown",
      "id": "3203fe95-6f06-4d71-b268-408916cee003",
      "metadata": {
        "collapsed": false,
        "jupyter": {
          "outputs_hidden": false
        },
        "id": "3203fe95-6f06-4d71-b268-408916cee003"
      },
      "source": [
        "# Notebook de prueba\n",
        "\n",
        "Este notebook es un ejemplo cómo procesar y utilizar los datos de entrenamiento y de prueba para la competición https://www.kaggle.com/competitions/playground-series-s4e9/ de la práctica 3 de Inteligencia de Negocio.\n",
        "\n",
        "Es un ejemplo que es claramente mejorable, se deja a el/la estudiante el mejorarlo para obtener mejores resultados."
      ]
    },
    {
      "cell_type": "markdown",
      "id": "cc9fac94-fac6-46a9-baaa-575de9006f82",
      "metadata": {
        "collapsed": false,
        "jupyter": {
          "outputs_hidden": false
        },
        "id": "cc9fac94-fac6-46a9-baaa-575de9006f82"
      },
      "source": [
        "## Carga de librería\n",
        "\n",
        "Lo primero es cargar las librerías."
      ]
    },
    {
      "cell_type": "code",
      "execution_count": 72,
      "id": "bf64a154-19ca-4fdb-84bc-14495e017c8e",
      "metadata": {
        "jupyter": {
          "outputs_hidden": false
        },
        "id": "bf64a154-19ca-4fdb-84bc-14495e017c8e"
      },
      "outputs": [],
      "source": [
        "import pandas as pd\n",
        "import numpy as np\n",
        "import seaborn as sns\n",
        "from matplotlib import pyplot as plt\n",
        "import warnings\n",
        "from sklearn.preprocessing import OneHotEncoder\n",
        "from sklearn.preprocessing import OrdinalEncoder\n",
        "from sklearn.impute import KNNImputer"
      ]
    },
    {
      "cell_type": "markdown",
      "id": "ef3a73eb-90b4-4fa0-b94d-0715eb9f879c",
      "metadata": {
        "collapsed": false,
        "jupyter": {
          "outputs_hidden": false
        },
        "id": "ef3a73eb-90b4-4fa0-b94d-0715eb9f879c"
      },
      "source": [
        "## Lectura de datos\n",
        "\n",
        "Ahora leemos los datos."
      ]
    },
    {
      "cell_type": "code",
      "execution_count": 73,
      "id": "8746afee-82e9-45cf-8089-7480b73de76e",
      "metadata": {
        "jupyter": {
          "outputs_hidden": false
        },
        "colab": {
          "base_uri": "https://localhost:8080/"
        },
        "id": "8746afee-82e9-45cf-8089-7480b73de76e",
        "outputId": "a14a9b3f-efcb-460f-e64e-eaf5a6fd5f19"
      },
      "outputs": [
        {
          "output_type": "stream",
          "name": "stdout",
          "text": [
            "<class 'pandas.core.frame.DataFrame'>\n",
            "RangeIndex: 188533 entries, 0 to 188532\n",
            "Data columns (total 13 columns):\n",
            " #   Column        Non-Null Count   Dtype \n",
            "---  ------        --------------   ----- \n",
            " 0   id            188533 non-null  int64 \n",
            " 1   brand         188533 non-null  object\n",
            " 2   model         188533 non-null  object\n",
            " 3   model_year    188533 non-null  int64 \n",
            " 4   milage        188533 non-null  int64 \n",
            " 5   fuel_type     183450 non-null  object\n",
            " 6   engine        188533 non-null  object\n",
            " 7   transmission  188533 non-null  object\n",
            " 8   ext_col       188533 non-null  object\n",
            " 9   int_col       188533 non-null  object\n",
            " 10  accident      186081 non-null  object\n",
            " 11  clean_title   167114 non-null  object\n",
            " 12  price         188533 non-null  int64 \n",
            "dtypes: int64(4), object(9)\n",
            "memory usage: 18.7+ MB\n"
          ]
        }
      ],
      "source": [
        "train = pd.read_csv(\"./train.csv\", na_values=\"NaN\", sep = \",\") # Definimos na_values para identificar bien los valores perdidos\n",
        "train.info()"
      ]
    },
    {
      "cell_type": "code",
      "execution_count": 74,
      "id": "687045bd-0e06-4085-9275-e5ac6a3821b2",
      "metadata": {
        "jupyter": {
          "outputs_hidden": false
        },
        "colab": {
          "base_uri": "https://localhost:8080/"
        },
        "id": "687045bd-0e06-4085-9275-e5ac6a3821b2",
        "outputId": "f9fb5311-d565-4a2a-a587-85516392a5c9"
      },
      "outputs": [
        {
          "output_type": "execute_result",
          "data": {
            "text/plain": [
              "Index(['id', 'brand', 'model', 'model_year', 'milage', 'fuel_type', 'engine',\n",
              "       'transmission', 'ext_col', 'int_col', 'accident', 'clean_title',\n",
              "       'price'],\n",
              "      dtype='object')"
            ]
          },
          "metadata": {},
          "execution_count": 74
        }
      ],
      "source": [
        "train.columns"
      ]
    },
    {
      "cell_type": "code",
      "source": [
        "train.info()"
      ],
      "metadata": {
        "colab": {
          "base_uri": "https://localhost:8080/"
        },
        "id": "qHRwXCWYMBts",
        "outputId": "3a047f8e-7f39-4b27-ebaa-5c6836a8e0e0"
      },
      "id": "qHRwXCWYMBts",
      "execution_count": 75,
      "outputs": [
        {
          "output_type": "stream",
          "name": "stdout",
          "text": [
            "<class 'pandas.core.frame.DataFrame'>\n",
            "RangeIndex: 188533 entries, 0 to 188532\n",
            "Data columns (total 13 columns):\n",
            " #   Column        Non-Null Count   Dtype \n",
            "---  ------        --------------   ----- \n",
            " 0   id            188533 non-null  int64 \n",
            " 1   brand         188533 non-null  object\n",
            " 2   model         188533 non-null  object\n",
            " 3   model_year    188533 non-null  int64 \n",
            " 4   milage        188533 non-null  int64 \n",
            " 5   fuel_type     183450 non-null  object\n",
            " 6   engine        188533 non-null  object\n",
            " 7   transmission  188533 non-null  object\n",
            " 8   ext_col       188533 non-null  object\n",
            " 9   int_col       188533 non-null  object\n",
            " 10  accident      186081 non-null  object\n",
            " 11  clean_title   167114 non-null  object\n",
            " 12  price         188533 non-null  int64 \n",
            "dtypes: int64(4), object(9)\n",
            "memory usage: 18.7+ MB\n"
          ]
        }
      ]
    },
    {
      "cell_type": "code",
      "source": [
        "train.shape"
      ],
      "metadata": {
        "colab": {
          "base_uri": "https://localhost:8080/"
        },
        "id": "MAW4x6nhM4FG",
        "outputId": "fa7ba228-1229-4c72-e66b-bf28184b6302"
      },
      "id": "MAW4x6nhM4FG",
      "execution_count": 76,
      "outputs": [
        {
          "output_type": "execute_result",
          "data": {
            "text/plain": [
              "(188533, 13)"
            ]
          },
          "metadata": {},
          "execution_count": 76
        }
      ]
    },
    {
      "cell_type": "markdown",
      "id": "401ebb8b-8bcc-4efe-9b58-74b208ad951d",
      "metadata": {
        "collapsed": false,
        "jupyter": {
          "outputs_hidden": false
        },
        "id": "401ebb8b-8bcc-4efe-9b58-74b208ad951d"
      },
      "source": [
        "## Visualización\n",
        "\n",
        "Vamos a hacer unas ligeras visualizaciones de ejemplo."
      ]
    },
    {
      "cell_type": "markdown",
      "id": "f0174053-10a8-4fd2-aaaf-20f15122180a",
      "metadata": {
        "collapsed": false,
        "jupyter": {
          "outputs_hidden": false
        },
        "id": "f0174053-10a8-4fd2-aaaf-20f15122180a"
      },
      "source": [
        "Ahora visualizo los precios de venta en el conjunto de entrenamiento."
      ]
    },
    {
      "cell_type": "code",
      "execution_count": 77,
      "id": "67c9b73b-62d8-4718-b06b-ab39154c888f",
      "metadata": {
        "jupyter": {
          "outputs_hidden": false
        },
        "colab": {
          "base_uri": "https://localhost:8080/",
          "height": 499
        },
        "id": "67c9b73b-62d8-4718-b06b-ab39154c888f",
        "outputId": "ebc812b3-aafb-4cdd-85ef-b55702d42d73"
      },
      "outputs": [
        {
          "output_type": "execute_result",
          "data": {
            "text/plain": [
              "<seaborn.axisgrid.FacetGrid at 0x793529c0fa00>"
            ]
          },
          "metadata": {},
          "execution_count": 77
        },
        {
          "output_type": "display_data",
          "data": {
            "text/plain": [
              "<Figure size 1500x500 with 1 Axes>"
            ],
            "image/png": "[encoded data removed]"
          },
          "metadata": {}
        }
      ],
      "source": [
        "sns.displot(data=train, x=\"price\", aspect=3, kde=True)"
      ]
    },
    {
      "cell_type": "markdown",
      "id": "2990adbc-b1ea-4f2b-a6f7-1c9a545f56f2",
      "metadata": {
        "collapsed": false,
        "jupyter": {
          "outputs_hidden": false
        },
        "id": "2990adbc-b1ea-4f2b-a6f7-1c9a545f56f2"
      },
      "source": [
        "Ahora visualizamos cómo cambia la distribución (usando un boxplot) según otro atributo, en este caso nos quedamos con un subconjunto de marcas"
      ]
    },
    {
      "cell_type": "code",
      "execution_count": 78,
      "id": "d3f1c55b-eb26-45e0-aa68-6f4e0596ad9e",
      "metadata": {
        "id": "d3f1c55b-eb26-45e0-aa68-6f4e0596ad9e"
      },
      "outputs": [],
      "source": [
        "marcas = train[train['brand'].str.contains('MINI|BMW|Nissan', regex = True) ]\n"
      ]
    },
    {
      "cell_type": "code",
      "execution_count": 79,
      "id": "69d5d661-cd93-43e1-8ce1-b4185e5802a3",
      "metadata": {
        "jupyter": {
          "outputs_hidden": false
        },
        "colab": {
          "base_uri": "https://localhost:8080/",
          "height": 523
        },
        "id": "69d5d661-cd93-43e1-8ce1-b4185e5802a3",
        "outputId": "5c2de78a-cbbc-4e30-9e25-82f845f97dfa"
      },
      "outputs": [
        {
          "output_type": "execute_result",
          "data": {
            "text/plain": [
              "<seaborn.axisgrid.FacetGrid at 0x79351df094e0>"
            ]
          },
          "metadata": {},
          "execution_count": 79
        },
        {
          "output_type": "display_data",
          "data": {
            "text/plain": [
              "<Figure size 511.111x500 with 1 Axes>"
            ],
            "image/png": "[encoded data removed]"
          },
          "metadata": {}
        }
      ],
      "source": [
        "\n",
        "sns.catplot(data=marcas, y=\"price\", x='brand', kind=\"box\")\n"
      ]
    },
    {
      "cell_type": "markdown",
      "id": "deffdc69-53cb-4032-bd23-8251cf7c7639",
      "metadata": {
        "collapsed": false,
        "jupyter": {
          "outputs_hidden": false
        },
        "id": "deffdc69-53cb-4032-bd23-8251cf7c7639"
      },
      "source": [
        "## Procesar datos\n",
        "\n",
        "Vamos a procesar datos:\n",
        "- Valores perdidos.\n",
        "- Etiquetado."
      ]
    },
    {
      "cell_type": "markdown",
      "id": "ed194596-5335-446f-a661-d9d21780c8b5",
      "metadata": {
        "collapsed": false,
        "jupyter": {
          "outputs_hidden": false
        },
        "id": "ed194596-5335-446f-a661-d9d21780c8b5"
      },
      "source": [
        "Primero quito el Id de train que no me sirve de nada, y complica el etiquetado. También la quito de test pero antes lo guardo (para el fichero de salida)"
      ]
    },
    {
      "cell_type": "code",
      "execution_count": 80,
      "id": "8af3b3b2-460f-4c8e-a4c9-148a50d4f399",
      "metadata": {
        "jupyter": {
          "outputs_hidden": false
        },
        "id": "8af3b3b2-460f-4c8e-a4c9-148a50d4f399"
      },
      "outputs": [],
      "source": [
        "if 'id' in train:\n",
        "    train.drop('id', axis=1, inplace=True)"
      ]
    },
    {
      "cell_type": "code",
      "execution_count": 81,
      "id": "8e2fd5b1-e80a-471c-976c-3c7e9c99b3a0",
      "metadata": {
        "jupyter": {
          "outputs_hidden": false
        },
        "id": "8e2fd5b1-e80a-471c-976c-3c7e9c99b3a0"
      },
      "outputs": [],
      "source": [
        "from sklearn.preprocessing import LabelEncoder, OrdinalEncoder"
      ]
    },
    {
      "cell_type": "code",
      "execution_count": 82,
      "id": "90f7311f-7a4e-454f-a874-3e38f8b44f2f",
      "metadata": {
        "jupyter": {
          "outputs_hidden": false
        },
        "scrolled": true,
        "id": "90f7311f-7a4e-454f-a874-3e38f8b44f2f"
      },
      "outputs": [],
      "source": [
        "test = pd.read_csv(\"test.csv\", na_values=\"NaN\")\n",
        "test_ids = test.id\n",
        "test = test.drop('id', axis=1)"
      ]
    },
    {
      "cell_type": "markdown",
      "id": "fa147781-bd02-4d01-bc53-5ce6da0e3f3c",
      "metadata": {
        "collapsed": false,
        "jupyter": {
          "outputs_hidden": false
        },
        "id": "fa147781-bd02-4d01-bc53-5ce6da0e3f3c"
      },
      "source": [
        "Concateno la entrada de ambos para los procesos de etiquetado, que aprenda con ambos conjuntos"
      ]
    },
    {
      "cell_type": "code",
      "execution_count": 83,
      "id": "ce048a83-2a8a-4116-81d6-9642d44a6359",
      "metadata": {
        "jupyter": {
          "outputs_hidden": false
        },
        "id": "ce048a83-2a8a-4116-81d6-9642d44a6359"
      },
      "outputs": [],
      "source": [
        "input_all = pd.concat([train.drop('price', axis=1), test])"
      ]
    },
    {
      "cell_type": "code",
      "execution_count": 84,
      "id": "8f346561-f726-4985-881e-f5dd53acd5d9",
      "metadata": {
        "jupyter": {
          "outputs_hidden": false
        },
        "colab": {
          "base_uri": "https://localhost:8080/"
        },
        "id": "8f346561-f726-4985-881e-f5dd53acd5d9",
        "outputId": "ccc82520-1bff-4a85-d8a6-4026d4c9a01c"
      },
      "outputs": [
        {
          "output_type": "execute_result",
          "data": {
            "text/plain": [
              "Index(['brand', 'model', 'model_year', 'milage', 'fuel_type', 'engine',\n",
              "       'transmission', 'ext_col', 'int_col', 'accident', 'clean_title'],\n",
              "      dtype='object')"
            ]
          },
          "metadata": {},
          "execution_count": 84
        }
      ],
      "source": [
        "input_all.columns"
      ]
    },
    {
      "cell_type": "markdown",
      "id": "9d4ce519-ef92-417e-95e3-d71e250df1a5",
      "metadata": {
        "collapsed": false,
        "jupyter": {
          "outputs_hidden": false
        },
        "id": "9d4ce519-ef92-417e-95e3-d71e250df1a5"
      },
      "source": [
        "Ahora selecciono los atributos de tipo categórico (los que no son numéricos)"
      ]
    },
    {
      "cell_type": "code",
      "execution_count": 85,
      "id": "7c7b0a91-9eeb-4fe8-a49c-3e614a06758e",
      "metadata": {
        "jupyter": {
          "outputs_hidden": false
        },
        "id": "7c7b0a91-9eeb-4fe8-a49c-3e614a06758e"
      },
      "outputs": [],
      "source": [
        "col_cat = list(input_all.select_dtypes(exclude=np.number).columns)"
      ]
    },
    {
      "cell_type": "code",
      "execution_count": 86,
      "id": "7175168f-c320-4577-bac3-de13267513de",
      "metadata": {
        "jupyter": {
          "outputs_hidden": false
        },
        "colab": {
          "base_uri": "https://localhost:8080/"
        },
        "id": "7175168f-c320-4577-bac3-de13267513de",
        "outputId": "1e84b8d0-1b41-47a1-fe3b-e28751feadf5"
      },
      "outputs": [
        {
          "output_type": "execute_result",
          "data": {
            "text/plain": [
              "['brand',\n",
              " 'model',\n",
              " 'fuel_type',\n",
              " 'engine',\n",
              " 'transmission',\n",
              " 'ext_col',\n",
              " 'int_col',\n",
              " 'accident',\n",
              " 'clean_title']"
            ]
          },
          "metadata": {},
          "execution_count": 86
        }
      ],
      "source": [
        "col_cat"
      ]
    },
    {
      "cell_type": "markdown",
      "id": "aea30e72-4712-44e6-9b69-fcb93fd85ead",
      "metadata": {
        "collapsed": false,
        "jupyter": {
          "outputs_hidden": false
        },
        "id": "aea30e72-4712-44e6-9b69-fcb93fd85ead"
      },
      "source": [
        "Compruebo que son realmente categóricos."
      ]
    },
    {
      "cell_type": "code",
      "execution_count": 87,
      "id": "483cd303-43b1-4b34-abd1-8b23cee5dc5b",
      "metadata": {
        "jupyter": {
          "outputs_hidden": false
        },
        "colab": {
          "base_uri": "https://localhost:8080/",
          "height": 275
        },
        "id": "483cd303-43b1-4b34-abd1-8b23cee5dc5b",
        "outputId": "9870acf1-372c-4c19-eb30-7d5adfc85df6"
      },
      "outputs": [
        {
          "output_type": "execute_result",
          "data": {
            "text/plain": [
              "           brand              model      fuel_type  \\\n",
              "0           MINI      Cooper S Base       Gasoline   \n",
              "1        Lincoln              LS V8       Gasoline   \n",
              "2      Chevrolet  Silverado 2500 LT  E85 Flex Fuel   \n",
              "3        Genesis   G90 5.0 Ultimate       Gasoline   \n",
              "4  Mercedes-Benz        Metris Base       Gasoline   \n",
              "\n",
              "                                              engine  \\\n",
              "0       172.0HP 1.6L 4 Cylinder Engine Gasoline Fuel   \n",
              "1       252.0HP 3.9L 8 Cylinder Engine Gasoline Fuel   \n",
              "2  320.0HP 5.3L 8 Cylinder Engine Flex Fuel Capab...   \n",
              "3       420.0HP 5.0L 8 Cylinder Engine Gasoline Fuel   \n",
              "4       208.0HP 2.0L 4 Cylinder Engine Gasoline Fuel   \n",
              "\n",
              "                     transmission ext_col int_col  \\\n",
              "0                             A/T  Yellow    Gray   \n",
              "1                             A/T  Silver   Beige   \n",
              "2                             A/T    Blue    Gray   \n",
              "3  Transmission w/Dual Shift Mode   Black   Black   \n",
              "4                     7-Speed A/T   Black   Beige   \n",
              "\n",
              "                                 accident clean_title  \n",
              "0                           None reported         Yes  \n",
              "1  At least 1 accident or damage reported         Yes  \n",
              "2                           None reported         Yes  \n",
              "3                           None reported         Yes  \n",
              "4                           None reported         Yes  "
            ],
            "text/html": [
              "\n",
              "  <div id=\"df-4507c110-6a0a-409f-b0ca-5bdf98f654b3\" class=\"colab-df-container\">\n",
              "    <div>\n",
              "<style scoped>\n",
              "    .dataframe tbody tr th:only-of-type {\n",
              "        vertical-align: middle;\n",
              "    }\n",
              "\n",
              "    .dataframe tbody tr th {\n",
              "        vertical-align: top;\n",
              "    }\n",
              "\n",
              "    .dataframe thead th {\n",
              "        text-align: right;\n",
              "    }\n",
              "</style>\n",
              "<table border=\"1\" class=\"dataframe\">\n",
              "  <thead>\n",
              "    <tr style=\"text-align: right;\">\n",
              "      <th></th>\n",
              "      <th>brand</th>\n",
              "      <th>model</th>\n",
              "      <th>fuel_type</th>\n",
              "      <th>engine</th>\n",
              "      <th>transmission</th>\n",
              "      <th>ext_col</th>\n",
              "      <th>int_col</th>\n",
              "      <th>accident</th>\n",
              "      <th>clean_title</th>\n",
              "    </tr>\n",
              "  </thead>\n",
              "  <tbody>\n",
              "    <tr>\n",
              "      <th>0</th>\n",
              "      <td>MINI</td>\n",
              "      <td>Cooper S Base</td>\n",
              "      <td>Gasoline</td>\n",
              "      <td>172.0HP 1.6L 4 Cylinder Engine Gasoline Fuel</td>\n",
              "      <td>A/T</td>\n",
              "      <td>Yellow</td>\n",
              "      <td>Gray</td>\n",
              "      <td>None reported</td>\n",
              "      <td>Yes</td>\n",
              "    </tr>\n",
              "    <tr>\n",
              "      <th>1</th>\n",
              "      <td>Lincoln</td>\n",
              "      <td>LS V8</td>\n",
              "      <td>Gasoline</td>\n",
              "      <td>252.0HP 3.9L 8 Cylinder Engine Gasoline Fuel</td>\n",
              "      <td>A/T</td>\n",
              "      <td>Silver</td>\n",
              "      <td>Beige</td>\n",
              "      <td>At least 1 accident or damage reported</td>\n",
              "      <td>Yes</td>\n",
              "    </tr>\n",
              "    <tr>\n",
              "      <th>2</th>\n",
              "      <td>Chevrolet</td>\n",
              "      <td>Silverado 2500 LT</td>\n",
              "      <td>E85 Flex Fuel</td>\n",
              "      <td>320.0HP 5.3L 8 Cylinder Engine Flex Fuel Capab...</td>\n",
              "      <td>A/T</td>\n",
              "      <td>Blue</td>\n",
              "      <td>Gray</td>\n",
              "      <td>None reported</td>\n",
              "      <td>Yes</td>\n",
              "    </tr>\n",
              "    <tr>\n",
              "      <th>3</th>\n",
              "      <td>Genesis</td>\n",
              "      <td>G90 5.0 Ultimate</td>\n",
              "      <td>Gasoline</td>\n",
              "      <td>420.0HP 5.0L 8 Cylinder Engine Gasoline Fuel</td>\n",
              "      <td>Transmission w/Dual Shift Mode</td>\n",
              "      <td>Black</td>\n",
              "      <td>Black</td>\n",
              "      <td>None reported</td>\n",
              "      <td>Yes</td>\n",
              "    </tr>\n",
              "    <tr>\n",
              "      <th>4</th>\n",
              "      <td>Mercedes-Benz</td>\n",
              "      <td>Metris Base</td>\n",
              "      <td>Gasoline</td>\n",
              "      <td>208.0HP 2.0L 4 Cylinder Engine Gasoline Fuel</td>\n",
              "      <td>7-Speed A/T</td>\n",
              "      <td>Black</td>\n",
              "      <td>Beige</td>\n",
              "      <td>None reported</td>\n",
              "      <td>Yes</td>\n",
              "    </tr>\n",
              "  </tbody>\n",
              "</table>\n",
              "</div>\n",
              "    <div class=\"colab-df-buttons\">\n",
              "\n",
              "  <div class=\"colab-df-container\">\n",
              "    <button class=\"colab-df-convert\" onclick=\"convertToInteractive('df-4507c110-6a0a-409f-b0ca-5bdf98f654b3')\"\n",
              "            title=\"Convert this dataframe to an interactive table.\"\n",
              "            style=\"display:none;\">\n",
              "\n",
              "  <svg xmlns=\"http://www.w3.org/2000/svg\" height=\"24px\" viewBox=\"0 -960 960 960\">\n",
              "    <path d=\"M120-120v-720h720v720H120Zm60-500h600v-160H180v160Zm220 220h160v-160H400v160Zm0 220h160v-160H400v160ZM180-400h160v-160H180v160Zm440 0h160v-160H620v160ZM180-180h160v-160H180v160Zm440 0h160v-160H620v160Z\"/>\n",
              "  </svg>\n",
              "    </button>\n",
              "\n",
              "  <style>\n",
              "    .colab-df-container {\n",
              "      display:flex;\n",
              "      gap: 12px;\n",
              "    }\n",
              "\n",
              "    .colab-df-convert {\n",
              "      background-color: #E8F0FE;\n",
              "      border: none;\n",
              "      border-radius: 50%;\n",
              "      cursor: pointer;\n",
              "      display: none;\n",
              "      fill: #1967D2;\n",
              "      height: 32px;\n",
              "      padding: 0 0 0 0;\n",
              "      width: 32px;\n",
              "    }\n",
              "\n",
              "    .colab-df-convert:hover {\n",
              "      background-color: #E2EBFA;\n",
              "      box-shadow: 0px 1px 2px rgba(60, 64, 67, 0.3), 0px 1px 3px 1px rgba(60, 64, 67, 0.15);\n",
              "      fill: #174EA6;\n",
              "    }\n",
              "\n",
              "    .colab-df-buttons div {\n",
              "      margin-bottom: 4px;\n",
              "    }\n",
              "\n",
              "    [theme=dark] .colab-df-convert {\n",
              "      background-color: #3B4455;\n",
              "      fill: #D2E3FC;\n",
              "    }\n",
              "\n",
              "    [theme=dark] .colab-df-convert:hover {\n",
              "      background-color: #434B5C;\n",
              "      box-shadow: 0px 1px 3px 1px rgba(0, 0, 0, 0.15);\n",
              "      filter: drop-shadow(0px 1px 2px rgba(0, 0, 0, 0.3));\n",
              "      fill: #FFFFFF;\n",
              "    }\n",
              "  </style>\n",
              "\n",
              "    <script>\n",
              "      const buttonEl =\n",
              "        document.querySelector('#df-4507c110-6a0a-409f-b0ca-5bdf98f654b3 button.colab-df-convert');\n",
              "      buttonEl.style.display =\n",
              "        google.colab.kernel.accessAllowed ? 'block' : 'none';\n",
              "\n",
              "      async function convertToInteractive(key) {\n",
              "        const element = document.querySelector('#df-4507c110-6a0a-409f-b0ca-5bdf98f654b3');\n",
              "        const dataTable =\n",
              "          await google.colab.kernel.invokeFunction('convertToInteractive',\n",
              "                                                    [key], {});\n",
              "        if (!dataTable) return;\n",
              "\n",
              "        const docLinkHtml = 'Like what you see? Visit the ' +\n",
              "          '<a target=\"_blank\" href=https://colab.research.google.com/notebooks/data_table.ipynb>data table notebook</a>'\n",
              "          + ' to learn more about interactive tables.';\n",
              "        element.innerHTML = '';\n",
              "        dataTable['output_type'] = 'display_data';\n",
              "        await google.colab.output.renderOutput(dataTable, element);\n",
              "        const docLink = document.createElement('div');\n",
              "        docLink.innerHTML = docLinkHtml;\n",
              "        element.appendChild(docLink);\n",
              "      }\n",
              "    </script>\n",
              "  </div>\n",
              "\n",
              "\n",
              "<div id=\"df-7bb0bc12-36a5-4f12-9aae-65488332691c\">\n",
              "  <button class=\"colab-df-quickchart\" onclick=\"quickchart('df-7bb0bc12-36a5-4f12-9aae-65488332691c')\"\n",
              "            title=\"Suggest charts\"\n",
              "            style=\"display:none;\">\n",
              "\n",
              "<svg xmlns=\"http://www.w3.org/2000/svg\" height=\"24px\"viewBox=\"0 0 24 24\"\n",
              "     width=\"24px\">\n",
              "    <g>\n",
              "        <path d=\"M19 3H5c-1.1 0-2 .9-2 2v14c0 1.1.9 2 2 2h14c1.1 0 2-.9 2-2V5c0-1.1-.9-2-2-2zM9 17H7v-7h2v7zm4 0h-2V7h2v10zm4 0h-2v-4h2v4z\"/>\n",
              "    </g>\n",
              "</svg>\n",
              "  </button>\n",
              "\n",
              "<style>\n",
              "  .colab-df-quickchart {\n",
              "      --bg-color: #E8F0FE;\n",
              "      --fill-color: #1967D2;\n",
              "      --hover-bg-color: #E2EBFA;\n",
              "      --hover-fill-color: #174EA6;\n",
              "      --disabled-fill-color: #AAA;\n",
              "      --disabled-bg-color: #DDD;\n",
              "  }\n",
              "\n",
              "  [theme=dark] .colab-df-quickchart {\n",
              "      --bg-color: #3B4455;\n",
              "      --fill-color: #D2E3FC;\n",
              "      --hover-bg-color: #434B5C;\n",
              "      --hover-fill-color: #FFFFFF;\n",
              "      --disabled-bg-color: #3B4455;\n",
              "      --disabled-fill-color: #666;\n",
              "  }\n",
              "\n",
              "  .colab-df-quickchart {\n",
              "    background-color: var(--bg-color);\n",
              "    border: none;\n",
              "    border-radius: 50%;\n",
              "    cursor: pointer;\n",
              "    display: none;\n",
              "    fill: var(--fill-color);\n",
              "    height: 32px;\n",
              "    padding: 0;\n",
              "    width: 32px;\n",
              "  }\n",
              "\n",
              "  .colab-df-quickchart:hover {\n",
              "    background-color: var(--hover-bg-color);\n",
              "    box-shadow: 0 1px 2px rgba(60, 64, 67, 0.3), 0 1px 3px 1px rgba(60, 64, 67, 0.15);\n",
              "    fill: var(--button-hover-fill-color);\n",
              "  }\n",
              "\n",
              "  .colab-df-quickchart-complete:disabled,\n",
              "  .colab-df-quickchart-complete:disabled:hover {\n",
              "    background-color: var(--disabled-bg-color);\n",
              "    fill: var(--disabled-fill-color);\n",
              "    box-shadow: none;\n",
              "  }\n",
              "\n",
              "  .colab-df-spinner {\n",
              "    border: 2px solid var(--fill-color);\n",
              "    border-color: transparent;\n",
              "    border-bottom-color: var(--fill-color);\n",
              "    animation:\n",
              "      spin 1s steps(1) infinite;\n",
              "  }\n",
              "\n",
              "  @keyframes spin {\n",
              "    0% {\n",
              "      border-color: transparent;\n",
              "      border-bottom-color: var(--fill-color);\n",
              "      border-left-color: var(--fill-color);\n",
              "    }\n",
              "    20% {\n",
              "      border-color: transparent;\n",
              "      border-left-color: var(--fill-color);\n",
              "      border-top-color: var(--fill-color);\n",
              "    }\n",
              "    30% {\n",
              "      border-color: transparent;\n",
              "      border-left-color: var(--fill-color);\n",
              "      border-top-color: var(--fill-color);\n",
              "      border-right-color: var(--fill-color);\n",
              "    }\n",
              "    40% {\n",
              "      border-color: transparent;\n",
              "      border-right-color: var(--fill-color);\n",
              "      border-top-color: var(--fill-color);\n",
              "    }\n",
              "    60% {\n",
              "      border-color: transparent;\n",
              "      border-right-color: var(--fill-color);\n",
              "    }\n",
              "    80% {\n",
              "      border-color: transparent;\n",
              "      border-right-color: var(--fill-color);\n",
              "      border-bottom-color: var(--fill-color);\n",
              "    }\n",
              "    90% {\n",
              "      border-color: transparent;\n",
              "      border-bottom-color: var(--fill-color);\n",
              "    }\n",
              "  }\n",
              "</style>\n",
              "\n",
              "  <script>\n",
              "    async function quickchart(key) {\n",
              "      const quickchartButtonEl =\n",
              "        document.querySelector('#' + key + ' button');\n",
              "      quickchartButtonEl.disabled = true;  // To prevent multiple clicks.\n",
              "      quickchartButtonEl.classList.add('colab-df-spinner');\n",
              "      try {\n",
              "        const charts = await google.colab.kernel.invokeFunction(\n",
              "            'suggestCharts', [key], {});\n",
              "      } catch (error) {\n",
              "        console.error('Error during call to suggestCharts:', error);\n",
              "      }\n",
              "      quickchartButtonEl.classList.remove('colab-df-spinner');\n",
              "      quickchartButtonEl.classList.add('colab-df-quickchart-complete');\n",
              "    }\n",
              "    (() => {\n",
              "      let quickchartButtonEl =\n",
              "        document.querySelector('#df-7bb0bc12-36a5-4f12-9aae-65488332691c button');\n",
              "      quickchartButtonEl.style.display =\n",
              "        google.colab.kernel.accessAllowed ? 'block' : 'none';\n",
              "    })();\n",
              "  </script>\n",
              "</div>\n",
              "\n",
              "    </div>\n",
              "  </div>\n"
            ],
            "application/vnd.google.colaboratory.intrinsic+json": {
              "type": "dataframe",
              "summary": "{\n  \"name\": \"input_all[col_cat]\",\n  \"rows\": 5,\n  \"fields\": [\n    {\n      \"column\": \"brand\",\n      \"properties\": {\n        \"dtype\": \"string\",\n        \"num_unique_values\": 5,\n        \"samples\": [\n          \"Lincoln\",\n          \"Mercedes-Benz\",\n          \"Chevrolet\"\n        ],\n        \"semantic_type\": \"\",\n        \"description\": \"\"\n      }\n    },\n    {\n      \"column\": \"model\",\n      \"properties\": {\n        \"dtype\": \"string\",\n        \"num_unique_values\": 5,\n        \"samples\": [\n          \"LS V8\",\n          \"Metris Base\",\n          \"Silverado 2500 LT\"\n        ],\n        \"semantic_type\": \"\",\n        \"description\": \"\"\n      }\n    },\n    {\n      \"column\": \"fuel_type\",\n      \"properties\": {\n        \"dtype\": \"category\",\n        \"num_unique_values\": 2,\n        \"samples\": [\n          \"E85 Flex Fuel\",\n          \"Gasoline\"\n        ],\n        \"semantic_type\": \"\",\n        \"description\": \"\"\n      }\n    },\n    {\n      \"column\": \"engine\",\n      \"properties\": {\n        \"dtype\": \"string\",\n        \"num_unique_values\": 5,\n        \"samples\": [\n          \"252.0HP 3.9L 8 Cylinder Engine Gasoline Fuel\",\n          \"208.0HP 2.0L 4 Cylinder Engine Gasoline Fuel\"\n        ],\n        \"semantic_type\": \"\",\n        \"description\": \"\"\n      }\n    },\n    {\n      \"column\": \"transmission\",\n      \"properties\": {\n        \"dtype\": \"string\",\n        \"num_unique_values\": 3,\n        \"samples\": [\n          \"A/T\",\n          \"Transmission w/Dual Shift Mode\"\n        ],\n        \"semantic_type\": \"\",\n        \"description\": \"\"\n      }\n    },\n    {\n      \"column\": \"ext_col\",\n      \"properties\": {\n        \"dtype\": \"string\",\n        \"num_unique_values\": 4,\n        \"samples\": [\n          \"Silver\",\n          \"Black\"\n        ],\n        \"semantic_type\": \"\",\n        \"description\": \"\"\n      }\n    },\n    {\n      \"column\": \"int_col\",\n      \"properties\": {\n        \"dtype\": \"string\",\n        \"num_unique_values\": 3,\n        \"samples\": [\n          \"Gray\",\n          \"Beige\"\n        ],\n        \"semantic_type\": \"\",\n        \"description\": \"\"\n      }\n    },\n    {\n      \"column\": \"accident\",\n      \"properties\": {\n        \"dtype\": \"category\",\n        \"num_unique_values\": 2,\n        \"samples\": [\n          \"At least 1 accident or damage reported\",\n          \"None reported\"\n        ],\n        \"semantic_type\": \"\",\n        \"description\": \"\"\n      }\n    },\n    {\n      \"column\": \"clean_title\",\n      \"properties\": {\n        \"dtype\": \"category\",\n        \"num_unique_values\": 1,\n        \"samples\": [\n          \"Yes\"\n        ],\n        \"semantic_type\": \"\",\n        \"description\": \"\"\n      }\n    }\n  ]\n}"
            }
          },
          "metadata": {},
          "execution_count": 87
        }
      ],
      "source": [
        "input_all[col_cat].head()"
      ]
    },
    {
      "cell_type": "markdown",
      "source": [
        "## Extraer características del motor de coche"
      ],
      "metadata": {
        "id": "hsyKgxJw2PQu"
      },
      "id": "hsyKgxJw2PQu"
    },
    {
      "cell_type": "code",
      "source": [
        "# Añadido por Carmen\n",
        "# extraer características relacionadas con el motor del coche a partir\n",
        "# de la columna engine -> para ello usa expresionaes regulares\n",
        "import re\n",
        "def extract_engine_feature(df):\n",
        "    # extract horsepower\n",
        "    df['Horsepower'] = df['engine'].apply(lambda x: float(re.search(r'(\\d+(\\.\\d+)?)HP', x).group(1)) if re.search(r'(\\d+(\\.\\d+)?)HP', x) else None)\n",
        "\n",
        "    # extract displacement\n",
        "    df['Displacement'] = df['engine'].apply(lambda x: float(re.search(r'(\\d+\\.\\d+)L|(\\d+\\.\\d+) Liter', x).group(1) or re.search(r'(\\d+\\.\\d+)L|(\\d+\\.\\d+) Liter', x).group(2)) if re.search(r'(\\d+\\.\\d+)L|(\\d+\\.\\d+) Liter', x) else None)\n",
        "\n",
        "    # extract engine type\n",
        "    df['Engine Type'] = df['engine'].apply(lambda x: re.search(r'(V\\d+|I\\d+|Flat \\d+|Straight \\d+)', x).group(1) if re.search(r'(V\\d+|I\\d+|Flat \\d+|Straight \\d+)', x) else None)\n",
        "\n",
        "    # extract cylinder count\n",
        "    df['Cylinder Count'] = df['engine'].apply(lambda x: int(re.search(r'(\\d+) Cylinder', x).group(1)) if re.search(r'(\\d+) Cylinder', x) else None)\n",
        "\n",
        "    # extract fuel type\n",
        "    fuel_types = ['Gasoline', 'Diesel', 'Electric', 'Hybrid', 'Flex Fuel']\n",
        "    df['Fuel Type'] = df['engine'].apply(lambda x: next((fuel for fuel in fuel_types if fuel in x), None))\n",
        "\n",
        "    return df"
      ],
      "metadata": {
        "id": "jz-ZpsZK2VVS"
      },
      "id": "jz-ZpsZK2VVS",
      "execution_count": 88,
      "outputs": []
    },
    {
      "cell_type": "code",
      "source": [
        "# añadido por Carmen\n",
        "# applying the function to both train and test datasets\n",
        "train = extract_engine_feature(train)\n",
        "test = extract_engine_feature(test)"
      ],
      "metadata": {
        "id": "AzrLVDT_2XsA"
      },
      "id": "AzrLVDT_2XsA",
      "execution_count": 89,
      "outputs": []
    },
    {
      "cell_type": "code",
      "source": [
        "# mostrar las columnas de train\n",
        "train.columns"
      ],
      "metadata": {
        "colab": {
          "base_uri": "https://localhost:8080/"
        },
        "id": "Lk4MYkZB2-pC",
        "outputId": "72f7a13f-12ca-40da-a5a7-9aa534adf029"
      },
      "id": "Lk4MYkZB2-pC",
      "execution_count": 90,
      "outputs": [
        {
          "output_type": "execute_result",
          "data": {
            "text/plain": [
              "Index(['brand', 'model', 'model_year', 'milage', 'fuel_type', 'engine',\n",
              "       'transmission', 'ext_col', 'int_col', 'accident', 'clean_title',\n",
              "       'price', 'Horsepower', 'Displacement', 'Engine Type', 'Cylinder Count',\n",
              "       'Fuel Type'],\n",
              "      dtype='object')"
            ]
          },
          "metadata": {},
          "execution_count": 90
        }
      ]
    },
    {
      "cell_type": "code",
      "source": [
        "# eliminar columna Fuel Type\n",
        "train = train.drop('Fuel Type', axis=1)\n",
        "test = test.drop('Fuel Type', axis=1)"
      ],
      "metadata": {
        "id": "E-QOQqrk3Bz_"
      },
      "id": "E-QOQqrk3Bz_",
      "execution_count": 91,
      "outputs": []
    },
    {
      "cell_type": "code",
      "source": [
        "# eliminar columna engine\n",
        "train = train.drop('engine', axis=1)\n",
        "test = test.drop('engine', axis=1)"
      ],
      "metadata": {
        "id": "IYI_Fu2h3J-l"
      },
      "id": "IYI_Fu2h3J-l",
      "execution_count": 92,
      "outputs": []
    },
    {
      "cell_type": "code",
      "source": [
        "input_all = extract_engine_feature(input_all)\n",
        "input_all = input_all.drop('Fuel Type', axis=1)\n",
        "input_all = input_all.drop('engine', axis=1)"
      ],
      "metadata": {
        "id": "HbwnQzu34eYN"
      },
      "id": "HbwnQzu34eYN",
      "execution_count": 93,
      "outputs": []
    },
    {
      "cell_type": "code",
      "source": [
        "input_all.head()"
      ],
      "metadata": {
        "colab": {
          "base_uri": "https://localhost:8080/",
          "height": 310
        },
        "id": "_dsP29tq3Gd4",
        "outputId": "a9e357c7-63cc-41cd-b776-3f66b948a9c2"
      },
      "id": "_dsP29tq3Gd4",
      "execution_count": 94,
      "outputs": [
        {
          "output_type": "execute_result",
          "data": {
            "text/plain": [
              "           brand              model  model_year  milage      fuel_type  \\\n",
              "0           MINI      Cooper S Base        2007  213000       Gasoline   \n",
              "1        Lincoln              LS V8        2002  143250       Gasoline   \n",
              "2      Chevrolet  Silverado 2500 LT        2002  136731  E85 Flex Fuel   \n",
              "3        Genesis   G90 5.0 Ultimate        2017   19500       Gasoline   \n",
              "4  Mercedes-Benz        Metris Base        2021    7388       Gasoline   \n",
              "\n",
              "                     transmission ext_col int_col  \\\n",
              "0                             A/T  Yellow    Gray   \n",
              "1                             A/T  Silver   Beige   \n",
              "2                             A/T    Blue    Gray   \n",
              "3  Transmission w/Dual Shift Mode   Black   Black   \n",
              "4                     7-Speed A/T   Black   Beige   \n",
              "\n",
              "                                 accident clean_title  Horsepower  \\\n",
              "0                           None reported         Yes       172.0   \n",
              "1  At least 1 accident or damage reported         Yes       252.0   \n",
              "2                           None reported         Yes       320.0   \n",
              "3                           None reported         Yes       420.0   \n",
              "4                           None reported         Yes       208.0   \n",
              "\n",
              "   Displacement Engine Type  Cylinder Count  \n",
              "0           1.6        None             4.0  \n",
              "1           3.9        None             8.0  \n",
              "2           5.3        None             8.0  \n",
              "3           5.0        None             8.0  \n",
              "4           2.0        None             4.0  "
            ],
            "text/html": [
              "\n",
              "  <div id=\"df-474c2987-b250-4487-bdfd-1959138e7bf5\" class=\"colab-df-container\">\n",
              "    <div>\n",
              "<style scoped>\n",
              "    .dataframe tbody tr th:only-of-type {\n",
              "        vertical-align: middle;\n",
              "    }\n",
              "\n",
              "    .dataframe tbody tr th {\n",
              "        vertical-align: top;\n",
              "    }\n",
              "\n",
              "    .dataframe thead th {\n",
              "        text-align: right;\n",
              "    }\n",
              "</style>\n",
              "<table border=\"1\" class=\"dataframe\">\n",
              "  <thead>\n",
              "    <tr style=\"text-align: right;\">\n",
              "      <th></th>\n",
              "      <th>brand</th>\n",
              "      <th>model</th>\n",
              "      <th>model_year</th>\n",
              "      <th>milage</th>\n",
              "      <th>fuel_type</th>\n",
              "      <th>transmission</th>\n",
              "      <th>ext_col</th>\n",
              "      <th>int_col</th>\n",
              "      <th>accident</th>\n",
              "      <th>clean_title</th>\n",
              "      <th>Horsepower</th>\n",
              "      <th>Displacement</th>\n",
              "      <th>Engine Type</th>\n",
              "      <th>Cylinder Count</th>\n",
              "    </tr>\n",
              "  </thead>\n",
              "  <tbody>\n",
              "    <tr>\n",
              "      <th>0</th>\n",
              "      <td>MINI</td>\n",
              "      <td>Cooper S Base</td>\n",
              "      <td>2007</td>\n",
              "      <td>213000</td>\n",
              "      <td>Gasoline</td>\n",
              "      <td>A/T</td>\n",
              "      <td>Yellow</td>\n",
              "      <td>Gray</td>\n",
              "      <td>None reported</td>\n",
              "      <td>Yes</td>\n",
              "      <td>172.0</td>\n",
              "      <td>1.6</td>\n",
              "      <td>None</td>\n",
              "      <td>4.0</td>\n",
              "    </tr>\n",
              "    <tr>\n",
              "      <th>1</th>\n",
              "      <td>Lincoln</td>\n",
              "      <td>LS V8</td>\n",
              "      <td>2002</td>\n",
              "      <td>143250</td>\n",
              "      <td>Gasoline</td>\n",
              "      <td>A/T</td>\n",
              "      <td>Silver</td>\n",
              "      <td>Beige</td>\n",
              "      <td>At least 1 accident or damage reported</td>\n",
              "      <td>Yes</td>\n",
              "      <td>252.0</td>\n",
              "      <td>3.9</td>\n",
              "      <td>None</td>\n",
              "      <td>8.0</td>\n",
              "    </tr>\n",
              "    <tr>\n",
              "      <th>2</th>\n",
              "      <td>Chevrolet</td>\n",
              "      <td>Silverado 2500 LT</td>\n",
              "      <td>2002</td>\n",
              "      <td>136731</td>\n",
              "      <td>E85 Flex Fuel</td>\n",
              "      <td>A/T</td>\n",
              "      <td>Blue</td>\n",
              "      <td>Gray</td>\n",
              "      <td>None reported</td>\n",
              "      <td>Yes</td>\n",
              "      <td>320.0</td>\n",
              "      <td>5.3</td>\n",
              "      <td>None</td>\n",
              "      <td>8.0</td>\n",
              "    </tr>\n",
              "    <tr>\n",
              "      <th>3</th>\n",
              "      <td>Genesis</td>\n",
              "      <td>G90 5.0 Ultimate</td>\n",
              "      <td>2017</td>\n",
              "      <td>19500</td>\n",
              "      <td>Gasoline</td>\n",
              "      <td>Transmission w/Dual Shift Mode</td>\n",
              "      <td>Black</td>\n",
              "      <td>Black</td>\n",
              "      <td>None reported</td>\n",
              "      <td>Yes</td>\n",
              "      <td>420.0</td>\n",
              "      <td>5.0</td>\n",
              "      <td>None</td>\n",
              "      <td>8.0</td>\n",
              "    </tr>\n",
              "    <tr>\n",
              "      <th>4</th>\n",
              "      <td>Mercedes-Benz</td>\n",
              "      <td>Metris Base</td>\n",
              "      <td>2021</td>\n",
              "      <td>7388</td>\n",
              "      <td>Gasoline</td>\n",
              "      <td>7-Speed A/T</td>\n",
              "      <td>Black</td>\n",
              "      <td>Beige</td>\n",
              "      <td>None reported</td>\n",
              "      <td>Yes</td>\n",
              "      <td>208.0</td>\n",
              "      <td>2.0</td>\n",
              "      <td>None</td>\n",
              "      <td>4.0</td>\n",
              "    </tr>\n",
              "  </tbody>\n",
              "</table>\n",
              "</div>\n",
              "    <div class=\"colab-df-buttons\">\n",
              "\n",
              "  <div class=\"colab-df-container\">\n",
              "    <button class=\"colab-df-convert\" onclick=\"convertToInteractive('df-474c2987-b250-4487-bdfd-1959138e7bf5')\"\n",
              "            title=\"Convert this dataframe to an interactive table.\"\n",
              "            style=\"display:none;\">\n",
              "\n",
              "  <svg xmlns=\"http://www.w3.org/2000/svg\" height=\"24px\" viewBox=\"0 -960 960 960\">\n",
              "    <path d=\"M120-120v-720h720v720H120Zm60-500h600v-160H180v160Zm220 220h160v-160H400v160Zm0 220h160v-160H400v160ZM180-400h160v-160H180v160Zm440 0h160v-160H620v160ZM180-180h160v-160H180v160Zm440 0h160v-160H620v160Z\"/>\n",
              "  </svg>\n",
              "    </button>\n",
              "\n",
              "  <style>\n",
              "    .colab-df-container {\n",
              "      display:flex;\n",
              "      gap: 12px;\n",
              "    }\n",
              "\n",
              "    .colab-df-convert {\n",
              "      background-color: #E8F0FE;\n",
              "      border: none;\n",
              "      border-radius: 50%;\n",
              "      cursor: pointer;\n",
              "      display: none;\n",
              "      fill: #1967D2;\n",
              "      height: 32px;\n",
              "      padding: 0 0 0 0;\n",
              "      width: 32px;\n",
              "    }\n",
              "\n",
              "    .colab-df-convert:hover {\n",
              "      background-color: #E2EBFA;\n",
              "      box-shadow: 0px 1px 2px rgba(60, 64, 67, 0.3), 0px 1px 3px 1px rgba(60, 64, 67, 0.15);\n",
              "      fill: #174EA6;\n",
              "    }\n",
              "\n",
              "    .colab-df-buttons div {\n",
              "      margin-bottom: 4px;\n",
              "    }\n",
              "\n",
              "    [theme=dark] .colab-df-convert {\n",
              "      background-color: #3B4455;\n",
              "      fill: #D2E3FC;\n",
              "    }\n",
              "\n",
              "    [theme=dark] .colab-df-convert:hover {\n",
              "      background-color: #434B5C;\n",
              "      box-shadow: 0px 1px 3px 1px rgba(0, 0, 0, 0.15);\n",
              "      filter: drop-shadow(0px 1px 2px rgba(0, 0, 0, 0.3));\n",
              "      fill: #FFFFFF;\n",
              "    }\n",
              "  </style>\n",
              "\n",
              "    <script>\n",
              "      const buttonEl =\n",
              "        document.querySelector('#df-474c2987-b250-4487-bdfd-1959138e7bf5 button.colab-df-convert');\n",
              "      buttonEl.style.display =\n",
              "        google.colab.kernel.accessAllowed ? 'block' : 'none';\n",
              "\n",
              "      async function convertToInteractive(key) {\n",
              "        const element = document.querySelector('#df-474c2987-b250-4487-bdfd-1959138e7bf5');\n",
              "        const dataTable =\n",
              "          await google.colab.kernel.invokeFunction('convertToInteractive',\n",
              "                                                    [key], {});\n",
              "        if (!dataTable) return;\n",
              "\n",
              "        const docLinkHtml = 'Like what you see? Visit the ' +\n",
              "          '<a target=\"_blank\" href=https://colab.research.google.com/notebooks/data_table.ipynb>data table notebook</a>'\n",
              "          + ' to learn more about interactive tables.';\n",
              "        element.innerHTML = '';\n",
              "        dataTable['output_type'] = 'display_data';\n",
              "        await google.colab.output.renderOutput(dataTable, element);\n",
              "        const docLink = document.createElement('div');\n",
              "        docLink.innerHTML = docLinkHtml;\n",
              "        element.appendChild(docLink);\n",
              "      }\n",
              "    </script>\n",
              "  </div>\n",
              "\n",
              "\n",
              "<div id=\"df-4799c889-5738-4a03-89e9-6e83678eeb86\">\n",
              "  <button class=\"colab-df-quickchart\" onclick=\"quickchart('df-4799c889-5738-4a03-89e9-6e83678eeb86')\"\n",
              "            title=\"Suggest charts\"\n",
              "            style=\"display:none;\">\n",
              "\n",
              "<svg xmlns=\"http://www.w3.org/2000/svg\" height=\"24px\"viewBox=\"0 0 24 24\"\n",
              "     width=\"24px\">\n",
              "    <g>\n",
              "        <path d=\"M19 3H5c-1.1 0-2 .9-2 2v14c0 1.1.9 2 2 2h14c1.1 0 2-.9 2-2V5c0-1.1-.9-2-2-2zM9 17H7v-7h2v7zm4 0h-2V7h2v10zm4 0h-2v-4h2v4z\"/>\n",
              "    </g>\n",
              "</svg>\n",
              "  </button>\n",
              "\n",
              "<style>\n",
              "  .colab-df-quickchart {\n",
              "      --bg-color: #E8F0FE;\n",
              "      --fill-color: #1967D2;\n",
              "      --hover-bg-color: #E2EBFA;\n",
              "      --hover-fill-color: #174EA6;\n",
              "      --disabled-fill-color: #AAA;\n",
              "      --disabled-bg-color: #DDD;\n",
              "  }\n",
              "\n",
              "  [theme=dark] .colab-df-quickchart {\n",
              "      --bg-color: #3B4455;\n",
              "      --fill-color: #D2E3FC;\n",
              "      --hover-bg-color: #434B5C;\n",
              "      --hover-fill-color: #FFFFFF;\n",
              "      --disabled-bg-color: #3B4455;\n",
              "      --disabled-fill-color: #666;\n",
              "  }\n",
              "\n",
              "  .colab-df-quickchart {\n",
              "    background-color: var(--bg-color);\n",
              "    border: none;\n",
              "    border-radius: 50%;\n",
              "    cursor: pointer;\n",
              "    display: none;\n",
              "    fill: var(--fill-color);\n",
              "    height: 32px;\n",
              "    padding: 0;\n",
              "    width: 32px;\n",
              "  }\n",
              "\n",
              "  .colab-df-quickchart:hover {\n",
              "    background-color: var(--hover-bg-color);\n",
              "    box-shadow: 0 1px 2px rgba(60, 64, 67, 0.3), 0 1px 3px 1px rgba(60, 64, 67, 0.15);\n",
              "    fill: var(--button-hover-fill-color);\n",
              "  }\n",
              "\n",
              "  .colab-df-quickchart-complete:disabled,\n",
              "  .colab-df-quickchart-complete:disabled:hover {\n",
              "    background-color: var(--disabled-bg-color);\n",
              "    fill: var(--disabled-fill-color);\n",
              "    box-shadow: none;\n",
              "  }\n",
              "\n",
              "  .colab-df-spinner {\n",
              "    border: 2px solid var(--fill-color);\n",
              "    border-color: transparent;\n",
              "    border-bottom-color: var(--fill-color);\n",
              "    animation:\n",
              "      spin 1s steps(1) infinite;\n",
              "  }\n",
              "\n",
              "  @keyframes spin {\n",
              "    0% {\n",
              "      border-color: transparent;\n",
              "      border-bottom-color: var(--fill-color);\n",
              "      border-left-color: var(--fill-color);\n",
              "    }\n",
              "    20% {\n",
              "      border-color: transparent;\n",
              "      border-left-color: var(--fill-color);\n",
              "      border-top-color: var(--fill-color);\n",
              "    }\n",
              "    30% {\n",
              "      border-color: transparent;\n",
              "      border-left-color: var(--fill-color);\n",
              "      border-top-color: var(--fill-color);\n",
              "      border-right-color: var(--fill-color);\n",
              "    }\n",
              "    40% {\n",
              "      border-color: transparent;\n",
              "      border-right-color: var(--fill-color);\n",
              "      border-top-color: var(--fill-color);\n",
              "    }\n",
              "    60% {\n",
              "      border-color: transparent;\n",
              "      border-right-color: var(--fill-color);\n",
              "    }\n",
              "    80% {\n",
              "      border-color: transparent;\n",
              "      border-right-color: var(--fill-color);\n",
              "      border-bottom-color: var(--fill-color);\n",
              "    }\n",
              "    90% {\n",
              "      border-color: transparent;\n",
              "      border-bottom-color: var(--fill-color);\n",
              "    }\n",
              "  }\n",
              "</style>\n",
              "\n",
              "  <script>\n",
              "    async function quickchart(key) {\n",
              "      const quickchartButtonEl =\n",
              "        document.querySelector('#' + key + ' button');\n",
              "      quickchartButtonEl.disabled = true;  // To prevent multiple clicks.\n",
              "      quickchartButtonEl.classList.add('colab-df-spinner');\n",
              "      try {\n",
              "        const charts = await google.colab.kernel.invokeFunction(\n",
              "            'suggestCharts', [key], {});\n",
              "      } catch (error) {\n",
              "        console.error('Error during call to suggestCharts:', error);\n",
              "      }\n",
              "      quickchartButtonEl.classList.remove('colab-df-spinner');\n",
              "      quickchartButtonEl.classList.add('colab-df-quickchart-complete');\n",
              "    }\n",
              "    (() => {\n",
              "      let quickchartButtonEl =\n",
              "        document.querySelector('#df-4799c889-5738-4a03-89e9-6e83678eeb86 button');\n",
              "      quickchartButtonEl.style.display =\n",
              "        google.colab.kernel.accessAllowed ? 'block' : 'none';\n",
              "    })();\n",
              "  </script>\n",
              "</div>\n",
              "\n",
              "    </div>\n",
              "  </div>\n"
            ],
            "application/vnd.google.colaboratory.intrinsic+json": {
              "type": "dataframe",
              "variable_name": "input_all"
            }
          },
          "metadata": {},
          "execution_count": 94
        }
      ]
    },
    {
      "cell_type": "markdown",
      "id": "63fb85c1-f022-4418-af44-26606cf4e7e9",
      "metadata": {
        "collapsed": false,
        "jupyter": {
          "outputs_hidden": false
        },
        "id": "63fb85c1-f022-4418-af44-26606cf4e7e9"
      },
      "source": [
        "## Proceso valores perdidos"
      ]
    },
    {
      "cell_type": "code",
      "execution_count": 95,
      "id": "f08cd751-28b8-4926-93e6-f1aa39238ad4",
      "metadata": {
        "jupyter": {
          "outputs_hidden": false
        },
        "colab": {
          "base_uri": "https://localhost:8080/",
          "height": 523
        },
        "id": "f08cd751-28b8-4926-93e6-f1aa39238ad4",
        "outputId": "6fb7810d-9b4d-44ff-bc38-4cf32d47abf6"
      },
      "outputs": [
        {
          "output_type": "execute_result",
          "data": {
            "text/plain": [
              "brand                 0\n",
              "model                 0\n",
              "model_year            0\n",
              "milage                0\n",
              "fuel_type          3383\n",
              "transmission          0\n",
              "ext_col               0\n",
              "int_col               0\n",
              "accident           1632\n",
              "clean_title       14239\n",
              "Horsepower        22181\n",
              "Displacement       4438\n",
              "Engine Type       66299\n",
              "Cylinder Count    25150\n",
              "dtype: int64"
            ],
            "text/html": [
              "<div>\n",
              "<style scoped>\n",
              "    .dataframe tbody tr th:only-of-type {\n",
              "        vertical-align: middle;\n",
              "    }\n",
              "\n",
              "    .dataframe tbody tr th {\n",
              "        vertical-align: top;\n",
              "    }\n",
              "\n",
              "    .dataframe thead th {\n",
              "        text-align: right;\n",
              "    }\n",
              "</style>\n",
              "<table border=\"1\" class=\"dataframe\">\n",
              "  <thead>\n",
              "    <tr style=\"text-align: right;\">\n",
              "      <th></th>\n",
              "      <th>0</th>\n",
              "    </tr>\n",
              "  </thead>\n",
              "  <tbody>\n",
              "    <tr>\n",
              "      <th>brand</th>\n",
              "      <td>0</td>\n",
              "    </tr>\n",
              "    <tr>\n",
              "      <th>model</th>\n",
              "      <td>0</td>\n",
              "    </tr>\n",
              "    <tr>\n",
              "      <th>model_year</th>\n",
              "      <td>0</td>\n",
              "    </tr>\n",
              "    <tr>\n",
              "      <th>milage</th>\n",
              "      <td>0</td>\n",
              "    </tr>\n",
              "    <tr>\n",
              "      <th>fuel_type</th>\n",
              "      <td>3383</td>\n",
              "    </tr>\n",
              "    <tr>\n",
              "      <th>transmission</th>\n",
              "      <td>0</td>\n",
              "    </tr>\n",
              "    <tr>\n",
              "      <th>ext_col</th>\n",
              "      <td>0</td>\n",
              "    </tr>\n",
              "    <tr>\n",
              "      <th>int_col</th>\n",
              "      <td>0</td>\n",
              "    </tr>\n",
              "    <tr>\n",
              "      <th>accident</th>\n",
              "      <td>1632</td>\n",
              "    </tr>\n",
              "    <tr>\n",
              "      <th>clean_title</th>\n",
              "      <td>14239</td>\n",
              "    </tr>\n",
              "    <tr>\n",
              "      <th>Horsepower</th>\n",
              "      <td>22181</td>\n",
              "    </tr>\n",
              "    <tr>\n",
              "      <th>Displacement</th>\n",
              "      <td>4438</td>\n",
              "    </tr>\n",
              "    <tr>\n",
              "      <th>Engine Type</th>\n",
              "      <td>66299</td>\n",
              "    </tr>\n",
              "    <tr>\n",
              "      <th>Cylinder Count</th>\n",
              "      <td>25150</td>\n",
              "    </tr>\n",
              "  </tbody>\n",
              "</table>\n",
              "</div><br><label><b>dtype:</b> int64</label>"
            ]
          },
          "metadata": {},
          "execution_count": 95
        }
      ],
      "source": [
        "test.isnull().sum()"
      ]
    },
    {
      "cell_type": "code",
      "execution_count": 96,
      "id": "44f937e3-c413-4d86-9fcb-92ea84877412",
      "metadata": {
        "jupyter": {
          "outputs_hidden": false
        },
        "colab": {
          "base_uri": "https://localhost:8080/",
          "height": 554
        },
        "id": "44f937e3-c413-4d86-9fcb-92ea84877412",
        "outputId": "26fcb824-ad1a-4903-e004-c77426cf25d1"
      },
      "outputs": [
        {
          "output_type": "execute_result",
          "data": {
            "text/plain": [
              "brand                 0\n",
              "model                 0\n",
              "model_year            0\n",
              "milage                0\n",
              "fuel_type          5083\n",
              "transmission          0\n",
              "ext_col               0\n",
              "int_col               0\n",
              "accident           2452\n",
              "clean_title       21419\n",
              "price                 0\n",
              "Horsepower        33259\n",
              "Displacement       6770\n",
              "Engine Type       99563\n",
              "Cylinder Count    37855\n",
              "dtype: int64"
            ],
            "text/html": [
              "<div>\n",
              "<style scoped>\n",
              "    .dataframe tbody tr th:only-of-type {\n",
              "        vertical-align: middle;\n",
              "    }\n",
              "\n",
              "    .dataframe tbody tr th {\n",
              "        vertical-align: top;\n",
              "    }\n",
              "\n",
              "    .dataframe thead th {\n",
              "        text-align: right;\n",
              "    }\n",
              "</style>\n",
              "<table border=\"1\" class=\"dataframe\">\n",
              "  <thead>\n",
              "    <tr style=\"text-align: right;\">\n",
              "      <th></th>\n",
              "      <th>0</th>\n",
              "    </tr>\n",
              "  </thead>\n",
              "  <tbody>\n",
              "    <tr>\n",
              "      <th>brand</th>\n",
              "      <td>0</td>\n",
              "    </tr>\n",
              "    <tr>\n",
              "      <th>model</th>\n",
              "      <td>0</td>\n",
              "    </tr>\n",
              "    <tr>\n",
              "      <th>model_year</th>\n",
              "      <td>0</td>\n",
              "    </tr>\n",
              "    <tr>\n",
              "      <th>milage</th>\n",
              "      <td>0</td>\n",
              "    </tr>\n",
              "    <tr>\n",
              "      <th>fuel_type</th>\n",
              "      <td>5083</td>\n",
              "    </tr>\n",
              "    <tr>\n",
              "      <th>transmission</th>\n",
              "      <td>0</td>\n",
              "    </tr>\n",
              "    <tr>\n",
              "      <th>ext_col</th>\n",
              "      <td>0</td>\n",
              "    </tr>\n",
              "    <tr>\n",
              "      <th>int_col</th>\n",
              "      <td>0</td>\n",
              "    </tr>\n",
              "    <tr>\n",
              "      <th>accident</th>\n",
              "      <td>2452</td>\n",
              "    </tr>\n",
              "    <tr>\n",
              "      <th>clean_title</th>\n",
              "      <td>21419</td>\n",
              "    </tr>\n",
              "    <tr>\n",
              "      <th>price</th>\n",
              "      <td>0</td>\n",
              "    </tr>\n",
              "    <tr>\n",
              "      <th>Horsepower</th>\n",
              "      <td>33259</td>\n",
              "    </tr>\n",
              "    <tr>\n",
              "      <th>Displacement</th>\n",
              "      <td>6770</td>\n",
              "    </tr>\n",
              "    <tr>\n",
              "      <th>Engine Type</th>\n",
              "      <td>99563</td>\n",
              "    </tr>\n",
              "    <tr>\n",
              "      <th>Cylinder Count</th>\n",
              "      <td>37855</td>\n",
              "    </tr>\n",
              "  </tbody>\n",
              "</table>\n",
              "</div><br><label><b>dtype:</b> int64</label>"
            ]
          },
          "metadata": {},
          "execution_count": 96
        }
      ],
      "source": [
        "train.isnull().sum()"
      ]
    },
    {
      "cell_type": "markdown",
      "source": [
        "# preprocesamiento profesor"
      ],
      "metadata": {
        "id": "Ma2RFVH7dRzv"
      },
      "id": "Ma2RFVH7dRzv"
    },
    {
      "cell_type": "markdown",
      "id": "f008c447-5d91-4fb7-906c-12d629affbbd",
      "metadata": {
        "collapsed": false,
        "jupyter": {
          "outputs_hidden": false
        },
        "id": "f008c447-5d91-4fb7-906c-12d629affbbd"
      },
      "source": [
        "Hay valores perdidos tanto en el conjunto de entrenamiento como en el de test."
      ]
    },
    {
      "cell_type": "code",
      "execution_count": 97,
      "id": "ec3583ef-c507-4149-9bac-fadd79b7ee6d",
      "metadata": {
        "jupyter": {
          "outputs_hidden": false
        },
        "id": "ec3583ef-c507-4149-9bac-fadd79b7ee6d"
      },
      "outputs": [],
      "source": [
        "from sklearn.impute import SimpleImputer"
      ]
    },
    {
      "cell_type": "markdown",
      "id": "3282e712-8f1a-44d1-9800-40a1a455800b",
      "metadata": {
        "collapsed": false,
        "jupyter": {
          "outputs_hidden": false
        },
        "id": "3282e712-8f1a-44d1-9800-40a1a455800b"
      },
      "source": [
        "Voy a reemplazar los valores categóricos por el más frecuente (es mejorable)"
      ]
    },
    {
      "cell_type": "code",
      "source": [
        "col_cat = list(input_all.select_dtypes(exclude=np.number).columns)\n",
        "col_cat"
      ],
      "metadata": {
        "colab": {
          "base_uri": "https://localhost:8080/"
        },
        "id": "JWFT946Y5Gbs",
        "outputId": "a3aa41f3-cc99-4eb7-eace-21e7077783e5"
      },
      "id": "JWFT946Y5Gbs",
      "execution_count": 98,
      "outputs": [
        {
          "output_type": "execute_result",
          "data": {
            "text/plain": [
              "['brand',\n",
              " 'model',\n",
              " 'fuel_type',\n",
              " 'transmission',\n",
              " 'ext_col',\n",
              " 'int_col',\n",
              " 'accident',\n",
              " 'clean_title',\n",
              " 'Engine Type']"
            ]
          },
          "metadata": {},
          "execution_count": 98
        }
      ]
    },
    {
      "cell_type": "code",
      "execution_count": 99,
      "id": "4e729ce0-58ff-4476-8480-2aab56038190",
      "metadata": {
        "jupyter": {
          "outputs_hidden": false
        },
        "id": "4e729ce0-58ff-4476-8480-2aab56038190"
      },
      "outputs": [],
      "source": [
        "imputer_cat = SimpleImputer(strategy=\"most_frequent\")\n",
        "imputer_cat.fit(input_all[col_cat])\n",
        "train[col_cat] = imputer_cat.transform(train[col_cat])\n",
        "test[col_cat] = imputer_cat.transform(test[col_cat])"
      ]
    },
    {
      "cell_type": "markdown",
      "id": "0972c80d-9e17-4364-9fec-d311ef804753",
      "metadata": {
        "collapsed": false,
        "jupyter": {
          "outputs_hidden": false
        },
        "id": "0972c80d-9e17-4364-9fec-d311ef804753"
      },
      "source": [
        "Compruebo que la variable objetivo no tenga valores nulos. Si fuese el caso habría que borrar dichas instancias."
      ]
    },
    {
      "cell_type": "code",
      "execution_count": 100,
      "id": "4e69a2cb-d8a5-45a5-8cb4-6eb6ea1bc8b8",
      "metadata": {
        "jupyter": {
          "outputs_hidden": false
        },
        "colab": {
          "base_uri": "https://localhost:8080/"
        },
        "id": "4e69a2cb-d8a5-45a5-8cb4-6eb6ea1bc8b8",
        "outputId": "a945817b-d453-4df0-f709-b3bbf6eba3d9"
      },
      "outputs": [
        {
          "output_type": "execute_result",
          "data": {
            "text/plain": [
              "0"
            ]
          },
          "metadata": {},
          "execution_count": 100
        }
      ],
      "source": [
        "train.price.isnull().sum()"
      ]
    },
    {
      "cell_type": "markdown",
      "id": "3c9383e0-7b3d-4b07-83c4-6b8f9d3c0fa4",
      "metadata": {
        "collapsed": false,
        "jupyter": {
          "outputs_hidden": false
        },
        "id": "3c9383e0-7b3d-4b07-83c4-6b8f9d3c0fa4"
      },
      "source": [
        "Ahora reemplazo los valores numéricos por la mediana."
      ]
    },
    {
      "cell_type": "code",
      "execution_count": 101,
      "id": "eab34edf-d22d-4dd8-8592-77a71100b654",
      "metadata": {
        "jupyter": {
          "outputs_hidden": false
        },
        "id": "eab34edf-d22d-4dd8-8592-77a71100b654"
      },
      "outputs": [],
      "source": [
        "col_num = list(train.select_dtypes(include=np.number).columns)\n",
        "col_num.remove('price')\n",
        "imputer_num = SimpleImputer(strategy=\"median\") #aquí se debe modificar por mean para el preprocesameinto general\n",
        "imputer_num.fit(input_all[col_num])\n",
        "train[col_num] = imputer_num.transform(train[col_num])\n",
        "test[col_num] = imputer_num.transform(test[col_num])"
      ]
    },
    {
      "cell_type": "markdown",
      "source": [
        "## Manejo variables booleanas"
      ],
      "metadata": {
        "id": "jo4IEExT5T-q"
      },
      "id": "jo4IEExT5T-q"
    },
    {
      "cell_type": "code",
      "source": [
        "def mapping_columns(df):\n",
        "    # replace values in the 'accident' column\n",
        "    df['accident'] = df['accident'].replace({\n",
        "        'At least 1 accident or damage reported': 1,\n",
        "        'None reported': 0\n",
        "    })\n",
        "\n",
        "    # replace values in the 'clean_title' column\n",
        "    df['clean_title'] = df['clean_title'].replace({\n",
        "        'Yes': 1,\n",
        "        'No': 0\n",
        "    })\n",
        "\n",
        "    return df"
      ],
      "metadata": {
        "id": "pac907t_5bLW"
      },
      "id": "pac907t_5bLW",
      "execution_count": 102,
      "outputs": []
    },
    {
      "cell_type": "code",
      "source": [
        "train = mapping_columns(train)\n",
        "test = mapping_columns(test)\n",
        "input_all = mapping_columns(input_all)"
      ],
      "metadata": {
        "colab": {
          "base_uri": "https://localhost:8080/"
        },
        "id": "EmsX65X55e3o",
        "outputId": "5a1210e5-0bda-43ef-83a2-dc5b84abecda"
      },
      "id": "EmsX65X55e3o",
      "execution_count": 103,
      "outputs": [
        {
          "output_type": "stream",
          "name": "stderr",
          "text": [
            "<ipython-input-102-2028b69d9bc1>:3: FutureWarning: Downcasting behavior in `replace` is deprecated and will be removed in a future version. To retain the old behavior, explicitly call `result.infer_objects(copy=False)`. To opt-in to the future behavior, set `pd.set_option('future.no_silent_downcasting', True)`\n",
            "  df['accident'] = df['accident'].replace({\n",
            "<ipython-input-102-2028b69d9bc1>:9: FutureWarning: Downcasting behavior in `replace` is deprecated and will be removed in a future version. To retain the old behavior, explicitly call `result.infer_objects(copy=False)`. To opt-in to the future behavior, set `pd.set_option('future.no_silent_downcasting', True)`\n",
            "  df['clean_title'] = df['clean_title'].replace({\n"
          ]
        }
      ]
    },
    {
      "cell_type": "code",
      "source": [
        "input_all.head()"
      ],
      "metadata": {
        "colab": {
          "base_uri": "https://localhost:8080/",
          "height": 275
        },
        "id": "D6zIJhHz5kzU",
        "outputId": "99994c6d-ae0d-4601-cdd3-346e2f60949c"
      },
      "id": "D6zIJhHz5kzU",
      "execution_count": 104,
      "outputs": [
        {
          "output_type": "execute_result",
          "data": {
            "text/plain": [
              "           brand              model  model_year  milage      fuel_type  \\\n",
              "0           MINI      Cooper S Base        2007  213000       Gasoline   \n",
              "1        Lincoln              LS V8        2002  143250       Gasoline   \n",
              "2      Chevrolet  Silverado 2500 LT        2002  136731  E85 Flex Fuel   \n",
              "3        Genesis   G90 5.0 Ultimate        2017   19500       Gasoline   \n",
              "4  Mercedes-Benz        Metris Base        2021    7388       Gasoline   \n",
              "\n",
              "                     transmission ext_col int_col  accident  clean_title  \\\n",
              "0                             A/T  Yellow    Gray       0.0          1.0   \n",
              "1                             A/T  Silver   Beige       1.0          1.0   \n",
              "2                             A/T    Blue    Gray       0.0          1.0   \n",
              "3  Transmission w/Dual Shift Mode   Black   Black       0.0          1.0   \n",
              "4                     7-Speed A/T   Black   Beige       0.0          1.0   \n",
              "\n",
              "   Horsepower  Displacement Engine Type  Cylinder Count  \n",
              "0       172.0           1.6        None             4.0  \n",
              "1       252.0           3.9        None             8.0  \n",
              "2       320.0           5.3        None             8.0  \n",
              "3       420.0           5.0        None             8.0  \n",
              "4       208.0           2.0        None             4.0  "
            ],
            "text/html": [
              "\n",
              "  <div id=\"df-be3eb359-94b1-470f-bd76-5c65c13a2804\" class=\"colab-df-container\">\n",
              "    <div>\n",
              "<style scoped>\n",
              "    .dataframe tbody tr th:only-of-type {\n",
              "        vertical-align: middle;\n",
              "    }\n",
              "\n",
              "    .dataframe tbody tr th {\n",
              "        vertical-align: top;\n",
              "    }\n",
              "\n",
              "    .dataframe thead th {\n",
              "        text-align: right;\n",
              "    }\n",
              "</style>\n",
              "<table border=\"1\" class=\"dataframe\">\n",
              "  <thead>\n",
              "    <tr style=\"text-align: right;\">\n",
              "      <th></th>\n",
              "      <th>brand</th>\n",
              "      <th>model</th>\n",
              "      <th>model_year</th>\n",
              "      <th>milage</th>\n",
              "      <th>fuel_type</th>\n",
              "      <th>transmission</th>\n",
              "      <th>ext_col</th>\n",
              "      <th>int_col</th>\n",
              "      <th>accident</th>\n",
              "      <th>clean_title</th>\n",
              "      <th>Horsepower</th>\n",
              "      <th>Displacement</th>\n",
              "      <th>Engine Type</th>\n",
              "      <th>Cylinder Count</th>\n",
              "    </tr>\n",
              "  </thead>\n",
              "  <tbody>\n",
              "    <tr>\n",
              "      <th>0</th>\n",
              "      <td>MINI</td>\n",
              "      <td>Cooper S Base</td>\n",
              "      <td>2007</td>\n",
              "      <td>213000</td>\n",
              "      <td>Gasoline</td>\n",
              "      <td>A/T</td>\n",
              "      <td>Yellow</td>\n",
              "      <td>Gray</td>\n",
              "      <td>0.0</td>\n",
              "      <td>1.0</td>\n",
              "      <td>172.0</td>\n",
              "      <td>1.6</td>\n",
              "      <td>None</td>\n",
              "      <td>4.0</td>\n",
              "    </tr>\n",
              "    <tr>\n",
              "      <th>1</th>\n",
              "      <td>Lincoln</td>\n",
              "      <td>LS V8</td>\n",
              "      <td>2002</td>\n",
              "      <td>143250</td>\n",
              "      <td>Gasoline</td>\n",
              "      <td>A/T</td>\n",
              "      <td>Silver</td>\n",
              "      <td>Beige</td>\n",
              "      <td>1.0</td>\n",
              "      <td>1.0</td>\n",
              "      <td>252.0</td>\n",
              "      <td>3.9</td>\n",
              "      <td>None</td>\n",
              "      <td>8.0</td>\n",
              "    </tr>\n",
              "    <tr>\n",
              "      <th>2</th>\n",
              "      <td>Chevrolet</td>\n",
              "      <td>Silverado 2500 LT</td>\n",
              "      <td>2002</td>\n",
              "      <td>136731</td>\n",
              "      <td>E85 Flex Fuel</td>\n",
              "      <td>A/T</td>\n",
              "      <td>Blue</td>\n",
              "      <td>Gray</td>\n",
              "      <td>0.0</td>\n",
              "      <td>1.0</td>\n",
              "      <td>320.0</td>\n",
              "      <td>5.3</td>\n",
              "      <td>None</td>\n",
              "      <td>8.0</td>\n",
              "    </tr>\n",
              "    <tr>\n",
              "      <th>3</th>\n",
              "      <td>Genesis</td>\n",
              "      <td>G90 5.0 Ultimate</td>\n",
              "      <td>2017</td>\n",
              "      <td>19500</td>\n",
              "      <td>Gasoline</td>\n",
              "      <td>Transmission w/Dual Shift Mode</td>\n",
              "      <td>Black</td>\n",
              "      <td>Black</td>\n",
              "      <td>0.0</td>\n",
              "      <td>1.0</td>\n",
              "      <td>420.0</td>\n",
              "      <td>5.0</td>\n",
              "      <td>None</td>\n",
              "      <td>8.0</td>\n",
              "    </tr>\n",
              "    <tr>\n",
              "      <th>4</th>\n",
              "      <td>Mercedes-Benz</td>\n",
              "      <td>Metris Base</td>\n",
              "      <td>2021</td>\n",
              "      <td>7388</td>\n",
              "      <td>Gasoline</td>\n",
              "      <td>7-Speed A/T</td>\n",
              "      <td>Black</td>\n",
              "      <td>Beige</td>\n",
              "      <td>0.0</td>\n",
              "      <td>1.0</td>\n",
              "      <td>208.0</td>\n",
              "      <td>2.0</td>\n",
              "      <td>None</td>\n",
              "      <td>4.0</td>\n",
              "    </tr>\n",
              "  </tbody>\n",
              "</table>\n",
              "</div>\n",
              "    <div class=\"colab-df-buttons\">\n",
              "\n",
              "  <div class=\"colab-df-container\">\n",
              "    <button class=\"colab-df-convert\" onclick=\"convertToInteractive('df-be3eb359-94b1-470f-bd76-5c65c13a2804')\"\n",
              "            title=\"Convert this dataframe to an interactive table.\"\n",
              "            style=\"display:none;\">\n",
              "\n",
              "  <svg xmlns=\"http://www.w3.org/2000/svg\" height=\"24px\" viewBox=\"0 -960 960 960\">\n",
              "    <path d=\"M120-120v-720h720v720H120Zm60-500h600v-160H180v160Zm220 220h160v-160H400v160Zm0 220h160v-160H400v160ZM180-400h160v-160H180v160Zm440 0h160v-160H620v160ZM180-180h160v-160H180v160Zm440 0h160v-160H620v160Z\"/>\n",
              "  </svg>\n",
              "    </button>\n",
              "\n",
              "  <style>\n",
              "    .colab-df-container {\n",
              "      display:flex;\n",
              "      gap: 12px;\n",
              "    }\n",
              "\n",
              "    .colab-df-convert {\n",
              "      background-color: #E8F0FE;\n",
              "      border: none;\n",
              "      border-radius: 50%;\n",
              "      cursor: pointer;\n",
              "      display: none;\n",
              "      fill: #1967D2;\n",
              "      height: 32px;\n",
              "      padding: 0 0 0 0;\n",
              "      width: 32px;\n",
              "    }\n",
              "\n",
              "    .colab-df-convert:hover {\n",
              "      background-color: #E2EBFA;\n",
              "      box-shadow: 0px 1px 2px rgba(60, 64, 67, 0.3), 0px 1px 3px 1px rgba(60, 64, 67, 0.15);\n",
              "      fill: #174EA6;\n",
              "    }\n",
              "\n",
              "    .colab-df-buttons div {\n",
              "      margin-bottom: 4px;\n",
              "    }\n",
              "\n",
              "    [theme=dark] .colab-df-convert {\n",
              "      background-color: #3B4455;\n",
              "      fill: #D2E3FC;\n",
              "    }\n",
              "\n",
              "    [theme=dark] .colab-df-convert:hover {\n",
              "      background-color: #434B5C;\n",
              "      box-shadow: 0px 1px 3px 1px rgba(0, 0, 0, 0.15);\n",
              "      filter: drop-shadow(0px 1px 2px rgba(0, 0, 0, 0.3));\n",
              "      fill: #FFFFFF;\n",
              "    }\n",
              "  </style>\n",
              "\n",
              "    <script>\n",
              "      const buttonEl =\n",
              "        document.querySelector('#df-be3eb359-94b1-470f-bd76-5c65c13a2804 button.colab-df-convert');\n",
              "      buttonEl.style.display =\n",
              "        google.colab.kernel.accessAllowed ? 'block' : 'none';\n",
              "\n",
              "      async function convertToInteractive(key) {\n",
              "        const element = document.querySelector('#df-be3eb359-94b1-470f-bd76-5c65c13a2804');\n",
              "        const dataTable =\n",
              "          await google.colab.kernel.invokeFunction('convertToInteractive',\n",
              "                                                    [key], {});\n",
              "        if (!dataTable) return;\n",
              "\n",
              "        const docLinkHtml = 'Like what you see? Visit the ' +\n",
              "          '<a target=\"_blank\" href=https://colab.research.google.com/notebooks/data_table.ipynb>data table notebook</a>'\n",
              "          + ' to learn more about interactive tables.';\n",
              "        element.innerHTML = '';\n",
              "        dataTable['output_type'] = 'display_data';\n",
              "        await google.colab.output.renderOutput(dataTable, element);\n",
              "        const docLink = document.createElement('div');\n",
              "        docLink.innerHTML = docLinkHtml;\n",
              "        element.appendChild(docLink);\n",
              "      }\n",
              "    </script>\n",
              "  </div>\n",
              "\n",
              "\n",
              "<div id=\"df-2e20f250-8672-46ce-bd8f-2c28049a4d56\">\n",
              "  <button class=\"colab-df-quickchart\" onclick=\"quickchart('df-2e20f250-8672-46ce-bd8f-2c28049a4d56')\"\n",
              "            title=\"Suggest charts\"\n",
              "            style=\"display:none;\">\n",
              "\n",
              "<svg xmlns=\"http://www.w3.org/2000/svg\" height=\"24px\"viewBox=\"0 0 24 24\"\n",
              "     width=\"24px\">\n",
              "    <g>\n",
              "        <path d=\"M19 3H5c-1.1 0-2 .9-2 2v14c0 1.1.9 2 2 2h14c1.1 0 2-.9 2-2V5c0-1.1-.9-2-2-2zM9 17H7v-7h2v7zm4 0h-2V7h2v10zm4 0h-2v-4h2v4z\"/>\n",
              "    </g>\n",
              "</svg>\n",
              "  </button>\n",
              "\n",
              "<style>\n",
              "  .colab-df-quickchart {\n",
              "      --bg-color: #E8F0FE;\n",
              "      --fill-color: #1967D2;\n",
              "      --hover-bg-color: #E2EBFA;\n",
              "      --hover-fill-color: #174EA6;\n",
              "      --disabled-fill-color: #AAA;\n",
              "      --disabled-bg-color: #DDD;\n",
              "  }\n",
              "\n",
              "  [theme=dark] .colab-df-quickchart {\n",
              "      --bg-color: #3B4455;\n",
              "      --fill-color: #D2E3FC;\n",
              "      --hover-bg-color: #434B5C;\n",
              "      --hover-fill-color: #FFFFFF;\n",
              "      --disabled-bg-color: #3B4455;\n",
              "      --disabled-fill-color: #666;\n",
              "  }\n",
              "\n",
              "  .colab-df-quickchart {\n",
              "    background-color: var(--bg-color);\n",
              "    border: none;\n",
              "    border-radius: 50%;\n",
              "    cursor: pointer;\n",
              "    display: none;\n",
              "    fill: var(--fill-color);\n",
              "    height: 32px;\n",
              "    padding: 0;\n",
              "    width: 32px;\n",
              "  }\n",
              "\n",
              "  .colab-df-quickchart:hover {\n",
              "    background-color: var(--hover-bg-color);\n",
              "    box-shadow: 0 1px 2px rgba(60, 64, 67, 0.3), 0 1px 3px 1px rgba(60, 64, 67, 0.15);\n",
              "    fill: var(--button-hover-fill-color);\n",
              "  }\n",
              "\n",
              "  .colab-df-quickchart-complete:disabled,\n",
              "  .colab-df-quickchart-complete:disabled:hover {\n",
              "    background-color: var(--disabled-bg-color);\n",
              "    fill: var(--disabled-fill-color);\n",
              "    box-shadow: none;\n",
              "  }\n",
              "\n",
              "  .colab-df-spinner {\n",
              "    border: 2px solid var(--fill-color);\n",
              "    border-color: transparent;\n",
              "    border-bottom-color: var(--fill-color);\n",
              "    animation:\n",
              "      spin 1s steps(1) infinite;\n",
              "  }\n",
              "\n",
              "  @keyframes spin {\n",
              "    0% {\n",
              "      border-color: transparent;\n",
              "      border-bottom-color: var(--fill-color);\n",
              "      border-left-color: var(--fill-color);\n",
              "    }\n",
              "    20% {\n",
              "      border-color: transparent;\n",
              "      border-left-color: var(--fill-color);\n",
              "      border-top-color: var(--fill-color);\n",
              "    }\n",
              "    30% {\n",
              "      border-color: transparent;\n",
              "      border-left-color: var(--fill-color);\n",
              "      border-top-color: var(--fill-color);\n",
              "      border-right-color: var(--fill-color);\n",
              "    }\n",
              "    40% {\n",
              "      border-color: transparent;\n",
              "      border-right-color: var(--fill-color);\n",
              "      border-top-color: var(--fill-color);\n",
              "    }\n",
              "    60% {\n",
              "      border-color: transparent;\n",
              "      border-right-color: var(--fill-color);\n",
              "    }\n",
              "    80% {\n",
              "      border-color: transparent;\n",
              "      border-right-color: var(--fill-color);\n",
              "      border-bottom-color: var(--fill-color);\n",
              "    }\n",
              "    90% {\n",
              "      border-color: transparent;\n",
              "      border-bottom-color: var(--fill-color);\n",
              "    }\n",
              "  }\n",
              "</style>\n",
              "\n",
              "  <script>\n",
              "    async function quickchart(key) {\n",
              "      const quickchartButtonEl =\n",
              "        document.querySelector('#' + key + ' button');\n",
              "      quickchartButtonEl.disabled = true;  // To prevent multiple clicks.\n",
              "      quickchartButtonEl.classList.add('colab-df-spinner');\n",
              "      try {\n",
              "        const charts = await google.colab.kernel.invokeFunction(\n",
              "            'suggestCharts', [key], {});\n",
              "      } catch (error) {\n",
              "        console.error('Error during call to suggestCharts:', error);\n",
              "      }\n",
              "      quickchartButtonEl.classList.remove('colab-df-spinner');\n",
              "      quickchartButtonEl.classList.add('colab-df-quickchart-complete');\n",
              "    }\n",
              "    (() => {\n",
              "      let quickchartButtonEl =\n",
              "        document.querySelector('#df-2e20f250-8672-46ce-bd8f-2c28049a4d56 button');\n",
              "      quickchartButtonEl.style.display =\n",
              "        google.colab.kernel.accessAllowed ? 'block' : 'none';\n",
              "    })();\n",
              "  </script>\n",
              "</div>\n",
              "\n",
              "    </div>\n",
              "  </div>\n"
            ],
            "application/vnd.google.colaboratory.intrinsic+json": {
              "type": "dataframe",
              "variable_name": "input_all"
            }
          },
          "metadata": {},
          "execution_count": 104
        }
      ]
    },
    {
      "cell_type": "markdown",
      "id": "99c7a1ad-c71a-46e9-b4a5-9948eeb7bce5",
      "metadata": {
        "collapsed": false,
        "jupyter": {
          "outputs_hidden": false
        },
        "id": "99c7a1ad-c71a-46e9-b4a5-9948eeb7bce5"
      },
      "source": [
        "## Hago el etiquetado\n",
        "\n",
        "Ahora hago el etiquetado con LabelEncoder, usando un diccionario de LabelEncoder"
      ]
    },
    {
      "cell_type": "code",
      "execution_count": 105,
      "id": "8395113f-b44a-4348-9094-c1eb2f253784",
      "metadata": {
        "jupyter": {
          "outputs_hidden": false
        },
        "id": "8395113f-b44a-4348-9094-c1eb2f253784"
      },
      "outputs": [],
      "source": [
        "from sklearn.preprocessing import LabelEncoder\n",
        "labelers = {}\n",
        "test_l = test.copy()\n",
        "train_l = train.copy()\n",
        "\n",
        "for col in col_cat:\n",
        "    labelers[col] = LabelEncoder().fit(input_all[col])\n",
        "    test_l[col] = labelers[col].transform(test[col])\n",
        "    train_l[col] = labelers[col].transform(train[col])\n"
      ]
    },
    {
      "cell_type": "code",
      "execution_count": 106,
      "id": "f6f835cc-5800-45e9-b355-c51526aeca15",
      "metadata": {
        "jupyter": {
          "outputs_hidden": false
        },
        "colab": {
          "base_uri": "https://localhost:8080/",
          "height": 206
        },
        "id": "f6f835cc-5800-45e9-b355-c51526aeca15",
        "outputId": "c3f92e3b-d143-4cbb-a8d3-ba4af73950af"
      },
      "outputs": [
        {
          "output_type": "execute_result",
          "data": {
            "text/plain": [
              "   brand  model  model_year    milage  fuel_type  transmission  ext_col  \\\n",
              "0     31    495      2007.0  213000.0          2            38      312   \n",
              "1     28    930      2002.0  143250.0          2            38      263   \n",
              "2      9   1575      2002.0  136731.0          1            38       38   \n",
              "3     16    758      2017.0   19500.0          2            49       29   \n",
              "4     36   1077      2021.0    7388.0          2            23       29   \n",
              "\n",
              "   int_col  accident  clean_title  price  Horsepower  Displacement  \\\n",
              "0       71         0            0   4200       172.0           1.6   \n",
              "1       10         1            0   4999       252.0           3.9   \n",
              "2       71         0            0  13900       320.0           5.3   \n",
              "3       14         0            0  45000       420.0           5.0   \n",
              "4       10         0            0  97500       208.0           2.0   \n",
              "\n",
              "   Engine Type  Cylinder Count  \n",
              "0            9             4.0  \n",
              "1            9             8.0  \n",
              "2            9             8.0  \n",
              "3            9             8.0  \n",
              "4            9             4.0  "
            ],
            "text/html": [
              "\n",
              "  <div id=\"df-961c1f58-f1b9-4585-82c7-1119e87e754d\" class=\"colab-df-container\">\n",
              "    <div>\n",
              "<style scoped>\n",
              "    .dataframe tbody tr th:only-of-type {\n",
              "        vertical-align: middle;\n",
              "    }\n",
              "\n",
              "    .dataframe tbody tr th {\n",
              "        vertical-align: top;\n",
              "    }\n",
              "\n",
              "    .dataframe thead th {\n",
              "        text-align: right;\n",
              "    }\n",
              "</style>\n",
              "<table border=\"1\" class=\"dataframe\">\n",
              "  <thead>\n",
              "    <tr style=\"text-align: right;\">\n",
              "      <th></th>\n",
              "      <th>brand</th>\n",
              "      <th>model</th>\n",
              "      <th>model_year</th>\n",
              "      <th>milage</th>\n",
              "      <th>fuel_type</th>\n",
              "      <th>transmission</th>\n",
              "      <th>ext_col</th>\n",
              "      <th>int_col</th>\n",
              "      <th>accident</th>\n",
              "      <th>clean_title</th>\n",
              "      <th>price</th>\n",
              "      <th>Horsepower</th>\n",
              "      <th>Displacement</th>\n",
              "      <th>Engine Type</th>\n",
              "      <th>Cylinder Count</th>\n",
              "    </tr>\n",
              "  </thead>\n",
              "  <tbody>\n",
              "    <tr>\n",
              "      <th>0</th>\n",
              "      <td>31</td>\n",
              "      <td>495</td>\n",
              "      <td>2007.0</td>\n",
              "      <td>213000.0</td>\n",
              "      <td>2</td>\n",
              "      <td>38</td>\n",
              "      <td>312</td>\n",
              "      <td>71</td>\n",
              "      <td>0</td>\n",
              "      <td>0</td>\n",
              "      <td>4200</td>\n",
              "      <td>172.0</td>\n",
              "      <td>1.6</td>\n",
              "      <td>9</td>\n",
              "      <td>4.0</td>\n",
              "    </tr>\n",
              "    <tr>\n",
              "      <th>1</th>\n",
              "      <td>28</td>\n",
              "      <td>930</td>\n",
              "      <td>2002.0</td>\n",
              "      <td>143250.0</td>\n",
              "      <td>2</td>\n",
              "      <td>38</td>\n",
              "      <td>263</td>\n",
              "      <td>10</td>\n",
              "      <td>1</td>\n",
              "      <td>0</td>\n",
              "      <td>4999</td>\n",
              "      <td>252.0</td>\n",
              "      <td>3.9</td>\n",
              "      <td>9</td>\n",
              "      <td>8.0</td>\n",
              "    </tr>\n",
              "    <tr>\n",
              "      <th>2</th>\n",
              "      <td>9</td>\n",
              "      <td>1575</td>\n",
              "      <td>2002.0</td>\n",
              "      <td>136731.0</td>\n",
              "      <td>1</td>\n",
              "      <td>38</td>\n",
              "      <td>38</td>\n",
              "      <td>71</td>\n",
              "      <td>0</td>\n",
              "      <td>0</td>\n",
              "      <td>13900</td>\n",
              "      <td>320.0</td>\n",
              "      <td>5.3</td>\n",
              "      <td>9</td>\n",
              "      <td>8.0</td>\n",
              "    </tr>\n",
              "    <tr>\n",
              "      <th>3</th>\n",
              "      <td>16</td>\n",
              "      <td>758</td>\n",
              "      <td>2017.0</td>\n",
              "      <td>19500.0</td>\n",
              "      <td>2</td>\n",
              "      <td>49</td>\n",
              "      <td>29</td>\n",
              "      <td>14</td>\n",
              "      <td>0</td>\n",
              "      <td>0</td>\n",
              "      <td>45000</td>\n",
              "      <td>420.0</td>\n",
              "      <td>5.0</td>\n",
              "      <td>9</td>\n",
              "      <td>8.0</td>\n",
              "    </tr>\n",
              "    <tr>\n",
              "      <th>4</th>\n",
              "      <td>36</td>\n",
              "      <td>1077</td>\n",
              "      <td>2021.0</td>\n",
              "      <td>7388.0</td>\n",
              "      <td>2</td>\n",
              "      <td>23</td>\n",
              "      <td>29</td>\n",
              "      <td>10</td>\n",
              "      <td>0</td>\n",
              "      <td>0</td>\n",
              "      <td>97500</td>\n",
              "      <td>208.0</td>\n",
              "      <td>2.0</td>\n",
              "      <td>9</td>\n",
              "      <td>4.0</td>\n",
              "    </tr>\n",
              "  </tbody>\n",
              "</table>\n",
              "</div>\n",
              "    <div class=\"colab-df-buttons\">\n",
              "\n",
              "  <div class=\"colab-df-container\">\n",
              "    <button class=\"colab-df-convert\" onclick=\"convertToInteractive('df-961c1f58-f1b9-4585-82c7-1119e87e754d')\"\n",
              "            title=\"Convert this dataframe to an interactive table.\"\n",
              "            style=\"display:none;\">\n",
              "\n",
              "  <svg xmlns=\"http://www.w3.org/2000/svg\" height=\"24px\" viewBox=\"0 -960 960 960\">\n",
              "    <path d=\"M120-120v-720h720v720H120Zm60-500h600v-160H180v160Zm220 220h160v-160H400v160Zm0 220h160v-160H400v160ZM180-400h160v-160H180v160Zm440 0h160v-160H620v160ZM180-180h160v-160H180v160Zm440 0h160v-160H620v160Z\"/>\n",
              "  </svg>\n",
              "    </button>\n",
              "\n",
              "  <style>\n",
              "    .colab-df-container {\n",
              "      display:flex;\n",
              "      gap: 12px;\n",
              "    }\n",
              "\n",
              "    .colab-df-convert {\n",
              "      background-color: #E8F0FE;\n",
              "      border: none;\n",
              "      border-radius: 50%;\n",
              "      cursor: pointer;\n",
              "      display: none;\n",
              "      fill: #1967D2;\n",
              "      height: 32px;\n",
              "      padding: 0 0 0 0;\n",
              "      width: 32px;\n",
              "    }\n",
              "\n",
              "    .colab-df-convert:hover {\n",
              "      background-color: #E2EBFA;\n",
              "      box-shadow: 0px 1px 2px rgba(60, 64, 67, 0.3), 0px 1px 3px 1px rgba(60, 64, 67, 0.15);\n",
              "      fill: #174EA6;\n",
              "    }\n",
              "\n",
              "    .colab-df-buttons div {\n",
              "      margin-bottom: 4px;\n",
              "    }\n",
              "\n",
              "    [theme=dark] .colab-df-convert {\n",
              "      background-color: #3B4455;\n",
              "      fill: #D2E3FC;\n",
              "    }\n",
              "\n",
              "    [theme=dark] .colab-df-convert:hover {\n",
              "      background-color: #434B5C;\n",
              "      box-shadow: 0px 1px 3px 1px rgba(0, 0, 0, 0.15);\n",
              "      filter: drop-shadow(0px 1px 2px rgba(0, 0, 0, 0.3));\n",
              "      fill: #FFFFFF;\n",
              "    }\n",
              "  </style>\n",
              "\n",
              "    <script>\n",
              "      const buttonEl =\n",
              "        document.querySelector('#df-961c1f58-f1b9-4585-82c7-1119e87e754d button.colab-df-convert');\n",
              "      buttonEl.style.display =\n",
              "        google.colab.kernel.accessAllowed ? 'block' : 'none';\n",
              "\n",
              "      async function convertToInteractive(key) {\n",
              "        const element = document.querySelector('#df-961c1f58-f1b9-4585-82c7-1119e87e754d');\n",
              "        const dataTable =\n",
              "          await google.colab.kernel.invokeFunction('convertToInteractive',\n",
              "                                                    [key], {});\n",
              "        if (!dataTable) return;\n",
              "\n",
              "        const docLinkHtml = 'Like what you see? Visit the ' +\n",
              "          '<a target=\"_blank\" href=https://colab.research.google.com/notebooks/data_table.ipynb>data table notebook</a>'\n",
              "          + ' to learn more about interactive tables.';\n",
              "        element.innerHTML = '';\n",
              "        dataTable['output_type'] = 'display_data';\n",
              "        await google.colab.output.renderOutput(dataTable, element);\n",
              "        const docLink = document.createElement('div');\n",
              "        docLink.innerHTML = docLinkHtml;\n",
              "        element.appendChild(docLink);\n",
              "      }\n",
              "    </script>\n",
              "  </div>\n",
              "\n",
              "\n",
              "<div id=\"df-f2261688-37ba-4ead-859c-605ad22e818f\">\n",
              "  <button class=\"colab-df-quickchart\" onclick=\"quickchart('df-f2261688-37ba-4ead-859c-605ad22e818f')\"\n",
              "            title=\"Suggest charts\"\n",
              "            style=\"display:none;\">\n",
              "\n",
              "<svg xmlns=\"http://www.w3.org/2000/svg\" height=\"24px\"viewBox=\"0 0 24 24\"\n",
              "     width=\"24px\">\n",
              "    <g>\n",
              "        <path d=\"M19 3H5c-1.1 0-2 .9-2 2v14c0 1.1.9 2 2 2h14c1.1 0 2-.9 2-2V5c0-1.1-.9-2-2-2zM9 17H7v-7h2v7zm4 0h-2V7h2v10zm4 0h-2v-4h2v4z\"/>\n",
              "    </g>\n",
              "</svg>\n",
              "  </button>\n",
              "\n",
              "<style>\n",
              "  .colab-df-quickchart {\n",
              "      --bg-color: #E8F0FE;\n",
              "      --fill-color: #1967D2;\n",
              "      --hover-bg-color: #E2EBFA;\n",
              "      --hover-fill-color: #174EA6;\n",
              "      --disabled-fill-color: #AAA;\n",
              "      --disabled-bg-color: #DDD;\n",
              "  }\n",
              "\n",
              "  [theme=dark] .colab-df-quickchart {\n",
              "      --bg-color: #3B4455;\n",
              "      --fill-color: #D2E3FC;\n",
              "      --hover-bg-color: #434B5C;\n",
              "      --hover-fill-color: #FFFFFF;\n",
              "      --disabled-bg-color: #3B4455;\n",
              "      --disabled-fill-color: #666;\n",
              "  }\n",
              "\n",
              "  .colab-df-quickchart {\n",
              "    background-color: var(--bg-color);\n",
              "    border: none;\n",
              "    border-radius: 50%;\n",
              "    cursor: pointer;\n",
              "    display: none;\n",
              "    fill: var(--fill-color);\n",
              "    height: 32px;\n",
              "    padding: 0;\n",
              "    width: 32px;\n",
              "  }\n",
              "\n",
              "  .colab-df-quickchart:hover {\n",
              "    background-color: var(--hover-bg-color);\n",
              "    box-shadow: 0 1px 2px rgba(60, 64, 67, 0.3), 0 1px 3px 1px rgba(60, 64, 67, 0.15);\n",
              "    fill: var(--button-hover-fill-color);\n",
              "  }\n",
              "\n",
              "  .colab-df-quickchart-complete:disabled,\n",
              "  .colab-df-quickchart-complete:disabled:hover {\n",
              "    background-color: var(--disabled-bg-color);\n",
              "    fill: var(--disabled-fill-color);\n",
              "    box-shadow: none;\n",
              "  }\n",
              "\n",
              "  .colab-df-spinner {\n",
              "    border: 2px solid var(--fill-color);\n",
              "    border-color: transparent;\n",
              "    border-bottom-color: var(--fill-color);\n",
              "    animation:\n",
              "      spin 1s steps(1) infinite;\n",
              "  }\n",
              "\n",
              "  @keyframes spin {\n",
              "    0% {\n",
              "      border-color: transparent;\n",
              "      border-bottom-color: var(--fill-color);\n",
              "      border-left-color: var(--fill-color);\n",
              "    }\n",
              "    20% {\n",
              "      border-color: transparent;\n",
              "      border-left-color: var(--fill-color);\n",
              "      border-top-color: var(--fill-color);\n",
              "    }\n",
              "    30% {\n",
              "      border-color: transparent;\n",
              "      border-left-color: var(--fill-color);\n",
              "      border-top-color: var(--fill-color);\n",
              "      border-right-color: var(--fill-color);\n",
              "    }\n",
              "    40% {\n",
              "      border-color: transparent;\n",
              "      border-right-color: var(--fill-color);\n",
              "      border-top-color: var(--fill-color);\n",
              "    }\n",
              "    60% {\n",
              "      border-color: transparent;\n",
              "      border-right-color: var(--fill-color);\n",
              "    }\n",
              "    80% {\n",
              "      border-color: transparent;\n",
              "      border-right-color: var(--fill-color);\n",
              "      border-bottom-color: var(--fill-color);\n",
              "    }\n",
              "    90% {\n",
              "      border-color: transparent;\n",
              "      border-bottom-color: var(--fill-color);\n",
              "    }\n",
              "  }\n",
              "</style>\n",
              "\n",
              "  <script>\n",
              "    async function quickchart(key) {\n",
              "      const quickchartButtonEl =\n",
              "        document.querySelector('#' + key + ' button');\n",
              "      quickchartButtonEl.disabled = true;  // To prevent multiple clicks.\n",
              "      quickchartButtonEl.classList.add('colab-df-spinner');\n",
              "      try {\n",
              "        const charts = await google.colab.kernel.invokeFunction(\n",
              "            'suggestCharts', [key], {});\n",
              "      } catch (error) {\n",
              "        console.error('Error during call to suggestCharts:', error);\n",
              "      }\n",
              "      quickchartButtonEl.classList.remove('colab-df-spinner');\n",
              "      quickchartButtonEl.classList.add('colab-df-quickchart-complete');\n",
              "    }\n",
              "    (() => {\n",
              "      let quickchartButtonEl =\n",
              "        document.querySelector('#df-f2261688-37ba-4ead-859c-605ad22e818f button');\n",
              "      quickchartButtonEl.style.display =\n",
              "        google.colab.kernel.accessAllowed ? 'block' : 'none';\n",
              "    })();\n",
              "  </script>\n",
              "</div>\n",
              "\n",
              "    </div>\n",
              "  </div>\n"
            ],
            "application/vnd.google.colaboratory.intrinsic+json": {
              "type": "dataframe",
              "variable_name": "train_l"
            }
          },
          "metadata": {},
          "execution_count": 106
        }
      ],
      "source": [
        "train_l.head()"
      ]
    },
    {
      "cell_type": "markdown",
      "id": "59818893-2da3-4435-b999-881e631f0869",
      "metadata": {
        "collapsed": false,
        "jupyter": {
          "outputs_hidden": false
        },
        "id": "59818893-2da3-4435-b999-881e631f0869"
      },
      "source": [
        "Compruebo que estén todos los atributos"
      ]
    },
    {
      "cell_type": "code",
      "execution_count": 107,
      "id": "51652eef-035c-4e51-ab27-ba5c032d1366",
      "metadata": {
        "jupyter": {
          "outputs_hidden": false
        },
        "id": "51652eef-035c-4e51-ab27-ba5c032d1366"
      },
      "outputs": [],
      "source": [
        "assert((train_l.columns == train.columns).all())"
      ]
    },
    {
      "cell_type": "markdown",
      "id": "37d1dc91-f78a-4ad2-a2a0-b0e596b7239e",
      "metadata": {
        "collapsed": false,
        "jupyter": {
          "outputs_hidden": false
        },
        "id": "37d1dc91-f78a-4ad2-a2a0-b0e596b7239e"
      },
      "source": [
        "## Ahora preparo los conjuntos de entrenamiento y test\n",
        "\n",
        "Defino en X_train los valores sin el atributo a predecir, y.\n",
        "\n",
        "También voy a eliminar el Id de entrenamiento que es problemático, pero lo guardo para el fichero de salida.\n"
      ]
    },
    {
      "cell_type": "code",
      "execution_count": 108,
      "id": "b55c1deb-accb-4d59-a3e3-21840cb8a895",
      "metadata": {
        "jupyter": {
          "outputs_hidden": false
        },
        "id": "b55c1deb-accb-4d59-a3e3-21840cb8a895"
      },
      "outputs": [],
      "source": [
        "y_train = train_l.price\n",
        "X_train = train_l.drop('price', axis=1)\n",
        "\n",
        "if 'id' in test_l:\n",
        "    test_l.drop('id', axis=1, inplace=True)\n",
        "\n",
        "X_test = test_l"
      ]
    },
    {
      "cell_type": "markdown",
      "id": "29ec246f-dc8d-49a3-8a4b-a7bfb749abd5",
      "metadata": {
        "collapsed": false,
        "jupyter": {
          "outputs_hidden": false
        },
        "id": "29ec246f-dc8d-49a3-8a4b-a7bfb749abd5"
      },
      "source": [
        "## Aplico modelo\n",
        "\n",
        "Voy a aplicar un modelo muy sencillo, un árbol de decisión."
      ]
    },
    {
      "cell_type": "code",
      "execution_count": 109,
      "id": "897fb12f-28d4-4403-a6ab-c6394ee93330",
      "metadata": {
        "jupyter": {
          "outputs_hidden": false
        },
        "id": "897fb12f-28d4-4403-a6ab-c6394ee93330"
      },
      "outputs": [],
      "source": [
        "from sklearn.tree import DecisionTreeRegressor\n",
        "model = DecisionTreeRegressor()"
      ]
    },
    {
      "cell_type": "code",
      "execution_count": 110,
      "id": "32ff894c-b48b-40ed-9b0c-c87f94b7faa7",
      "metadata": {
        "jupyter": {
          "outputs_hidden": false
        },
        "id": "32ff894c-b48b-40ed-9b0c-c87f94b7faa7"
      },
      "outputs": [],
      "source": [
        "from sklearn.model_selection import cross_val_score\n"
      ]
    },
    {
      "cell_type": "markdown",
      "id": "ddbb550c-8bee-410b-af9a-380598f10a23",
      "metadata": {
        "collapsed": false,
        "jupyter": {
          "outputs_hidden": false
        },
        "id": "ddbb550c-8bee-410b-af9a-380598f10a23"
      },
      "source": [
        "Uso la métrica que aplica la competición. Los modelos tienden a maximizar, por eso la métrica de error tiene signo negativo."
      ]
    },
    {
      "cell_type": "code",
      "execution_count": 111,
      "id": "ab3f9705-f13b-4906-8dff-4ac0f7dfb9ad",
      "metadata": {
        "jupyter": {
          "outputs_hidden": false
        },
        "scrolled": true,
        "colab": {
          "base_uri": "https://localhost:8080/"
        },
        "id": "ab3f9705-f13b-4906-8dff-4ac0f7dfb9ad",
        "outputId": "26b9151a-40e5-4d41-f57f-d7174c4ce7bb"
      },
      "outputs": [
        {
          "output_type": "execute_result",
          "data": {
            "text/plain": [
              "['accuracy',\n",
              " 'adjusted_mutual_info_score',\n",
              " 'adjusted_rand_score',\n",
              " 'average_precision',\n",
              " 'balanced_accuracy',\n",
              " 'completeness_score',\n",
              " 'd2_absolute_error_score',\n",
              " 'explained_variance',\n",
              " 'f1',\n",
              " 'f1_macro',\n",
              " 'f1_micro',\n",
              " 'f1_samples',\n",
              " 'f1_weighted',\n",
              " 'fowlkes_mallows_score',\n",
              " 'homogeneity_score',\n",
              " 'jaccard',\n",
              " 'jaccard_macro',\n",
              " 'jaccard_micro',\n",
              " 'jaccard_samples',\n",
              " 'jaccard_weighted',\n",
              " 'matthews_corrcoef',\n",
              " 'mutual_info_score',\n",
              " 'neg_brier_score',\n",
              " 'neg_log_loss',\n",
              " 'neg_max_error',\n",
              " 'neg_mean_absolute_error',\n",
              " 'neg_mean_absolute_percentage_error',\n",
              " 'neg_mean_gamma_deviance',\n",
              " 'neg_mean_poisson_deviance',\n",
              " 'neg_mean_squared_error',\n",
              " 'neg_mean_squared_log_error',\n",
              " 'neg_median_absolute_error',\n",
              " 'neg_negative_likelihood_ratio',\n",
              " 'neg_root_mean_squared_error',\n",
              " 'neg_root_mean_squared_log_error',\n",
              " 'normalized_mutual_info_score',\n",
              " 'positive_likelihood_ratio',\n",
              " 'precision',\n",
              " 'precision_macro',\n",
              " 'precision_micro',\n",
              " 'precision_samples',\n",
              " 'precision_weighted',\n",
              " 'r2',\n",
              " 'rand_score',\n",
              " 'recall',\n",
              " 'recall_macro',\n",
              " 'recall_micro',\n",
              " 'recall_samples',\n",
              " 'recall_weighted',\n",
              " 'roc_auc',\n",
              " 'roc_auc_ovo',\n",
              " 'roc_auc_ovo_weighted',\n",
              " 'roc_auc_ovr',\n",
              " 'roc_auc_ovr_weighted',\n",
              " 'top_k_accuracy',\n",
              " 'v_measure_score']"
            ]
          },
          "metadata": {},
          "execution_count": 111
        }
      ],
      "source": [
        "import sklearn\n",
        "# Estas son las métricas posibles\n",
        "sklearn.metrics.get_scorer_names()"
      ]
    },
    {
      "cell_type": "code",
      "execution_count": 112,
      "id": "ec0d7ae4-ca4a-497c-93b7-60bf944ebe94",
      "metadata": {
        "jupyter": {
          "outputs_hidden": false
        },
        "colab": {
          "base_uri": "https://localhost:8080/"
        },
        "id": "ec0d7ae4-ca4a-497c-93b7-60bf944ebe94",
        "outputId": "aeef009b-21c8-4df8-e91b-2a61ee4c7e50"
      },
      "outputs": [
        {
          "output_type": "stream",
          "name": "stdout",
          "text": [
            "[-109841.00659664 -113421.28357447 -114237.38236616 -106757.98215673\n",
            " -124697.85761535]\n",
            "-113791.10246186944\n"
          ]
        }
      ],
      "source": [
        "values = cross_val_score(model, X_train, y_train, scoring='neg_root_mean_squared_error', cv=5)\n",
        "print(values)\n",
        "print(values.mean())"
      ]
    },
    {
      "cell_type": "markdown",
      "id": "a763f3ac-6cd9-48ed-8d90-59381a0c9f80",
      "metadata": {
        "collapsed": false,
        "jupyter": {
          "outputs_hidden": false
        },
        "id": "a763f3ac-6cd9-48ed-8d90-59381a0c9f80"
      },
      "source": [
        "Ahora vamos a entrenar con todo el conjunto de entrenamiento"
      ]
    },
    {
      "cell_type": "code",
      "execution_count": 113,
      "id": "ba3e0482-8b2e-407d-92a7-0dabb84139b4",
      "metadata": {
        "jupyter": {
          "outputs_hidden": false
        },
        "colab": {
          "base_uri": "https://localhost:8080/",
          "height": 0
        },
        "id": "ba3e0482-8b2e-407d-92a7-0dabb84139b4",
        "outputId": "a8afed05-365b-4477-ab83-4c5f20226fcd"
      },
      "outputs": [
        {
          "output_type": "execute_result",
          "data": {
            "text/plain": [
              "DecisionTreeRegressor()"
            ],
            "text/html": [
              "<style>#sk-container-id-2 {\n",
              "  /* Definition of color scheme common for light and dark mode */\n",
              "  --sklearn-color-text: #000;\n",
              "  --sklearn-color-text-muted: #666;\n",
              "  --sklearn-color-line: gray;\n",
              "  /* Definition of color scheme for unfitted estimators */\n",
              "  --sklearn-color-unfitted-level-0: #fff5e6;\n",
              "  --sklearn-color-unfitted-level-1: #f6e4d2;\n",
              "  --sklearn-color-unfitted-level-2: #ffe0b3;\n",
              "  --sklearn-color-unfitted-level-3: chocolate;\n",
              "  /* Definition of color scheme for fitted estimators */\n",
              "  --sklearn-color-fitted-level-0: #f0f8ff;\n",
              "  --sklearn-color-fitted-level-1: #d4ebff;\n",
              "  --sklearn-color-fitted-level-2: #b3dbfd;\n",
              "  --sklearn-color-fitted-level-3: cornflowerblue;\n",
              "\n",
              "  /* Specific color for light theme */\n",
              "  --sklearn-color-text-on-default-background: var(--sg-text-color, var(--theme-code-foreground, var(--jp-content-font-color1, black)));\n",
              "  --sklearn-color-background: var(--sg-background-color, var(--theme-background, var(--jp-layout-color0, white)));\n",
              "  --sklearn-color-border-box: var(--sg-text-color, var(--theme-code-foreground, var(--jp-content-font-color1, black)));\n",
              "  --sklearn-color-icon: #696969;\n",
              "\n",
              "  @media (prefers-color-scheme: dark) {\n",
              "    /* Redefinition of color scheme for dark theme */\n",
              "    --sklearn-color-text-on-default-background: var(--sg-text-color, var(--theme-code-foreground, var(--jp-content-font-color1, white)));\n",
              "    --sklearn-color-background: var(--sg-background-color, var(--theme-background, var(--jp-layout-color0, #111)));\n",
              "    --sklearn-color-border-box: var(--sg-text-color, var(--theme-code-foreground, var(--jp-content-font-color1, white)));\n",
              "    --sklearn-color-icon: #878787;\n",
              "  }\n",
              "}\n",
              "\n",
              "#sk-container-id-2 {\n",
              "  color: var(--sklearn-color-text);\n",
              "}\n",
              "\n",
              "#sk-container-id-2 pre {\n",
              "  padding: 0;\n",
              "}\n",
              "\n",
              "#sk-container-id-2 input.sk-hidden--visually {\n",
              "  border: 0;\n",
              "  clip: rect(1px 1px 1px 1px);\n",
              "  clip: rect(1px, 1px, 1px, 1px);\n",
              "  height: 1px;\n",
              "  margin: -1px;\n",
              "  overflow: hidden;\n",
              "  padding: 0;\n",
              "  position: absolute;\n",
              "  width: 1px;\n",
              "}\n",
              "\n",
              "#sk-container-id-2 div.sk-dashed-wrapped {\n",
              "  border: 1px dashed var(--sklearn-color-line);\n",
              "  margin: 0 0.4em 0.5em 0.4em;\n",
              "  box-sizing: border-box;\n",
              "  padding-bottom: 0.4em;\n",
              "  background-color: var(--sklearn-color-background);\n",
              "}\n",
              "\n",
              "#sk-container-id-2 div.sk-container {\n",
              "  /* jupyter's `normalize.less` sets `[hidden] { display: none; }`\n",
              "     but bootstrap.min.css set `[hidden] { display: none !important; }`\n",
              "     so we also need the `!important` here to be able to override the\n",
              "     default hidden behavior on the sphinx rendered scikit-learn.org.\n",
              "     See: https://github.com/scikit-learn/scikit-learn/issues/21755 */\n",
              "  display: inline-block !important;\n",
              "  position: relative;\n",
              "}\n",
              "\n",
              "#sk-container-id-2 div.sk-text-repr-fallback {\n",
              "  display: none;\n",
              "}\n",
              "\n",
              "div.sk-parallel-item,\n",
              "div.sk-serial,\n",
              "div.sk-item {\n",
              "  /* draw centered vertical line to link estimators */\n",
              "  background-image: linear-gradient(var(--sklearn-color-text-on-default-background), var(--sklearn-color-text-on-default-background));\n",
              "  background-size: 2px 100%;\n",
              "  background-repeat: no-repeat;\n",
              "  background-position: center center;\n",
              "}\n",
              "\n",
              "/* Parallel-specific style estimator block */\n",
              "\n",
              "#sk-container-id-2 div.sk-parallel-item::after {\n",
              "  content: \"\";\n",
              "  width: 100%;\n",
              "  border-bottom: 2px solid var(--sklearn-color-text-on-default-background);\n",
              "  flex-grow: 1;\n",
              "}\n",
              "\n",
              "#sk-container-id-2 div.sk-parallel {\n",
              "  display: flex;\n",
              "  align-items: stretch;\n",
              "  justify-content: center;\n",
              "  background-color: var(--sklearn-color-background);\n",
              "  position: relative;\n",
              "}\n",
              "\n",
              "#sk-container-id-2 div.sk-parallel-item {\n",
              "  display: flex;\n",
              "  flex-direction: column;\n",
              "}\n",
              "\n",
              "#sk-container-id-2 div.sk-parallel-item:first-child::after {\n",
              "  align-self: flex-end;\n",
              "  width: 50%;\n",
              "}\n",
              "\n",
              "#sk-container-id-2 div.sk-parallel-item:last-child::after {\n",
              "  align-self: flex-start;\n",
              "  width: 50%;\n",
              "}\n",
              "\n",
              "#sk-container-id-2 div.sk-parallel-item:only-child::after {\n",
              "  width: 0;\n",
              "}\n",
              "\n",
              "/* Serial-specific style estimator block */\n",
              "\n",
              "#sk-container-id-2 div.sk-serial {\n",
              "  display: flex;\n",
              "  flex-direction: column;\n",
              "  align-items: center;\n",
              "  background-color: var(--sklearn-color-background);\n",
              "  padding-right: 1em;\n",
              "  padding-left: 1em;\n",
              "}\n",
              "\n",
              "\n",
              "/* Toggleable style: style used for estimator/Pipeline/ColumnTransformer box that is\n",
              "clickable and can be expanded/collapsed.\n",
              "- Pipeline and ColumnTransformer use this feature and define the default style\n",
              "- Estimators will overwrite some part of the style using the `sk-estimator` class\n",
              "*/\n",
              "\n",
              "/* Pipeline and ColumnTransformer style (default) */\n",
              "\n",
              "#sk-container-id-2 div.sk-toggleable {\n",
              "  /* Default theme specific background. It is overwritten whether we have a\n",
              "  specific estimator or a Pipeline/ColumnTransformer */\n",
              "  background-color: var(--sklearn-color-background);\n",
              "}\n",
              "\n",
              "/* Toggleable label */\n",
              "#sk-container-id-2 label.sk-toggleable__label {\n",
              "  cursor: pointer;\n",
              "  display: flex;\n",
              "  width: 100%;\n",
              "  margin-bottom: 0;\n",
              "  padding: 0.5em;\n",
              "  box-sizing: border-box;\n",
              "  text-align: center;\n",
              "  align-items: start;\n",
              "  justify-content: space-between;\n",
              "  gap: 0.5em;\n",
              "}\n",
              "\n",
              "#sk-container-id-2 label.sk-toggleable__label .caption {\n",
              "  font-size: 0.6rem;\n",
              "  font-weight: lighter;\n",
              "  color: var(--sklearn-color-text-muted);\n",
              "}\n",
              "\n",
              "#sk-container-id-2 label.sk-toggleable__label-arrow:before {\n",
              "  /* Arrow on the left of the label */\n",
              "  content: \"▸\";\n",
              "  float: left;\n",
              "  margin-right: 0.25em;\n",
              "  color: var(--sklearn-color-icon);\n",
              "}\n",
              "\n",
              "#sk-container-id-2 label.sk-toggleable__label-arrow:hover:before {\n",
              "  color: var(--sklearn-color-text);\n",
              "}\n",
              "\n",
              "/* Toggleable content - dropdown */\n",
              "\n",
              "#sk-container-id-2 div.sk-toggleable__content {\n",
              "  max-height: 0;\n",
              "  max-width: 0;\n",
              "  overflow: hidden;\n",
              "  text-align: left;\n",
              "  /* unfitted */\n",
              "  background-color: var(--sklearn-color-unfitted-level-0);\n",
              "}\n",
              "\n",
              "#sk-container-id-2 div.sk-toggleable__content.fitted {\n",
              "  /* fitted */\n",
              "  background-color: var(--sklearn-color-fitted-level-0);\n",
              "}\n",
              "\n",
              "#sk-container-id-2 div.sk-toggleable__content pre {\n",
              "  margin: 0.2em;\n",
              "  border-radius: 0.25em;\n",
              "  color: var(--sklearn-color-text);\n",
              "  /* unfitted */\n",
              "  background-color: var(--sklearn-color-unfitted-level-0);\n",
              "}\n",
              "\n",
              "#sk-container-id-2 div.sk-toggleable__content.fitted pre {\n",
              "  /* unfitted */\n",
              "  background-color: var(--sklearn-color-fitted-level-0);\n",
              "}\n",
              "\n",
              "#sk-container-id-2 input.sk-toggleable__control:checked~div.sk-toggleable__content {\n",
              "  /* Expand drop-down */\n",
              "  max-height: 200px;\n",
              "  max-width: 100%;\n",
              "  overflow: auto;\n",
              "}\n",
              "\n",
              "#sk-container-id-2 input.sk-toggleable__control:checked~label.sk-toggleable__label-arrow:before {\n",
              "  content: \"▾\";\n",
              "}\n",
              "\n",
              "/* Pipeline/ColumnTransformer-specific style */\n",
              "\n",
              "#sk-container-id-2 div.sk-label input.sk-toggleable__control:checked~label.sk-toggleable__label {\n",
              "  color: var(--sklearn-color-text);\n",
              "  background-color: var(--sklearn-color-unfitted-level-2);\n",
              "}\n",
              "\n",
              "#sk-container-id-2 div.sk-label.fitted input.sk-toggleable__control:checked~label.sk-toggleable__label {\n",
              "  background-color: var(--sklearn-color-fitted-level-2);\n",
              "}\n",
              "\n",
              "/* Estimator-specific style */\n",
              "\n",
              "/* Colorize estimator box */\n",
              "#sk-container-id-2 div.sk-estimator input.sk-toggleable__control:checked~label.sk-toggleable__label {\n",
              "  /* unfitted */\n",
              "  background-color: var(--sklearn-color-unfitted-level-2);\n",
              "}\n",
              "\n",
              "#sk-container-id-2 div.sk-estimator.fitted input.sk-toggleable__control:checked~label.sk-toggleable__label {\n",
              "  /* fitted */\n",
              "  background-color: var(--sklearn-color-fitted-level-2);\n",
              "}\n",
              "\n",
              "#sk-container-id-2 div.sk-label label.sk-toggleable__label,\n",
              "#sk-container-id-2 div.sk-label label {\n",
              "  /* The background is the default theme color */\n",
              "  color: var(--sklearn-color-text-on-default-background);\n",
              "}\n",
              "\n",
              "/* On hover, darken the color of the background */\n",
              "#sk-container-id-2 div.sk-label:hover label.sk-toggleable__label {\n",
              "  color: var(--sklearn-color-text);\n",
              "  background-color: var(--sklearn-color-unfitted-level-2);\n",
              "}\n",
              "\n",
              "/* Label box, darken color on hover, fitted */\n",
              "#sk-container-id-2 div.sk-label.fitted:hover label.sk-toggleable__label.fitted {\n",
              "  color: var(--sklearn-color-text);\n",
              "  background-color: var(--sklearn-color-fitted-level-2);\n",
              "}\n",
              "\n",
              "/* Estimator label */\n",
              "\n",
              "#sk-container-id-2 div.sk-label label {\n",
              "  font-family: monospace;\n",
              "  font-weight: bold;\n",
              "  display: inline-block;\n",
              "  line-height: 1.2em;\n",
              "}\n",
              "\n",
              "#sk-container-id-2 div.sk-label-container {\n",
              "  text-align: center;\n",
              "}\n",
              "\n",
              "/* Estimator-specific */\n",
              "#sk-container-id-2 div.sk-estimator {\n",
              "  font-family: monospace;\n",
              "  border: 1px dotted var(--sklearn-color-border-box);\n",
              "  border-radius: 0.25em;\n",
              "  box-sizing: border-box;\n",
              "  margin-bottom: 0.5em;\n",
              "  /* unfitted */\n",
              "  background-color: var(--sklearn-color-unfitted-level-0);\n",
              "}\n",
              "\n",
              "#sk-container-id-2 div.sk-estimator.fitted {\n",
              "  /* fitted */\n",
              "  background-color: var(--sklearn-color-fitted-level-0);\n",
              "}\n",
              "\n",
              "/* on hover */\n",
              "#sk-container-id-2 div.sk-estimator:hover {\n",
              "  /* unfitted */\n",
              "  background-color: var(--sklearn-color-unfitted-level-2);\n",
              "}\n",
              "\n",
              "#sk-container-id-2 div.sk-estimator.fitted:hover {\n",
              "  /* fitted */\n",
              "  background-color: var(--sklearn-color-fitted-level-2);\n",
              "}\n",
              "\n",
              "/* Specification for estimator info (e.g. \"i\" and \"?\") */\n",
              "\n",
              "/* Common style for \"i\" and \"?\" */\n",
              "\n",
              ".sk-estimator-doc-link,\n",
              "a:link.sk-estimator-doc-link,\n",
              "a:visited.sk-estimator-doc-link {\n",
              "  float: right;\n",
              "  font-size: smaller;\n",
              "  line-height: 1em;\n",
              "  font-family: monospace;\n",
              "  background-color: var(--sklearn-color-background);\n",
              "  border-radius: 1em;\n",
              "  height: 1em;\n",
              "  width: 1em;\n",
              "  text-decoration: none !important;\n",
              "  margin-left: 0.5em;\n",
              "  text-align: center;\n",
              "  /* unfitted */\n",
              "  border: var(--sklearn-color-unfitted-level-1) 1pt solid;\n",
              "  color: var(--sklearn-color-unfitted-level-1);\n",
              "}\n",
              "\n",
              ".sk-estimator-doc-link.fitted,\n",
              "a:link.sk-estimator-doc-link.fitted,\n",
              "a:visited.sk-estimator-doc-link.fitted {\n",
              "  /* fitted */\n",
              "  border: var(--sklearn-color-fitted-level-1) 1pt solid;\n",
              "  color: var(--sklearn-color-fitted-level-1);\n",
              "}\n",
              "\n",
              "/* On hover */\n",
              "div.sk-estimator:hover .sk-estimator-doc-link:hover,\n",
              ".sk-estimator-doc-link:hover,\n",
              "div.sk-label-container:hover .sk-estimator-doc-link:hover,\n",
              ".sk-estimator-doc-link:hover {\n",
              "  /* unfitted */\n",
              "  background-color: var(--sklearn-color-unfitted-level-3);\n",
              "  color: var(--sklearn-color-background);\n",
              "  text-decoration: none;\n",
              "}\n",
              "\n",
              "div.sk-estimator.fitted:hover .sk-estimator-doc-link.fitted:hover,\n",
              ".sk-estimator-doc-link.fitted:hover,\n",
              "div.sk-label-container:hover .sk-estimator-doc-link.fitted:hover,\n",
              ".sk-estimator-doc-link.fitted:hover {\n",
              "  /* fitted */\n",
              "  background-color: var(--sklearn-color-fitted-level-3);\n",
              "  color: var(--sklearn-color-background);\n",
              "  text-decoration: none;\n",
              "}\n",
              "\n",
              "/* Span, style for the box shown on hovering the info icon */\n",
              ".sk-estimator-doc-link span {\n",
              "  display: none;\n",
              "  z-index: 9999;\n",
              "  position: relative;\n",
              "  font-weight: normal;\n",
              "  right: .2ex;\n",
              "  padding: .5ex;\n",
              "  margin: .5ex;\n",
              "  width: min-content;\n",
              "  min-width: 20ex;\n",
              "  max-width: 50ex;\n",
              "  color: var(--sklearn-color-text);\n",
              "  box-shadow: 2pt 2pt 4pt #999;\n",
              "  /* unfitted */\n",
              "  background: var(--sklearn-color-unfitted-level-0);\n",
              "  border: .5pt solid var(--sklearn-color-unfitted-level-3);\n",
              "}\n",
              "\n",
              ".sk-estimator-doc-link.fitted span {\n",
              "  /* fitted */\n",
              "  background: var(--sklearn-color-fitted-level-0);\n",
              "  border: var(--sklearn-color-fitted-level-3);\n",
              "}\n",
              "\n",
              ".sk-estimator-doc-link:hover span {\n",
              "  display: block;\n",
              "}\n",
              "\n",
              "/* \"?\"-specific style due to the `<a>` HTML tag */\n",
              "\n",
              "#sk-container-id-2 a.estimator_doc_link {\n",
              "  float: right;\n",
              "  font-size: 1rem;\n",
              "  line-height: 1em;\n",
              "  font-family: monospace;\n",
              "  background-color: var(--sklearn-color-background);\n",
              "  border-radius: 1rem;\n",
              "  height: 1rem;\n",
              "  width: 1rem;\n",
              "  text-decoration: none;\n",
              "  /* unfitted */\n",
              "  color: var(--sklearn-color-unfitted-level-1);\n",
              "  border: var(--sklearn-color-unfitted-level-1) 1pt solid;\n",
              "}\n",
              "\n",
              "#sk-container-id-2 a.estimator_doc_link.fitted {\n",
              "  /* fitted */\n",
              "  border: var(--sklearn-color-fitted-level-1) 1pt solid;\n",
              "  color: var(--sklearn-color-fitted-level-1);\n",
              "}\n",
              "\n",
              "/* On hover */\n",
              "#sk-container-id-2 a.estimator_doc_link:hover {\n",
              "  /* unfitted */\n",
              "  background-color: var(--sklearn-color-unfitted-level-3);\n",
              "  color: var(--sklearn-color-background);\n",
              "  text-decoration: none;\n",
              "}\n",
              "\n",
              "#sk-container-id-2 a.estimator_doc_link.fitted:hover {\n",
              "  /* fitted */\n",
              "  background-color: var(--sklearn-color-fitted-level-3);\n",
              "}\n",
              "</style><div id=\"sk-container-id-2\" class=\"sk-top-container\"><div class=\"sk-text-repr-fallback\"><pre>DecisionTreeRegressor()</pre><b>In a Jupyter environment, please rerun this cell to show the HTML representation or trust the notebook. <br />On GitHub, the HTML representation is unable to render, please try loading this page with nbviewer.org.</b></div><div class=\"sk-container\" hidden><div class=\"sk-item\"><div class=\"sk-estimator fitted sk-toggleable\"><input class=\"sk-toggleable__control sk-hidden--visually\" id=\"sk-estimator-id-2\" type=\"checkbox\" checked><label for=\"sk-estimator-id-2\" class=\"sk-toggleable__label fitted sk-toggleable__label-arrow\"><div><div>DecisionTreeRegressor</div></div><div><a class=\"sk-estimator-doc-link fitted\" rel=\"noreferrer\" target=\"_blank\" href=\"https://scikit-learn.org/1.6/modules/generated/sklearn.tree.DecisionTreeRegressor.html\">?<span>Documentation for DecisionTreeRegressor</span></a><span class=\"sk-estimator-doc-link fitted\">i<span>Fitted</span></span></div></label><div class=\"sk-toggleable__content fitted\"><pre>DecisionTreeRegressor()</pre></div> </div></div></div></div>"
            ]
          },
          "metadata": {},
          "execution_count": 113
        }
      ],
      "source": [
        "model.fit(X_train, y_train)"
      ]
    },
    {
      "cell_type": "markdown",
      "id": "9a2a6c31-58c6-4253-bcca-f1c47db23b98",
      "metadata": {
        "collapsed": false,
        "jupyter": {
          "outputs_hidden": false
        },
        "id": "9a2a6c31-58c6-4253-bcca-f1c47db23b98"
      },
      "source": [
        "Ahora predigo."
      ]
    },
    {
      "cell_type": "code",
      "execution_count": 114,
      "id": "85eea74d-b5f6-4cb9-8a0f-fe82f7bf6e97",
      "metadata": {
        "jupyter": {
          "outputs_hidden": false
        },
        "id": "85eea74d-b5f6-4cb9-8a0f-fe82f7bf6e97"
      },
      "outputs": [],
      "source": [
        "pred = model.predict(X_test)"
      ]
    },
    {
      "cell_type": "markdown",
      "id": "2464cdd3-2e25-4214-8f2b-9cb8472fb745",
      "metadata": {
        "collapsed": false,
        "jupyter": {
          "outputs_hidden": false
        },
        "id": "2464cdd3-2e25-4214-8f2b-9cb8472fb745"
      },
      "source": [
        "Guardo el fichero de salida para evaluar:"
      ]
    },
    {
      "cell_type": "code",
      "execution_count": 115,
      "id": "9d0378d3-3712-4adf-b83c-bae9e84e6b8a",
      "metadata": {
        "jupyter": {
          "outputs_hidden": false
        },
        "id": "9d0378d3-3712-4adf-b83c-bae9e84e6b8a"
      },
      "outputs": [],
      "source": [
        "salida = pd.DataFrame({'id': test_ids, 'price': pred})"
      ]
    },
    {
      "cell_type": "code",
      "execution_count": 116,
      "id": "3bcfebf6-409a-4711-9ad5-390e2e01eb7e",
      "metadata": {
        "jupyter": {
          "outputs_hidden": false
        },
        "id": "3bcfebf6-409a-4711-9ad5-390e2e01eb7e"
      },
      "outputs": [],
      "source": [
        "salida.to_csv(\"Prueba2.csv\", index=False)"
      ]
    },
    {
      "cell_type": "markdown",
      "id": "975c883c-5332-44ef-8221-e1e3df00257a",
      "metadata": {
        "collapsed": false,
        "jupyter": {
          "outputs_hidden": false
        },
        "id": "975c883c-5332-44ef-8221-e1e3df00257a"
      },
      "source": [
        "Ahora se puede subir el nuevo fichero a la competición."
      ]
    },
    {
      "cell_type": "markdown",
      "source": [
        "## Visualizacion"
      ],
      "metadata": {
        "id": "yvdhmvgl6XvY"
      },
      "id": "yvdhmvgl6XvY"
    },
    {
      "cell_type": "code",
      "source": [
        "plt.figure(figsize=(12, 8))\n",
        "sns.heatmap(train_l.corr(), annot=True, cmap='inferno', fmt='.2f')\n",
        "plt.title('Correlation Heatmap')\n",
        "plt.show()"
      ],
      "metadata": {
        "colab": {
          "base_uri": "https://localhost:8080/",
          "height": 788
        },
        "id": "xSdKTn-_6acG",
        "outputId": "87814fcc-98ee-4476-9a39-5a7311aa5ba7"
      },
      "id": "xSdKTn-_6acG",
      "execution_count": 117,
      "outputs": [
        {
          "output_type": "display_data",
          "data": {
            "text/plain": [
              "<Figure size 1200x800 with 2 Axes>"
            ],
            "image/png": "[encoded data removed]"
          },
          "metadata": {}
        }
      ]
    },
    {
      "cell_type": "code",
      "source": [
        "# eliminar la columna clean_title\n",
        "train_l = train_l.drop('clean_title', axis=1)\n",
        "test_l = test_l.drop('clean_title', axis=1)\n",
        "input_all = input_all.drop('clean_title', axis=1)"
      ],
      "metadata": {
        "id": "B20vvaJ2jlTA"
      },
      "id": "B20vvaJ2jlTA",
      "execution_count": 118,
      "outputs": []
    },
    {
      "cell_type": "code",
      "source": [
        "plt.figure(figsize=(12, 8))\n",
        "sns.heatmap(train_l.corr(), annot=True, cmap='inferno', fmt='.2f')\n",
        "plt.title('Correlation Heatmap')\n",
        "plt.show()"
      ],
      "metadata": {
        "id": "ltbbgvovjpkI",
        "outputId": "e866ac98-1d0e-4d85-8860-8645c161b034",
        "colab": {
          "base_uri": "https://localhost:8080/",
          "height": 788
        }
      },
      "id": "ltbbgvovjpkI",
      "execution_count": 119,
      "outputs": [
        {
          "output_type": "display_data",
          "data": {
            "text/plain": [
              "<Figure size 1200x800 with 2 Axes>"
            ],
            "image/png": "[encoded data removed]"
          },
          "metadata": {}
        }
      ]
    },
    {
      "cell_type": "markdown",
      "source": [
        "## Aplico Random Forest"
      ],
      "metadata": {
        "id": "Zgco8zKErJaw"
      },
      "id": "Zgco8zKErJaw"
    },
    {
      "cell_type": "code",
      "source": [
        "import pandas as pd\n",
        "from sklearn.model_selection import train_test_split\n",
        "from sklearn.ensemble import RandomForestRegressor\n",
        "from sklearn.metrics import mean_squared_error\n",
        "import numpy as np"
      ],
      "metadata": {
        "id": "iSeUzmSOriri"
      },
      "id": "iSeUzmSOriri",
      "execution_count": 120,
      "outputs": []
    },
    {
      "cell_type": "code",
      "source": [
        "X_train_split, X_val, y_train_split, y_val = train_test_split(\n",
        "    X_train, y_train, test_size=0.2, random_state=42\n",
        ")"
      ],
      "metadata": {
        "id": "23q5vwB3vn5H"
      },
      "id": "23q5vwB3vn5H",
      "execution_count": 121,
      "outputs": []
    },
    {
      "cell_type": "code",
      "source": [
        "# Modelo inicial\n",
        "model = RandomForestRegressor(random_state=42, n_estimators=100)\n",
        "model.fit(X_train_split, y_train_split)\n",
        "\n",
        "# Evaluar en el conjunto de validación\n",
        "y_val_pred = model.predict(X_val)\n",
        "rmse = np.sqrt(mean_squared_error(y_val, y_val_pred))\n",
        "print(f\"RMSE en validación: {rmse}\")"
      ],
      "metadata": {
        "colab": {
          "base_uri": "https://localhost:8080/"
        },
        "id": "V2SH34UevsEh",
        "outputId": "03c8a765-e2b4-46e5-8999-fd784c31ce8b"
      },
      "id": "V2SH34UevsEh",
      "execution_count": 122,
      "outputs": [
        {
          "output_type": "stream",
          "name": "stdout",
          "text": [
            "RMSE en validación: 75014.23866401253\n"
          ]
        }
      ]
    },
    {
      "cell_type": "code",
      "source": [
        "# Genero predicciones para el test set\n",
        "y_test_pred = model.predict(X_test)"
      ],
      "metadata": {
        "id": "Ugdv68Piv1lr"
      },
      "id": "Ugdv68Piv1lr",
      "execution_count": 123,
      "outputs": []
    },
    {
      "cell_type": "code",
      "source": [
        "salida = pd.DataFrame({'id': test_ids, 'price': y_test_pred})"
      ],
      "metadata": {
        "id": "WPGR3ECwwYrK"
      },
      "id": "WPGR3ECwwYrK",
      "execution_count": 124,
      "outputs": []
    },
    {
      "cell_type": "code",
      "source": [
        "salida.to_csv(\"RFMean.csv\", index=False)"
      ],
      "metadata": {
        "id": "UdnzipgjwdFI"
      },
      "id": "UdnzipgjwdFI",
      "execution_count": 125,
      "outputs": []
    },
    {
      "cell_type": "markdown",
      "source": [
        "## Ajusto hiperparámetros usando GridSearchCV"
      ],
      "metadata": {
        "id": "c57Yu9a9xRBI"
      },
      "id": "c57Yu9a9xRBI"
    },
    {
      "cell_type": "code",
      "source": [
        "from sklearn.model_selection import GridSearchCV\n",
        "from sklearn.ensemble import RandomForestRegressor\n",
        "\n",
        "# Definir el modelo\n",
        "model = RandomForestRegressor(random_state=42)\n",
        "\n",
        "# Definir los parámetros que se van a ajustar\n",
        "param_grid = {\n",
        "    'n_estimators': [50, 100, 200],  # Número de árboles\n",
        "    'max_depth': [10, 20, None],  # Profundidad máxima de los árboles\n",
        "    'min_samples_split': [2, 5, 10],  # Número mínimo de muestras para dividir un nodo\n",
        "    'min_samples_leaf': [1, 2, 4],  # Número mínimo de muestras en cada hoja\n",
        "    'max_features': ['auto', 'sqrt']  # Número de características a considerar para dividir\n",
        "}\n",
        "\n",
        "# Crear el objeto GridSearchCV\n",
        "grid_search = GridSearchCV(estimator=model, param_grid=param_grid,\n",
        "                           cv=3, scoring='neg_mean_squared_error', n_jobs=-1, verbose=2)\n",
        "\n",
        "# Entrenar el modelo con GridSearchCV\n",
        "grid_search.fit(X_train_split, y_train_split)\n",
        "\n",
        "# Mostrar los mejores parámetros\n",
        "print(\"Mejores parámetros encontrados: \", grid_search.best_params_)\n",
        "\n",
        "# Evaluar el modelo con los mejores parámetros\n",
        "best_model = grid_search.best_estimator_\n",
        "y_val_pred = best_model.predict(X_val)\n",
        "rmse = np.sqrt(mean_squared_error(y_val, y_val_pred))\n",
        "print(f\"RMSE con GridSearchCV: {rmse}\")\n"
      ],
      "metadata": {
        "colab": {
          "base_uri": "https://localhost:8080/",
          "height": 373
        },
        "id": "-m0_OFZ3xGH9",
        "outputId": "3bdfe7dc-549a-4c74-a3ff-5c7ef1ee8fdc"
      },
      "id": "-m0_OFZ3xGH9",
      "execution_count": 126,
      "outputs": [
        {
          "output_type": "stream",
          "name": "stdout",
          "text": [
            "Fitting 3 folds for each of 162 candidates, totalling 486 fits\n"
          ]
        },
        {
          "output_type": "error",
          "ename": "KeyboardInterrupt",
          "evalue": "",
          "traceback": [
            "\u001b[0;31m---------------------------------------------------------------------------\u001b[0m",
            "\u001b[0;31mKeyboardInterrupt\u001b[0m                         Traceback (most recent call last)",
            "\u001b[0;32m<ipython-input-126-e89a4934e3e2>\u001b[0m in \u001b[0;36m<cell line: 21>\u001b[0;34m()\u001b[0m\n\u001b[1;32m     19\u001b[0m \u001b[0;34m\u001b[0m\u001b[0m\n\u001b[1;32m     20\u001b[0m \u001b[0;31m# Entrenar el modelo con GridSearchCV\u001b[0m\u001b[0;34m\u001b[0m\u001b[0;34m\u001b[0m\u001b[0m\n\u001b[0;32m---> 21\u001b[0;31m \u001b[0mgrid_search\u001b[0m\u001b[0;34m.\u001b[0m\u001b[0mfit\u001b[0m\u001b[0;34m(\u001b[0m\u001b[0mX_train_split\u001b[0m\u001b[0;34m,\u001b[0m \u001b[0my_train_split\u001b[0m\u001b[0;34m)\u001b[0m\u001b[0;34m\u001b[0m\u001b[0;34m\u001b[0m\u001b[0m\n\u001b[0m\u001b[1;32m     22\u001b[0m \u001b[0;34m\u001b[0m\u001b[0m\n\u001b[1;32m     23\u001b[0m \u001b[0;31m# Mostrar los mejores parámetros\u001b[0m\u001b[0;34m\u001b[0m\u001b[0;34m\u001b[0m\u001b[0m\n",
            "\u001b[0;32m/usr/local/lib/python3.10/dist-packages/sklearn/base.py\u001b[0m in \u001b[0;36mwrapper\u001b[0;34m(estimator, *args, **kwargs)\u001b[0m\n\u001b[1;32m   1387\u001b[0m                 )\n\u001b[1;32m   1388\u001b[0m             ):\n\u001b[0;32m-> 1389\u001b[0;31m                 \u001b[0;32mreturn\u001b[0m \u001b[0mfit_method\u001b[0m\u001b[0;34m(\u001b[0m\u001b[0mestimator\u001b[0m\u001b[0;34m,\u001b[0m \u001b[0;34m*\u001b[0m\u001b[0margs\u001b[0m\u001b[0;34m,\u001b[0m \u001b[0;34m**\u001b[0m\u001b[0mkwargs\u001b[0m\u001b[0;34m)\u001b[0m\u001b[0;34m\u001b[0m\u001b[0;34m\u001b[0m\u001b[0m\n\u001b[0m\u001b[1;32m   1390\u001b[0m \u001b[0;34m\u001b[0m\u001b[0m\n\u001b[1;32m   1391\u001b[0m         \u001b[0;32mreturn\u001b[0m \u001b[0mwrapper\u001b[0m\u001b[0;34m\u001b[0m\u001b[0;34m\u001b[0m\u001b[0m\n",
            "\u001b[0;32m/usr/local/lib/python3.10/dist-packages/sklearn/model_selection/_search.py\u001b[0m in \u001b[0;36mfit\u001b[0;34m(self, X, y, **params)\u001b[0m\n\u001b[1;32m   1021\u001b[0m                 \u001b[0;32mreturn\u001b[0m \u001b[0mresults\u001b[0m\u001b[0;34m\u001b[0m\u001b[0;34m\u001b[0m\u001b[0m\n\u001b[1;32m   1022\u001b[0m \u001b[0;34m\u001b[0m\u001b[0m\n\u001b[0;32m-> 1023\u001b[0;31m             \u001b[0mself\u001b[0m\u001b[0;34m.\u001b[0m\u001b[0m_run_search\u001b[0m\u001b[0;34m(\u001b[0m\u001b[0mevaluate_candidates\u001b[0m\u001b[0;34m)\u001b[0m\u001b[0;34m\u001b[0m\u001b[0;34m\u001b[0m\u001b[0m\n\u001b[0m\u001b[1;32m   1024\u001b[0m \u001b[0;34m\u001b[0m\u001b[0m\n\u001b[1;32m   1025\u001b[0m             \u001b[0;31m# multimetric is determined here because in the case of a callable\u001b[0m\u001b[0;34m\u001b[0m\u001b[0;34m\u001b[0m\u001b[0m\n",
            "\u001b[0;32m/usr/local/lib/python3.10/dist-packages/sklearn/model_selection/_search.py\u001b[0m in \u001b[0;36m_run_search\u001b[0;34m(self, evaluate_candidates)\u001b[0m\n\u001b[1;32m   1568\u001b[0m     \u001b[0;32mdef\u001b[0m \u001b[0m_run_search\u001b[0m\u001b[0;34m(\u001b[0m\u001b[0mself\u001b[0m\u001b[0;34m,\u001b[0m \u001b[0mevaluate_candidates\u001b[0m\u001b[0;34m)\u001b[0m\u001b[0;34m:\u001b[0m\u001b[0;34m\u001b[0m\u001b[0;34m\u001b[0m\u001b[0m\n\u001b[1;32m   1569\u001b[0m         \u001b[0;34m\"\"\"Search all candidates in param_grid\"\"\"\u001b[0m\u001b[0;34m\u001b[0m\u001b[0;34m\u001b[0m\u001b[0m\n\u001b[0;32m-> 1570\u001b[0;31m         \u001b[0mevaluate_candidates\u001b[0m\u001b[0;34m(\u001b[0m\u001b[0mParameterGrid\u001b[0m\u001b[0;34m(\u001b[0m\u001b[0mself\u001b[0m\u001b[0;34m.\u001b[0m\u001b[0mparam_grid\u001b[0m\u001b[0;34m)\u001b[0m\u001b[0;34m)\u001b[0m\u001b[0;34m\u001b[0m\u001b[0;34m\u001b[0m\u001b[0m\n\u001b[0m\u001b[1;32m   1571\u001b[0m \u001b[0;34m\u001b[0m\u001b[0m\n\u001b[1;32m   1572\u001b[0m \u001b[0;34m\u001b[0m\u001b[0m\n",
            "\u001b[0;32m/usr/local/lib/python3.10/dist-packages/sklearn/model_selection/_search.py\u001b[0m in \u001b[0;36mevaluate_candidates\u001b[0;34m(candidate_params, cv, more_results)\u001b[0m\n\u001b[1;32m    967\u001b[0m                     )\n\u001b[1;32m    968\u001b[0m \u001b[0;34m\u001b[0m\u001b[0m\n\u001b[0;32m--> 969\u001b[0;31m                 out = parallel(\n\u001b[0m\u001b[1;32m    970\u001b[0m                     delayed(_fit_and_score)(\n\u001b[1;32m    971\u001b[0m                         \u001b[0mclone\u001b[0m\u001b[0;34m(\u001b[0m\u001b[0mbase_estimator\u001b[0m\u001b[0;34m)\u001b[0m\u001b[0;34m,\u001b[0m\u001b[0;34m\u001b[0m\u001b[0;34m\u001b[0m\u001b[0m\n",
            "\u001b[0;32m/usr/local/lib/python3.10/dist-packages/sklearn/utils/parallel.py\u001b[0m in \u001b[0;36m__call__\u001b[0;34m(self, iterable)\u001b[0m\n\u001b[1;32m     75\u001b[0m             \u001b[0;32mfor\u001b[0m \u001b[0mdelayed_func\u001b[0m\u001b[0;34m,\u001b[0m \u001b[0margs\u001b[0m\u001b[0;34m,\u001b[0m \u001b[0mkwargs\u001b[0m \u001b[0;32min\u001b[0m \u001b[0miterable\u001b[0m\u001b[0;34m\u001b[0m\u001b[0;34m\u001b[0m\u001b[0m\n\u001b[1;32m     76\u001b[0m         )\n\u001b[0;32m---> 77\u001b[0;31m         \u001b[0;32mreturn\u001b[0m \u001b[0msuper\u001b[0m\u001b[0;34m(\u001b[0m\u001b[0;34m)\u001b[0m\u001b[0;34m.\u001b[0m\u001b[0m__call__\u001b[0m\u001b[0;34m(\u001b[0m\u001b[0miterable_with_config\u001b[0m\u001b[0;34m)\u001b[0m\u001b[0;34m\u001b[0m\u001b[0;34m\u001b[0m\u001b[0m\n\u001b[0m\u001b[1;32m     78\u001b[0m \u001b[0;34m\u001b[0m\u001b[0m\n\u001b[1;32m     79\u001b[0m \u001b[0;34m\u001b[0m\u001b[0m\n",
            "\u001b[0;32m/usr/local/lib/python3.10/dist-packages/joblib/parallel.py\u001b[0m in \u001b[0;36m__call__\u001b[0;34m(self, iterable)\u001b[0m\n\u001b[1;32m   2005\u001b[0m         \u001b[0mnext\u001b[0m\u001b[0;34m(\u001b[0m\u001b[0moutput\u001b[0m\u001b[0;34m)\u001b[0m\u001b[0;34m\u001b[0m\u001b[0;34m\u001b[0m\u001b[0m\n\u001b[1;32m   2006\u001b[0m \u001b[0;34m\u001b[0m\u001b[0m\n\u001b[0;32m-> 2007\u001b[0;31m         \u001b[0;32mreturn\u001b[0m \u001b[0moutput\u001b[0m \u001b[0;32mif\u001b[0m \u001b[0mself\u001b[0m\u001b[0;34m.\u001b[0m\u001b[0mreturn_generator\u001b[0m \u001b[0;32melse\u001b[0m \u001b[0mlist\u001b[0m\u001b[0;34m(\u001b[0m\u001b[0moutput\u001b[0m\u001b[0;34m)\u001b[0m\u001b[0;34m\u001b[0m\u001b[0;34m\u001b[0m\u001b[0m\n\u001b[0m\u001b[1;32m   2008\u001b[0m \u001b[0;34m\u001b[0m\u001b[0m\n\u001b[1;32m   2009\u001b[0m     \u001b[0;32mdef\u001b[0m \u001b[0m__repr__\u001b[0m\u001b[0;34m(\u001b[0m\u001b[0mself\u001b[0m\u001b[0;34m)\u001b[0m\u001b[0;34m:\u001b[0m\u001b[0;34m\u001b[0m\u001b[0;34m\u001b[0m\u001b[0m\n",
            "\u001b[0;32m/usr/local/lib/python3.10/dist-packages/joblib/parallel.py\u001b[0m in \u001b[0;36m_get_outputs\u001b[0;34m(self, iterator, pre_dispatch)\u001b[0m\n\u001b[1;32m   1648\u001b[0m \u001b[0;34m\u001b[0m\u001b[0m\n\u001b[1;32m   1649\u001b[0m             \u001b[0;32mwith\u001b[0m \u001b[0mself\u001b[0m\u001b[0;34m.\u001b[0m\u001b[0m_backend\u001b[0m\u001b[0;34m.\u001b[0m\u001b[0mretrieval_context\u001b[0m\u001b[0;34m(\u001b[0m\u001b[0;34m)\u001b[0m\u001b[0;34m:\u001b[0m\u001b[0;34m\u001b[0m\u001b[0;34m\u001b[0m\u001b[0m\n\u001b[0;32m-> 1650\u001b[0;31m                 \u001b[0;32myield\u001b[0m \u001b[0;32mfrom\u001b[0m \u001b[0mself\u001b[0m\u001b[0;34m.\u001b[0m\u001b[0m_retrieve\u001b[0m\u001b[0;34m(\u001b[0m\u001b[0;34m)\u001b[0m\u001b[0;34m\u001b[0m\u001b[0;34m\u001b[0m\u001b[0m\n\u001b[0m\u001b[1;32m   1651\u001b[0m \u001b[0;34m\u001b[0m\u001b[0m\n\u001b[1;32m   1652\u001b[0m         \u001b[0;32mexcept\u001b[0m \u001b[0mGeneratorExit\u001b[0m\u001b[0;34m:\u001b[0m\u001b[0;34m\u001b[0m\u001b[0;34m\u001b[0m\u001b[0m\n",
            "\u001b[0;32m/usr/local/lib/python3.10/dist-packages/joblib/parallel.py\u001b[0m in \u001b[0;36m_retrieve\u001b[0;34m(self)\u001b[0m\n\u001b[1;32m   1760\u001b[0m                 (self._jobs[0].get_status(\n\u001b[1;32m   1761\u001b[0m                     timeout=self.timeout) == TASK_PENDING)):\n\u001b[0;32m-> 1762\u001b[0;31m                 \u001b[0mtime\u001b[0m\u001b[0;34m.\u001b[0m\u001b[0msleep\u001b[0m\u001b[0;34m(\u001b[0m\u001b[0;36m0.01\u001b[0m\u001b[0;34m)\u001b[0m\u001b[0;34m\u001b[0m\u001b[0;34m\u001b[0m\u001b[0m\n\u001b[0m\u001b[1;32m   1763\u001b[0m                 \u001b[0;32mcontinue\u001b[0m\u001b[0;34m\u001b[0m\u001b[0;34m\u001b[0m\u001b[0m\n\u001b[1;32m   1764\u001b[0m \u001b[0;34m\u001b[0m\u001b[0m\n",
            "\u001b[0;31mKeyboardInterrupt\u001b[0m: "
          ]
        }
      ]
    },
    {
      "cell_type": "code",
      "source": [
        "# Genero predicciones para el test set\n",
        "y_test_pred = best_model.predict(X_test)"
      ],
      "metadata": {
        "id": "X2nVcz6yxfb8"
      },
      "id": "X2nVcz6yxfb8",
      "execution_count": null,
      "outputs": []
    },
    {
      "cell_type": "code",
      "source": [
        "salida = pd.DataFrame({'id': test_ids, 'price': y_test_pred})"
      ],
      "metadata": {
        "id": "xBFqPWO0xaN2"
      },
      "id": "xBFqPWO0xaN2",
      "execution_count": null,
      "outputs": []
    },
    {
      "cell_type": "code",
      "source": [
        "salida.to_csv(\"RandomForestGridSearch.csv\", index=False)"
      ],
      "metadata": {
        "id": "5B2tWMxdxhcZ"
      },
      "id": "5B2tWMxdxhcZ",
      "execution_count": null,
      "outputs": []
    },
    {
      "cell_type": "markdown",
      "source": [
        "## Aplico Gradient Boosting Machines"
      ],
      "metadata": {
        "id": "9_1C4vH-ySjJ"
      },
      "id": "9_1C4vH-ySjJ"
    },
    {
      "cell_type": "code",
      "source": [
        "from sklearn.ensemble import GradientBoostingRegressor"
      ],
      "metadata": {
        "id": "-JfQHiH7yVoF"
      },
      "id": "-JfQHiH7yVoF",
      "execution_count": 127,
      "outputs": []
    },
    {
      "cell_type": "code",
      "source": [
        "# Definir el modelo\n",
        "gb_model = GradientBoostingRegressor(n_estimators=100, random_state=42)\n",
        "\n",
        "# Entrenar el modelo\n",
        "gb_model.fit(X_train_split, y_train_split)\n",
        "\n",
        "# Evaluar en validación\n",
        "y_val_pred_gb = gb_model.predict(X_val)\n",
        "rmse_gb = np.sqrt(mean_squared_error(y_val, y_val_pred_gb))\n",
        "print(f\"RMSE con Gradient Boosting: {rmse_gb}\")"
      ],
      "metadata": {
        "colab": {
          "base_uri": "https://localhost:8080/"
        },
        "id": "YV-8VInXyX6L",
        "outputId": "27e615ac-c5e4-4d8e-94a2-abe53215cc43"
      },
      "id": "YV-8VInXyX6L",
      "execution_count": 128,
      "outputs": [
        {
          "output_type": "stream",
          "name": "stdout",
          "text": [
            "RMSE con Gradient Boosting: 68366.27574729809\n"
          ]
        }
      ]
    },
    {
      "cell_type": "code",
      "source": [
        "y_test_pred = gb_model.predict(X_test)"
      ],
      "metadata": {
        "id": "w2OkW6zwyelV"
      },
      "id": "w2OkW6zwyelV",
      "execution_count": 129,
      "outputs": []
    },
    {
      "cell_type": "code",
      "source": [
        "salida = pd.DataFrame({'id': test_ids, 'price': y_test_pred})"
      ],
      "metadata": {
        "id": "yWAbcq6jyf_-"
      },
      "id": "yWAbcq6jyf_-",
      "execution_count": 130,
      "outputs": []
    },
    {
      "cell_type": "code",
      "source": [
        "salida.to_csv(\"GBMean.csv\", index=False)"
      ],
      "metadata": {
        "id": "ReHyhYuhyigX"
      },
      "id": "ReHyhYuhyigX",
      "execution_count": 131,
      "outputs": []
    },
    {
      "cell_type": "markdown",
      "source": [
        "## Aplicar KNN"
      ],
      "metadata": {
        "id": "KnR6i4gt7dd4"
      },
      "id": "KnR6i4gt7dd4"
    },
    {
      "cell_type": "code",
      "source": [
        "from sklearn.preprocessing import StandardScaler\n",
        "\n",
        "scaler = StandardScaler()\n",
        "X_train_scaled = scaler.fit_transform(X_train_split)\n",
        "X_val_scaled = scaler.transform(X_val)"
      ],
      "metadata": {
        "id": "CjTHaa1Z7fen"
      },
      "id": "CjTHaa1Z7fen",
      "execution_count": 132,
      "outputs": []
    },
    {
      "cell_type": "code",
      "source": [
        "# incluir KNeighborsRegressor\n",
        "from sklearn.neighbors import KNeighborsRegressor"
      ],
      "metadata": {
        "id": "9QGTkc17iNI6"
      },
      "id": "9QGTkc17iNI6",
      "execution_count": 133,
      "outputs": []
    },
    {
      "cell_type": "code",
      "source": [
        "for k in range(1, 10):\n",
        "    knn = KNeighborsRegressor(n_neighbors=k)\n",
        "    knn.fit(X_train_scaled, y_train_split)\n",
        "    y_val_pred = knn.predict(X_val_scaled)\n",
        "    rmse = np.sqrt(mean_squared_error(y_val, y_val_pred))\n",
        "    print(f\"n_neighbors: {k}, RMSE: {rmse}\")"
      ],
      "metadata": {
        "colab": {
          "base_uri": "https://localhost:8080/"
        },
        "id": "AEfbNZI77sU9",
        "outputId": "c2a9f7af-617b-4fdc-c34c-136aaa1cec56"
      },
      "id": "AEfbNZI77sU9",
      "execution_count": 62,
      "outputs": [
        {
          "output_type": "stream",
          "name": "stdout",
          "text": [
            "n_neighbors: 1, RMSE: 101596.59781526652\n",
            "n_neighbors: 2, RMSE: 87882.77943886537\n",
            "n_neighbors: 3, RMSE: 81252.86263351598\n",
            "n_neighbors: 4, RMSE: 77571.39668624448\n",
            "n_neighbors: 5, RMSE: 75594.32628977267\n",
            "n_neighbors: 6, RMSE: 74329.77687908045\n",
            "n_neighbors: 7, RMSE: 73288.5676006131\n",
            "n_neighbors: 8, RMSE: 72693.78431843237\n",
            "n_neighbors: 9, RMSE: 72203.58466235109\n"
          ]
        }
      ]
    },
    {
      "cell_type": "code",
      "source": [
        "for k in range(10, 20):\n",
        "    knn = KNeighborsRegressor(n_neighbors=k)\n",
        "    knn.fit(X_train_scaled, y_train_split)\n",
        "    y_val_pred = knn.predict(X_val_scaled)\n",
        "    rmse = np.sqrt(mean_squared_error(y_val, y_val_pred))\n",
        "    print(f\"n_neighbors: {k}, RMSE: {rmse}\")"
      ],
      "metadata": {
        "colab": {
          "base_uri": "https://localhost:8080/"
        },
        "id": "h2UlUdpS9PAw",
        "outputId": "e2c8dc8c-cd5a-4c02-e6a2-a6aa35e9f7a9"
      },
      "id": "h2UlUdpS9PAw",
      "execution_count": 63,
      "outputs": [
        {
          "output_type": "stream",
          "name": "stdout",
          "text": [
            "n_neighbors: 10, RMSE: 71896.54192684645\n",
            "n_neighbors: 11, RMSE: 71594.37166683514\n",
            "n_neighbors: 12, RMSE: 71257.04399563101\n",
            "n_neighbors: 13, RMSE: 71026.24253904916\n",
            "n_neighbors: 14, RMSE: 70883.69068413024\n",
            "n_neighbors: 15, RMSE: 70716.43553191172\n",
            "n_neighbors: 16, RMSE: 70572.17661567082\n",
            "n_neighbors: 17, RMSE: 70374.98972965965\n",
            "n_neighbors: 18, RMSE: 70338.17249465398\n",
            "n_neighbors: 19, RMSE: 70223.91421008369\n"
          ]
        }
      ]
    },
    {
      "cell_type": "code",
      "source": [
        "from sklearn.neighbors import KNeighborsRegressor\n",
        "\n",
        "# Configura el modelo KNN\n",
        "knn = KNeighborsRegressor(n_neighbors=19)  # Puedes ajustar 'n_neighbors' para optimización\n",
        "knn.fit(X_train_scaled, y_train_split)\n",
        "\n",
        "# Realiza predicciones\n",
        "y_val_pred = knn.predict(X_val_scaled)"
      ],
      "metadata": {
        "id": "BPQKer8k7i3t"
      },
      "id": "BPQKer8k7i3t",
      "execution_count": 134,
      "outputs": []
    },
    {
      "cell_type": "code",
      "source": [
        "from sklearn.metrics import mean_squared_error\n",
        "import numpy as np\n",
        "\n",
        "rmse = np.sqrt(mean_squared_error(y_val, y_val_pred))\n",
        "print(f\"RMSE: {rmse}\")"
      ],
      "metadata": {
        "colab": {
          "base_uri": "https://localhost:8080/"
        },
        "id": "akrt4Z5F7mAi",
        "outputId": "8798d7ce-69de-441f-cb74-4da3086985d1"
      },
      "id": "akrt4Z5F7mAi",
      "execution_count": 135,
      "outputs": [
        {
          "output_type": "stream",
          "name": "stdout",
          "text": [
            "RMSE: 70259.06997226684\n"
          ]
        }
      ]
    },
    {
      "cell_type": "code",
      "source": [
        "y_test_pred = gb_model.predict(X_test)\n",
        "salida = pd.DataFrame({'id': test_ids, 'price': y_test_pred})\n",
        "salida.to_csv(\"KNNMean.csv\", index=False)"
      ],
      "metadata": {
        "id": "X2ohFFGE7rJC"
      },
      "id": "X2ohFFGE7rJC",
      "execution_count": null,
      "outputs": []
    }
  ],
  "metadata": {
    "kernelspec": {
      "display_name": "Python 3 (ipykernel)",
      "language": "python",
      "name": "python3"
    },
    "language_info": {
      "codemirror_mode": {
        "name": "ipython",
        "version": 3
      },
      "file_extension": ".py",
      "mimetype": "text/x-python",
      "name": "python",
      "nbconvert_exporter": "python",
      "pygments_lexer": "ipython3",
      "version": "3.12.7"
    },
    "name": "Ejemplo_procesamiento_competicion.ipynb",
    "colab": {
      "provenance": []
    }
  },
  "nbformat": 4,
  "nbformat_minor": 5
}